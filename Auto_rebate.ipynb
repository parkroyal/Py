{
 "cells": [
  {
   "cell_type": "code",
   "execution_count": 1,
   "metadata": {},
   "outputs": [],
   "source": [
    "from openpyxl import load_workbook\n",
    "import xlwings as xw\n",
    "import os \n",
    "import pandas as pd\n",
    "import numpy as np\n",
    "import re\n",
    "import itertools\n",
    "from datetime import date,timedelta\n",
    "from xlwings.constants import DeleteShiftDirection"
   ]
  },
  {
   "cell_type": "code",
   "execution_count": 2,
   "metadata": {},
   "outputs": [
    {
     "name": "stdout",
     "output_type": "stream",
     "text": [
      "20210115\n"
     ]
    }
   ],
   "source": [
    "# 今日日期\n",
    "today = date.today()\n",
    "d = timedelta(days = 3)\n",
    "today = today-d\n",
    "todaynum = str(today)[0:4] + str(today)[5:7] + str(today)[8:10]\n",
    "print(todaynum)\n",
    "todaymd = todaynum[4:]"
   ]
  },
  {
   "cell_type": "code",
   "execution_count": 3,
   "metadata": {},
   "outputs": [],
   "source": [
    "path = 'C:/Users/0305/Desktop/Daily PNL/2021-01/'+ todaymd \n",
    "os.chdir(path)"
   ]
  },
  {
   "cell_type": "code",
   "execution_count": 9,
   "metadata": {},
   "outputs": [
    {
     "data": {
      "text/html": [
       "<div>\n",
       "<style scoped>\n",
       "    .dataframe tbody tr th:only-of-type {\n",
       "        vertical-align: middle;\n",
       "    }\n",
       "\n",
       "    .dataframe tbody tr th {\n",
       "        vertical-align: top;\n",
       "    }\n",
       "\n",
       "    .dataframe thead th {\n",
       "        text-align: right;\n",
       "    }\n",
       "</style>\n",
       "<table border=\"1\" class=\"dataframe\">\n",
       "  <thead>\n",
       "    <tr style=\"text-align: right;\">\n",
       "      <th></th>\n",
       "      <th>Login</th>\n",
       "      <th>row</th>\n",
       "      <th>nday</th>\n",
       "      <th>BALANCE_PREV</th>\n",
       "      <th>PROFIT_CLOSED</th>\n",
       "      <th>DEPOSIT</th>\n",
       "      <th>BALANCE</th>\n",
       "      <th>PROFIT</th>\n",
       "      <th>CREDIT</th>\n",
       "      <th>EQUITY</th>\n",
       "      <th>MARGIN</th>\n",
       "      <th>MARGIN_FREE</th>\n",
       "    </tr>\n",
       "  </thead>\n",
       "  <tbody>\n",
       "    <tr>\n",
       "      <th>0</th>\n",
       "      <td>691234</td>\n",
       "      <td>9218</td>\n",
       "      <td>1</td>\n",
       "      <td>1525810.13</td>\n",
       "      <td>0.00</td>\n",
       "      <td>2833.60</td>\n",
       "      <td>1528643.73</td>\n",
       "      <td>0.00</td>\n",
       "      <td>0</td>\n",
       "      <td>1528643.73</td>\n",
       "      <td>0.000000e+00</td>\n",
       "      <td>1.528644e+06</td>\n",
       "    </tr>\n",
       "    <tr>\n",
       "      <th>1</th>\n",
       "      <td>691048</td>\n",
       "      <td>9232</td>\n",
       "      <td>1</td>\n",
       "      <td>1273154.66</td>\n",
       "      <td>0.00</td>\n",
       "      <td>2364.45</td>\n",
       "      <td>1275519.11</td>\n",
       "      <td>0.00</td>\n",
       "      <td>0</td>\n",
       "      <td>1275519.11</td>\n",
       "      <td>0.000000e+00</td>\n",
       "      <td>1.275519e+06</td>\n",
       "    </tr>\n",
       "    <tr>\n",
       "      <th>2</th>\n",
       "      <td>90096</td>\n",
       "      <td>9255</td>\n",
       "      <td>1</td>\n",
       "      <td>56709631.74</td>\n",
       "      <td>106027.17</td>\n",
       "      <td>398381.94</td>\n",
       "      <td>57214040.85</td>\n",
       "      <td>-20388426.05</td>\n",
       "      <td>0</td>\n",
       "      <td>36825614.80</td>\n",
       "      <td>3.148256e+06</td>\n",
       "      <td>3.367736e+07</td>\n",
       "    </tr>\n",
       "    <tr>\n",
       "      <th>3</th>\n",
       "      <td>691234</td>\n",
       "      <td>9178</td>\n",
       "      <td>2</td>\n",
       "      <td>1519296.47</td>\n",
       "      <td>0.00</td>\n",
       "      <td>6513.66</td>\n",
       "      <td>1525810.13</td>\n",
       "      <td>0.00</td>\n",
       "      <td>0</td>\n",
       "      <td>1525810.13</td>\n",
       "      <td>0.000000e+00</td>\n",
       "      <td>1.525810e+06</td>\n",
       "    </tr>\n",
       "    <tr>\n",
       "      <th>4</th>\n",
       "      <td>691048</td>\n",
       "      <td>9192</td>\n",
       "      <td>2</td>\n",
       "      <td>1267719.68</td>\n",
       "      <td>0.00</td>\n",
       "      <td>5434.98</td>\n",
       "      <td>1273154.66</td>\n",
       "      <td>0.00</td>\n",
       "      <td>0</td>\n",
       "      <td>1273154.66</td>\n",
       "      <td>0.000000e+00</td>\n",
       "      <td>1.273155e+06</td>\n",
       "    </tr>\n",
       "    <tr>\n",
       "      <th>5</th>\n",
       "      <td>90096</td>\n",
       "      <td>9215</td>\n",
       "      <td>2</td>\n",
       "      <td>55369994.03</td>\n",
       "      <td>239637.73</td>\n",
       "      <td>1099999.98</td>\n",
       "      <td>56709631.74</td>\n",
       "      <td>-21849058.13</td>\n",
       "      <td>0</td>\n",
       "      <td>34860573.61</td>\n",
       "      <td>3.220122e+06</td>\n",
       "      <td>3.164045e+07</td>\n",
       "    </tr>\n",
       "  </tbody>\n",
       "</table>\n",
       "</div>"
      ],
      "text/plain": [
       "    Login   row  nday  BALANCE_PREV  PROFIT_CLOSED     DEPOSIT      BALANCE  \\\n",
       "0  691234  9218     1    1525810.13           0.00     2833.60   1528643.73   \n",
       "1  691048  9232     1    1273154.66           0.00     2364.45   1275519.11   \n",
       "2   90096  9255     1   56709631.74      106027.17   398381.94  57214040.85   \n",
       "3  691234  9178     2    1519296.47           0.00     6513.66   1525810.13   \n",
       "4  691048  9192     2    1267719.68           0.00     5434.98   1273154.66   \n",
       "5   90096  9215     2   55369994.03      239637.73  1099999.98  56709631.74   \n",
       "\n",
       "        PROFIT  CREDIT       EQUITY        MARGIN   MARGIN_FREE  \n",
       "0         0.00       0   1528643.73  0.000000e+00  1.528644e+06  \n",
       "1         0.00       0   1275519.11  0.000000e+00  1.275519e+06  \n",
       "2 -20388426.05       0  36825614.80  3.148256e+06  3.367736e+07  \n",
       "3         0.00       0   1525810.13  0.000000e+00  1.525810e+06  \n",
       "4         0.00       0   1273154.66  0.000000e+00  1.273155e+06  \n",
       "5 -21849058.13       0  34860573.61  3.220122e+06  3.164045e+07  "
      ]
     },
     "execution_count": 9,
     "metadata": {},
     "output_type": "execute_result"
    }
   ],
   "source": [
    "# vfx\n",
    "# equity change\n",
    "equity_change = pd.read_csv('equity_change_vfx.csv')\n",
    "equity_change.head(12)\n",
    "\n"
   ]
  },
  {
   "cell_type": "code",
   "execution_count": null,
   "metadata": {},
   "outputs": [],
   "source": [
    "# 更改第一天權益\n",
    "wb = xw.books('B -PNL-vfx-'+str(todaynum)+'.xlsx')\n",
    "sht = wb.sheets['equity']\n",
    "df = equity_change[equity_change['nday']==1]\n",
    "for i in range(len(df.index)):\n",
    "    rownum = df.iloc[i, 1]\n",
    "    value = df.iloc[i, 3:]\n",
    "    # print(rownum)\n",
    "    # print(type(value))\n",
    "    # print(value.values)\n",
    "    sht.range('D'+str(rownum)+\":L\"+str(rownum)).value = value.values\n",
    "    sht.range('D'+str(rownum)+\":L\"+str(rownum)).color = (255,255,0)\n",
    "# 更改第二天權益\n",
    "sht = wb.sheets['equity_Y']\n",
    "df = equity_change[equity_change['nday']==2]\n",
    "for i in range(len(df.index)):\n",
    "    rownum = df.iloc[i, 1]\n",
    "    value = df.iloc[i, 3:]\n",
    "    # print(rownum)\n",
    "    # print(type(value))\n",
    "    # print(value.values)\n",
    "    sht.range('D'+str(rownum)+\":L\"+str(rownum)).value = value.values\n",
    "    sht.range('D'+str(rownum)+\":L\"+str(rownum)).color = (255,255,0)"
   ]
  },
  {
   "cell_type": "code",
   "execution_count": 18,
   "metadata": {},
   "outputs": [
    {
     "data": {
      "text/html": [
       "<div>\n",
       "<style scoped>\n",
       "    .dataframe tbody tr th:only-of-type {\n",
       "        vertical-align: middle;\n",
       "    }\n",
       "\n",
       "    .dataframe tbody tr th {\n",
       "        vertical-align: top;\n",
       "    }\n",
       "\n",
       "    .dataframe thead th {\n",
       "        text-align: right;\n",
       "    }\n",
       "</style>\n",
       "<table border=\"1\" class=\"dataframe\">\n",
       "  <thead>\n",
       "    <tr style=\"text-align: right;\">\n",
       "      <th></th>\n",
       "      <th>Login</th>\n",
       "      <th>row</th>\n",
       "      <th>nday</th>\n",
       "      <th>BALANCE_PREV</th>\n",
       "      <th>PROFIT_CLOSED</th>\n",
       "      <th>DEPOSIT</th>\n",
       "      <th>BALANCE</th>\n",
       "      <th>PROFIT</th>\n",
       "      <th>CREDIT</th>\n",
       "      <th>EQUITY</th>\n",
       "      <th>MARGIN</th>\n",
       "      <th>MARGIN_FREE</th>\n",
       "    </tr>\n",
       "  </thead>\n",
       "  <tbody>\n",
       "    <tr>\n",
       "      <th>0</th>\n",
       "      <td>5309145</td>\n",
       "      <td>38951</td>\n",
       "      <td>1</td>\n",
       "      <td>357.75</td>\n",
       "      <td>50.2</td>\n",
       "      <td>0</td>\n",
       "      <td>537.32</td>\n",
       "      <td>72.18</td>\n",
       "      <td>0</td>\n",
       "      <td>609.50</td>\n",
       "      <td>33.889402</td>\n",
       "      <td>575.610598</td>\n",
       "    </tr>\n",
       "    <tr>\n",
       "      <th>1</th>\n",
       "      <td>5309145</td>\n",
       "      <td>38737</td>\n",
       "      <td>2</td>\n",
       "      <td>117.85</td>\n",
       "      <td>59.9</td>\n",
       "      <td>180</td>\n",
       "      <td>357.75</td>\n",
       "      <td>10.51</td>\n",
       "      <td>0</td>\n",
       "      <td>368.26</td>\n",
       "      <td>29.736657</td>\n",
       "      <td>338.523343</td>\n",
       "    </tr>\n",
       "  </tbody>\n",
       "</table>\n",
       "</div>"
      ],
      "text/plain": [
       "     Login    row  nday  BALANCE_PREV  PROFIT_CLOSED  DEPOSIT  BALANCE  \\\n",
       "0  5309145  38951     1        357.75           50.2        0   537.32   \n",
       "1  5309145  38737     2        117.85           59.9      180   357.75   \n",
       "\n",
       "   PROFIT  CREDIT  EQUITY     MARGIN  MARGIN_FREE  \n",
       "0   72.18       0  609.50  33.889402   575.610598  \n",
       "1   10.51       0  368.26  29.736657   338.523343  "
      ]
     },
     "execution_count": 18,
     "metadata": {},
     "output_type": "execute_result"
    }
   ],
   "source": [
    "# vfx2\n",
    "# equity change\n",
    "equity_change = pd.read_csv('equity_change_vfx2.csv')\n",
    "equity_change.head(12)"
   ]
  },
  {
   "cell_type": "code",
   "execution_count": 19,
   "metadata": {},
   "outputs": [],
   "source": [
    "# 更改第一天權益\n",
    "wb = xw.books('B -PNL-vfx2-'+str(todaynum)+'.xlsx')\n",
    "sht = wb.sheets['equity']\n",
    "df = equity_change[equity_change['nday']==1]\n",
    "for i in range(len(df.index)):\n",
    "    rownum = df.iloc[i, 1]\n",
    "    value = df.iloc[i, 3:]\n",
    "    # print(rownum)\n",
    "    # print(type(value))\n",
    "    # print(value.values)\n",
    "    sht.range('D'+str(rownum)+\":L\"+str(rownum)).value = value.values\n",
    "    sht.range('D'+str(rownum)+\":L\"+str(rownum)).color = (255,255,0)\n",
    "# 更改第二天權益\n",
    "sht = wb.sheets['equity_Y']\n",
    "df = equity_change[equity_change['nday']==2]\n",
    "for i in range(len(df.index)):\n",
    "    rownum = df.iloc[i, 1]\n",
    "    value = df.iloc[i, 3:]\n",
    "    # print(rownum)\n",
    "    # print(type(value))\n",
    "    # print(value.values)\n",
    "    sht.range('D'+str(rownum)+\":L\"+str(rownum)).value = value.values\n",
    "    sht.range('D'+str(rownum)+\":L\"+str(rownum)).color = (255,255,0)"
   ]
  },
  {
   "cell_type": "code",
   "execution_count": 264,
   "metadata": {},
   "outputs": [
    {
     "data": {
      "text/html": [
       "<div>\n",
       "<style scoped>\n",
       "    .dataframe tbody tr th:only-of-type {\n",
       "        vertical-align: middle;\n",
       "    }\n",
       "\n",
       "    .dataframe tbody tr th {\n",
       "        vertical-align: top;\n",
       "    }\n",
       "\n",
       "    .dataframe thead th {\n",
       "        text-align: right;\n",
       "    }\n",
       "</style>\n",
       "<table border=\"1\" class=\"dataframe\">\n",
       "  <thead>\n",
       "    <tr style=\"text-align: right;\">\n",
       "      <th></th>\n",
       "      <th>inner_commission</th>\n",
       "      <th>outer_commission</th>\n",
       "    </tr>\n",
       "    <tr>\n",
       "      <th>mt4Account</th>\n",
       "      <th></th>\n",
       "      <th></th>\n",
       "    </tr>\n",
       "  </thead>\n",
       "  <tbody>\n",
       "    <tr>\n",
       "      <th>16679</th>\n",
       "      <td>1.546971</td>\n",
       "      <td>0</td>\n",
       "    </tr>\n",
       "    <tr>\n",
       "      <th>17912</th>\n",
       "      <td>1.031313</td>\n",
       "      <td>0</td>\n",
       "    </tr>\n",
       "    <tr>\n",
       "      <th>17962</th>\n",
       "      <td>2.406398</td>\n",
       "      <td>0</td>\n",
       "    </tr>\n",
       "    <tr>\n",
       "      <th>17967</th>\n",
       "      <td>0.343771</td>\n",
       "      <td>0</td>\n",
       "    </tr>\n",
       "    <tr>\n",
       "      <th>18233</th>\n",
       "      <td>6.703539</td>\n",
       "      <td>0</td>\n",
       "    </tr>\n",
       "  </tbody>\n",
       "</table>\n",
       "</div>"
      ],
      "text/plain": [
       "            inner_commission  outer_commission\n",
       "mt4Account                                    \n",
       "16679               1.546971                 0\n",
       "17912               1.031313                 0\n",
       "17962               2.406398                 0\n",
       "17967               0.343771                 0\n",
       "18233               6.703539                 0"
      ]
     },
     "execution_count": 264,
     "metadata": {},
     "output_type": "execute_result"
    }
   ],
   "source": [
    "# 讀取sales_commission & rebate 合併計算\n",
    "commission = pd.read_excel('VFX_sales_commission'+str(today)+'.xlsx' , sheet_name='usd')\n",
    "rebate  = pd.read_excel('VFX_rebate_report'+str(today)+'.xlsx' , sheet_name='usd')\n",
    "df = pd.concat([commission, rebate])\n",
    "df = df.groupby(['mt4Account']).agg({'inner_commission': \"sum\", 'outer_commission': \"sum\"})\n",
    "df.head()"
   ]
  },
  {
   "cell_type": "code",
   "execution_count": 265,
   "metadata": {},
   "outputs": [],
   "source": [
    "# copy pd.df to excel\n",
    "wb = xw.books('B -PNL-vfx-20210111.xlsx')\n",
    "sht = wb.sheets['rebate']\n",
    "rownumber_added = sht.range('A' + str(wb.sheets[0].cells.last_cell.row)).end('up').row + 1\n",
    "sht.range(\"A\"+str(rownumber_added)).options(index=True,header=False).value=df "
   ]
  },
  {
   "cell_type": "code",
   "execution_count": 266,
   "metadata": {},
   "outputs": [
    {
     "name": "stdout",
     "output_type": "stream",
     "text": [
      "['AU2 90034- Rebate_20210111.xlsx', 'AU2 90050- Rebate_20210111.xlsx', 'AU2 90076- Rebate_20210111.xlsx', 'AU2 90085- Rebate_20210111.xlsx', 'AU2 90094- Rebate_20210111.xlsx']\n"
     ]
    }
   ],
   "source": [
    "# vfx\n",
    "files = [f for f in os.listdir('.') if os.path.isfile(f)]\n",
    "r = re.compile(\"^AU1 \")\n",
    "newlist1 = list(filter(r.match, files)) # Read Note\n",
    "r = re.compile(\"^AU2 \")\n",
    "newlist2 = list(filter(r.match, files)) # Read Note\n",
    "r = re.compile(\"^UK1 \")\n",
    "newlist3 = list(filter(r.match, files)) # Read Note\n",
    "r = re.compile(\"^UK2 \")\n",
    "newlist4 = list(filter(r.match, files)) # Read Note\n",
    "rebate_files = newlist1+newlist2+newlist3+newlist4\n",
    "print(rebate_files)"
   ]
  },
  {
   "cell_type": "code",
   "execution_count": 267,
   "metadata": {},
   "outputs": [
    {
     "name": "stdout",
     "output_type": "stream",
     "text": [
      "P5:AG500\n"
     ]
    }
   ],
   "source": [
    "#i='AU2 90034- Rebate_20210111.xlsx'\n",
    "#wb = xw.Book(i)\n",
    "#sht = wb.sheets['0111']\n",
    "#刪除 rebate 含有NA的交易紀錄\n",
    "#arrt = sht.range('AD:AD')[3:].value\n",
    "#type(arrt)\n",
    "#arrt =[x for x in arrt if x is not None]\n",
    "#print('P'+str(len(arrt)+4)+':AG500')\n",
    "#sht.range('P'+str(len(arrt)+4)+':AG500').clear()"
   ]
  },
  {
   "cell_type": "code",
   "execution_count": 268,
   "metadata": {},
   "outputs": [
    {
     "name": "stdout",
     "output_type": "stream",
     "text": [
      "AU2 90034- Rebate_20210111.xlsx\n",
      "P5:AG500\n",
      "[90034, 3.41903300076746, 5.4]\n",
      "AU2 90050- Rebate_20210111.xlsx\n",
      "P11:AG500\n",
      "[90050, 0.0, 0.0]\n",
      "AU2 90076- Rebate_20210111.xlsx\n",
      "P5:AG500\n",
      "[90076, 4.43207981580967, 7.0]\n",
      "AU2 90085- Rebate_20210111.xlsx\n",
      "P5:AG500\n",
      "[90085, 20.260936300844207, 32.0]\n",
      "AU2 90094- Rebate_20210111.xlsx\n",
      "P5:AG500\n",
      "[90094, 0.0, 0.0]\n",
      "[[90034, 3.41903300076746, 5.4], [90050, 0.0, 0.0], [90076, 4.43207981580967, 7.0], [90085, 20.260936300844207, 32.0], [90094, 0.0, 0.0]]\n"
     ]
    }
   ],
   "source": [
    "# 讀取需要手動更改之rebate\n",
    "data = []\n",
    "for i in rebate_files:\n",
    "    print(i)\n",
    "    login = int(i.split()[1].replace(\"-\",\"\"))\n",
    "    wb = xw.Book(i)\n",
    "    sht = wb.sheets['0111']\n",
    "    # 刪除 rebate 含有NA的交易紀錄\n",
    "    arrt = sht.range('AD:AD')[3:].value\n",
    "    type(arrt)\n",
    "    arrt =[x for x in arrt if x is not None]\n",
    "    print('P'+str(len(arrt)+4)+':AG500')\n",
    "    sht.range('P'+str(len(arrt)+4)+':AG500').clear()\n",
    "    rebate_arr = [login, sht.range('M10').value, sht.range('N10').value]\n",
    "    print(rebate_arr)\n",
    "    data.append(rebate_arr)\n",
    "    wb.close()\n",
    "print(data)"
   ]
  },
  {
   "cell_type": "code",
   "execution_count": 269,
   "metadata": {},
   "outputs": [
    {
     "data": {
      "text/html": [
       "<div>\n",
       "<style scoped>\n",
       "    .dataframe tbody tr th:only-of-type {\n",
       "        vertical-align: middle;\n",
       "    }\n",
       "\n",
       "    .dataframe tbody tr th {\n",
       "        vertical-align: top;\n",
       "    }\n",
       "\n",
       "    .dataframe thead th {\n",
       "        text-align: right;\n",
       "    }\n",
       "</style>\n",
       "<table border=\"1\" class=\"dataframe\">\n",
       "  <thead>\n",
       "    <tr style=\"text-align: right;\">\n",
       "      <th></th>\n",
       "      <th>mt4Account</th>\n",
       "      <th>inner_new</th>\n",
       "      <th>outer_new</th>\n",
       "    </tr>\n",
       "  </thead>\n",
       "  <tbody>\n",
       "    <tr>\n",
       "      <th>0</th>\n",
       "      <td>90034</td>\n",
       "      <td>3.419033</td>\n",
       "      <td>5.4</td>\n",
       "    </tr>\n",
       "    <tr>\n",
       "      <th>1</th>\n",
       "      <td>90050</td>\n",
       "      <td>0.000000</td>\n",
       "      <td>0.0</td>\n",
       "    </tr>\n",
       "    <tr>\n",
       "      <th>2</th>\n",
       "      <td>90076</td>\n",
       "      <td>4.432080</td>\n",
       "      <td>7.0</td>\n",
       "    </tr>\n",
       "    <tr>\n",
       "      <th>3</th>\n",
       "      <td>90085</td>\n",
       "      <td>20.260936</td>\n",
       "      <td>32.0</td>\n",
       "    </tr>\n",
       "    <tr>\n",
       "      <th>4</th>\n",
       "      <td>90094</td>\n",
       "      <td>0.000000</td>\n",
       "      <td>0.0</td>\n",
       "    </tr>\n",
       "  </tbody>\n",
       "</table>\n",
       "</div>"
      ],
      "text/plain": [
       "   mt4Account  inner_new  outer_new\n",
       "0       90034   3.419033        5.4\n",
       "1       90050   0.000000        0.0\n",
       "2       90076   4.432080        7.0\n",
       "3       90085  20.260936       32.0\n",
       "4       90094   0.000000        0.0"
      ]
     },
     "execution_count": 269,
     "metadata": {},
     "output_type": "execute_result"
    }
   ],
   "source": [
    "df = pd.DataFrame(data, columns=['mt4Account', 'inner_new', 'outer_new'])\n",
    "df.head()"
   ]
  },
  {
   "cell_type": "code",
   "execution_count": 270,
   "metadata": {},
   "outputs": [],
   "source": [
    "wb = xw.books('B -PNL-vfx-'+todaynum+'.xlsx')\n",
    "sht = wb.sheets['rebate']\n",
    "a = sht.range('A:A').value"
   ]
  },
  {
   "cell_type": "code",
   "execution_count": 271,
   "metadata": {},
   "outputs": [
    {
     "name": "stdout",
     "output_type": "stream",
     "text": [
      "90034.0\n",
      "90050.0\n",
      "90076.0\n",
      "90085.0\n",
      "90094 is not in list\n"
     ]
    }
   ],
   "source": [
    "for i in range(len(df.index)):\n",
    "    if df['mt4Account'][i] in a:\n",
    "        index = a.index(df['mt4Account'][i])\n",
    "        # df 取代舊值\n",
    "        print(sht.range('A'+str(index+1)).value)\n",
    "        sht.range('B'+str(index+1)).value = df['inner_new'][i] + df['outer_new'][i]\n",
    "        # sht.range('C'+str(index+1)).value = df['outer_new'][i]\n",
    "        sht.range('A'+str(index+1)+\":\"+'C'+str(index+1)).color = (255,255,0)\n",
    "    else:\n",
    "        print(str(df['mt4Account'][i]) + ' is not in list')\n"
   ]
  },
  {
   "cell_type": "code",
   "execution_count": 57,
   "metadata": {},
   "outputs": [
    {
     "name": "stdout",
     "output_type": "stream",
     "text": [
      "['AU3 91012- Rebate_20210108.xlsx']\n",
      "AU3 91012- Rebate_20210108.xlsx\n",
      "[91012, 0.0, 0.0]\n",
      "[[91012, 0.0, 0.0]]\n",
      "   mt4Account  inner_new  outer_new\n",
      "0       91012        0.0        0.0\n",
      "91012 is not in list\n"
     ]
    }
   ],
   "source": [
    "# vfx rebate \n",
    "r = re.compile(\"^AU3 \")\n",
    "newlist1 = list(filter(r.match, files)) # Read Note\n",
    "r = re.compile(\"^UK3 \")\n",
    "newlist2 = list(filter(r.match, files)) # Read Note\n",
    "rebate_files = newlist1+newlist2\n",
    "print(rebate_files)\n",
    "\n",
    "data = []\n",
    "for i in rebate_files:\n",
    "    print(i)\n",
    "    login = int(i.split()[1].replace(\"-\",\"\"))\n",
    "    # wb = load_workbook('B -PNL-vfx2-20210107.xlsx').\n",
    "    wb = xw.Book(i)\n",
    "    sht = wb.sheets['0108']\n",
    "    rebate_arr = [login, sht.range('M10').value, sht.range('N10').value]\n",
    "    print(rebate_arr)\n",
    "    data.append(rebate_arr)\n",
    "    wb.close()\n",
    "print(data)\n",
    "\n",
    "df = pd.DataFrame(data, columns=['mt4Account', 'inner_new', 'outer_new'])\n",
    "print(df.head())\n",
    "\n",
    "wb = xw.books('B -PNL-vfx2-20210108.xlsx')\n",
    "sht = wb.sheets['rebate']\n",
    "a = sht.range('A:A').value\n",
    "\n",
    "for i in range(len(df.index)):\n",
    "    if df['mt4Account'][i] in a:\n",
    "        index = a.index(df['mt4Account'][i])\n",
    "        # df 取代舊值\n",
    "        print(sht.range('A'+str(index+1)).value)\n",
    "        sht.range('B'+str(index+1)).value = df['inner_new'][i] + df['outer_new'][i]\n",
    "        # sht.range('C'+str(index+1)).value = df['outer_new'][i]\n",
    "        Range('A'+str(index+1)+\":\"+'C'+str(index+1)).color = (255,255,0)\n",
    "    else:\n",
    "        print(str(df['mt4Account'][i]) + ' is not in list')"
   ]
  },
  {
   "cell_type": "code",
   "execution_count": 4,
   "metadata": {},
   "outputs": [
    {
     "data": {
      "text/html": [
       "<div>\n",
       "<style scoped>\n",
       "    .dataframe tbody tr th:only-of-type {\n",
       "        vertical-align: middle;\n",
       "    }\n",
       "\n",
       "    .dataframe tbody tr th {\n",
       "        vertical-align: top;\n",
       "    }\n",
       "\n",
       "    .dataframe thead th {\n",
       "        text-align: right;\n",
       "    }\n",
       "</style>\n",
       "<table border=\"1\" class=\"dataframe\">\n",
       "  <thead>\n",
       "    <tr style=\"text-align: right;\">\n",
       "      <th></th>\n",
       "      <th>db</th>\n",
       "      <th>Login</th>\n",
       "      <th>Group</th>\n",
       "      <th>group</th>\n",
       "      <th>CCY</th>\n",
       "      <th>Deal</th>\n",
       "      <th>Type</th>\n",
       "      <th>Profit</th>\n",
       "      <th>Comment</th>\n",
       "      <th>IO</th>\n",
       "      <th>db2</th>\n",
       "      <th>Login2</th>\n",
       "      <th>Group2</th>\n",
       "      <th>group2</th>\n",
       "      <th>Date</th>\n",
       "      <th>VIG</th>\n",
       "      <th>MNT</th>\n",
       "    </tr>\n",
       "  </thead>\n",
       "  <tbody>\n",
       "    <tr>\n",
       "      <th>0</th>\n",
       "      <td>VAU1</td>\n",
       "      <td>10398</td>\n",
       "      <td>M_VFX_AUD</td>\n",
       "      <td>M</td>\n",
       "      <td>AUD</td>\n",
       "      <td>30872417</td>\n",
       "      <td>balance</td>\n",
       "      <td>-8.00</td>\n",
       "      <td>Transfer Out to 634256</td>\n",
       "      <td>out</td>\n",
       "      <td>VAU2</td>\n",
       "      <td>634256</td>\n",
       "      <td>M_VFX_AUD</td>\n",
       "      <td>M</td>\n",
       "      <td>2021-01-15</td>\n",
       "      <td>0</td>\n",
       "      <td>1</td>\n",
       "    </tr>\n",
       "    <tr>\n",
       "      <th>1</th>\n",
       "      <td>VAU1</td>\n",
       "      <td>23419</td>\n",
       "      <td>M_VIGT_USD</td>\n",
       "      <td>M</td>\n",
       "      <td>USD</td>\n",
       "      <td>30872686</td>\n",
       "      <td>balance</td>\n",
       "      <td>1.88</td>\n",
       "      <td>Transfer In from 679430</td>\n",
       "      <td>in</td>\n",
       "      <td>VAU2</td>\n",
       "      <td>679430</td>\n",
       "      <td>M_VIGT_P_USD</td>\n",
       "      <td>M</td>\n",
       "      <td>2021-01-15</td>\n",
       "      <td>1</td>\n",
       "      <td>1</td>\n",
       "    </tr>\n",
       "    <tr>\n",
       "      <th>2</th>\n",
       "      <td>VAU1</td>\n",
       "      <td>27216</td>\n",
       "      <td>M_VIG_S1727_AUD</td>\n",
       "      <td>M</td>\n",
       "      <td>AUD</td>\n",
       "      <td>30879943</td>\n",
       "      <td>balance</td>\n",
       "      <td>150.00</td>\n",
       "      <td>Transfer In from 629796</td>\n",
       "      <td>in</td>\n",
       "      <td>VAU1</td>\n",
       "      <td>629796</td>\n",
       "      <td>M_VIG_AUD</td>\n",
       "      <td>M</td>\n",
       "      <td>2021-01-15</td>\n",
       "      <td>1</td>\n",
       "      <td>1</td>\n",
       "    </tr>\n",
       "    <tr>\n",
       "      <th>3</th>\n",
       "      <td>VAU1</td>\n",
       "      <td>27216</td>\n",
       "      <td>M_VIG_S1727_AUD</td>\n",
       "      <td>M</td>\n",
       "      <td>AUD</td>\n",
       "      <td>30879950</td>\n",
       "      <td>balance</td>\n",
       "      <td>300.00</td>\n",
       "      <td>Transfer In from 629916</td>\n",
       "      <td>in</td>\n",
       "      <td>VAU1</td>\n",
       "      <td>629916</td>\n",
       "      <td>M_VIG_S1727_AUD</td>\n",
       "      <td>M</td>\n",
       "      <td>2021-01-15</td>\n",
       "      <td>1</td>\n",
       "      <td>1</td>\n",
       "    </tr>\n",
       "    <tr>\n",
       "      <th>4</th>\n",
       "      <td>VAU1</td>\n",
       "      <td>606956</td>\n",
       "      <td>M_VIG_USD</td>\n",
       "      <td>M</td>\n",
       "      <td>USD</td>\n",
       "      <td>30875145</td>\n",
       "      <td>balance</td>\n",
       "      <td>20.00</td>\n",
       "      <td>Transfer In from 614137</td>\n",
       "      <td>in</td>\n",
       "      <td>VAU1</td>\n",
       "      <td>614137</td>\n",
       "      <td>M_VIG_USD</td>\n",
       "      <td>M</td>\n",
       "      <td>2021-01-15</td>\n",
       "      <td>1</td>\n",
       "      <td>1</td>\n",
       "    </tr>\n",
       "  </tbody>\n",
       "</table>\n",
       "</div>"
      ],
      "text/plain": [
       "     db   Login            Group group  CCY      Deal     Type  Profit  \\\n",
       "0  VAU1   10398        M_VFX_AUD     M  AUD  30872417  balance   -8.00   \n",
       "1  VAU1   23419       M_VIGT_USD     M  USD  30872686  balance    1.88   \n",
       "2  VAU1   27216  M_VIG_S1727_AUD     M  AUD  30879943  balance  150.00   \n",
       "3  VAU1   27216  M_VIG_S1727_AUD     M  AUD  30879950  balance  300.00   \n",
       "4  VAU1  606956        M_VIG_USD     M  USD  30875145  balance   20.00   \n",
       "\n",
       "                   Comment   IO   db2  Login2           Group2 group2  \\\n",
       "0   Transfer Out to 634256  out  VAU2  634256        M_VFX_AUD      M   \n",
       "1  Transfer In from 679430   in  VAU2  679430     M_VIGT_P_USD      M   \n",
       "2  Transfer In from 629796   in  VAU1  629796        M_VIG_AUD      M   \n",
       "3  Transfer In from 629916   in  VAU1  629916  M_VIG_S1727_AUD      M   \n",
       "4  Transfer In from 614137   in  VAU1  614137        M_VIG_USD      M   \n",
       "\n",
       "         Date  VIG  MNT  \n",
       "0  2021-01-15    0    1  \n",
       "1  2021-01-15    1    1  \n",
       "2  2021-01-15    1    1  \n",
       "3  2021-01-15    1    1  \n",
       "4  2021-01-15    1    1  "
      ]
     },
     "execution_count": 4,
     "metadata": {},
     "output_type": "execute_result"
    }
   ],
   "source": [
    "# 讀取RT_value表\n",
    "vfxRaw = pd.read_excel(str(todaynum)+'_RTvalue.xlsx' , sheet_name= 'VFXRaw')\n",
    "vfxRaw.head()"
   ]
  },
  {
   "cell_type": "code",
   "execution_count": 5,
   "metadata": {},
   "outputs": [
    {
     "name": "stdout",
     "output_type": "stream",
     "text": [
      "[] []\n"
     ]
    }
   ],
   "source": [
    "# 1.刪除GROUP含有CAN字串\n",
    "# vfxRaw[vfxRaw['Group'].str.contains(r'CAN')]\n",
    "# type(np.where(vfxRaw['Group'].str.contains(r'CAN'))[0])\n",
    "can_rowsnumber = np.where(vfxRaw['Group'].str.contains(r'CAN'))[0]\n",
    "# 2.刪除COMMENT含有/div\n",
    "div_rowsnumber = np.where(vfxRaw['Comment'].str.contains(r'/div'))[0]\n",
    "# 3.填補rollback group\n",
    "vfxRaw['db2'].fillna(value=vfxRaw.groupby('Login')['db2'].unique(), inplace=True)\n",
    "rollback = vfxRaw[vfxRaw['Comment'].str.contains(r'/Rollback')]\n",
    "print(can_rowsnumber, div_rowsnumber)\n"
   ]
  },
  {
   "cell_type": "code",
   "execution_count": 6,
   "metadata": {},
   "outputs": [
    {
     "data": {
      "text/html": [
       "<div>\n",
       "<style scoped>\n",
       "    .dataframe tbody tr th:only-of-type {\n",
       "        vertical-align: middle;\n",
       "    }\n",
       "\n",
       "    .dataframe tbody tr th {\n",
       "        vertical-align: top;\n",
       "    }\n",
       "\n",
       "    .dataframe thead th {\n",
       "        text-align: right;\n",
       "    }\n",
       "</style>\n",
       "<table border=\"1\" class=\"dataframe\">\n",
       "  <thead>\n",
       "    <tr style=\"text-align: right;\">\n",
       "      <th></th>\n",
       "      <th>db</th>\n",
       "      <th>Login</th>\n",
       "      <th>Group</th>\n",
       "      <th>group</th>\n",
       "      <th>CCY</th>\n",
       "      <th>Deal</th>\n",
       "      <th>Type</th>\n",
       "      <th>Profit</th>\n",
       "      <th>Comment</th>\n",
       "      <th>IO</th>\n",
       "      <th>db2</th>\n",
       "      <th>Login2</th>\n",
       "      <th>Group2</th>\n",
       "      <th>group2</th>\n",
       "      <th>Date</th>\n",
       "      <th>VIG</th>\n",
       "      <th>MNT</th>\n",
       "    </tr>\n",
       "  </thead>\n",
       "  <tbody>\n",
       "  </tbody>\n",
       "</table>\n",
       "</div>"
      ],
      "text/plain": [
       "Empty DataFrame\n",
       "Columns: [db, Login, Group, group, CCY, Deal, Type, Profit, Comment, IO, db2, Login2, Group2, group2, Date, VIG, MNT]\n",
       "Index: []"
      ]
     },
     "execution_count": 6,
     "metadata": {},
     "output_type": "execute_result"
    }
   ],
   "source": [
    "# vfxRaw['db2'].fillna(value=20, inplace=False)\n",
    "vfxRaw[vfxRaw['Comment'].str.contains(r'/Rollback')]"
   ]
  },
  {
   "cell_type": "code",
   "execution_count": 232,
   "metadata": {},
   "outputs": [
    {
     "data": {
      "text/plain": [
       "0"
      ]
     },
     "execution_count": 232,
     "metadata": {},
     "output_type": "execute_result"
    }
   ],
   "source": [
    "len(div_rowsnumber)"
   ]
  },
  {
   "cell_type": "code",
   "execution_count": 229,
   "metadata": {},
   "outputs": [
    {
     "ename": "KeyError",
     "evalue": "'20210111_RTvalue.xlsx'",
     "output_type": "error",
     "traceback": [
      "\u001b[1;31m---------------------------------------------------------------------------\u001b[0m",
      "\u001b[1;31mcom_error\u001b[0m                                 Traceback (most recent call last)",
      "\u001b[1;32m~\\Anaconda3\\lib\\site-packages\\xlwings\\_xlwindows.py\u001b[0m in \u001b[0;36m__call__\u001b[1;34m(self, name_or_index)\u001b[0m\n\u001b[0;32m    451\u001b[0m         \u001b[1;32mtry\u001b[0m\u001b[1;33m:\u001b[0m\u001b[1;33m\u001b[0m\u001b[1;33m\u001b[0m\u001b[0m\n\u001b[1;32m--> 452\u001b[1;33m             \u001b[1;32mreturn\u001b[0m \u001b[0mBook\u001b[0m\u001b[1;33m(\u001b[0m\u001b[0mxl\u001b[0m\u001b[1;33m=\u001b[0m\u001b[0mself\u001b[0m\u001b[1;33m.\u001b[0m\u001b[0mxl\u001b[0m\u001b[1;33m(\u001b[0m\u001b[0mname_or_index\u001b[0m\u001b[1;33m)\u001b[0m\u001b[1;33m)\u001b[0m\u001b[1;33m\u001b[0m\u001b[1;33m\u001b[0m\u001b[0m\n\u001b[0m\u001b[0;32m    453\u001b[0m         \u001b[1;32mexcept\u001b[0m \u001b[0mpywintypes\u001b[0m\u001b[1;33m.\u001b[0m\u001b[0mcom_error\u001b[0m\u001b[1;33m:\u001b[0m\u001b[1;33m\u001b[0m\u001b[1;33m\u001b[0m\u001b[0m\n",
      "\u001b[1;32m~\\Anaconda3\\lib\\site-packages\\xlwings\\_xlwindows.py\u001b[0m in \u001b[0;36m__call__\u001b[1;34m(self, *args, **kwargs)\u001b[0m\n\u001b[0;32m    155\u001b[0m             \u001b[1;32mtry\u001b[0m\u001b[1;33m:\u001b[0m\u001b[1;33m\u001b[0m\u001b[1;33m\u001b[0m\u001b[0m\n\u001b[1;32m--> 156\u001b[1;33m                 \u001b[0mv\u001b[0m \u001b[1;33m=\u001b[0m \u001b[0mself\u001b[0m\u001b[1;33m.\u001b[0m\u001b[0m_inner\u001b[0m\u001b[1;33m(\u001b[0m\u001b[1;33m*\u001b[0m\u001b[0margs\u001b[0m\u001b[1;33m,\u001b[0m \u001b[1;33m**\u001b[0m\u001b[0mkwargs\u001b[0m\u001b[1;33m)\u001b[0m\u001b[1;33m\u001b[0m\u001b[1;33m\u001b[0m\u001b[0m\n\u001b[0m\u001b[0;32m    157\u001b[0m                 \u001b[1;32mif\u001b[0m \u001b[0misinstance\u001b[0m\u001b[1;33m(\u001b[0m\u001b[0mv\u001b[0m\u001b[1;33m,\u001b[0m \u001b[1;33m(\u001b[0m\u001b[0mCDispatch\u001b[0m\u001b[1;33m,\u001b[0m \u001b[0mCoClassBaseClass\u001b[0m\u001b[1;33m,\u001b[0m \u001b[0mDispatchBaseClass\u001b[0m\u001b[1;33m)\u001b[0m\u001b[1;33m)\u001b[0m\u001b[1;33m:\u001b[0m\u001b[1;33m\u001b[0m\u001b[1;33m\u001b[0m\u001b[0m\n",
      "\u001b[1;32m~\\AppData\\Local\\Temp\\gen_py\\3.8\\00020813-0000-0000-C000-000000000046x0x1x9.py\u001b[0m in \u001b[0;36m__call__\u001b[1;34m(self, Index)\u001b[0m\n\u001b[0;32m  41311\u001b[0m         \u001b[1;32mdef\u001b[0m \u001b[0m__call__\u001b[0m\u001b[1;33m(\u001b[0m\u001b[0mself\u001b[0m\u001b[1;33m,\u001b[0m \u001b[0mIndex\u001b[0m\u001b[1;33m=\u001b[0m\u001b[0mdefaultNamedNotOptArg\u001b[0m\u001b[1;33m)\u001b[0m\u001b[1;33m:\u001b[0m\u001b[1;33m\u001b[0m\u001b[1;33m\u001b[0m\u001b[0m\n\u001b[1;32m> 41312\u001b[1;33m \t\tret = self._oleobj_.InvokeTypes(0, LCID, 2, (13, 0), ((12, 1),),Index\n\u001b[0m\u001b[0;32m  41313\u001b[0m \t\t\t)\n",
      "\u001b[1;31mcom_error\u001b[0m: (-2147352567, '發生例外狀況。', (0, None, None, None, 0, -2147352565), None)",
      "\nDuring handling of the above exception, another exception occurred:\n",
      "\u001b[1;31mKeyError\u001b[0m                                  Traceback (most recent call last)",
      "\u001b[1;32m<ipython-input-229-e7ea8d630858>\u001b[0m in \u001b[0;36m<module>\u001b[1;34m\u001b[0m\n\u001b[0;32m      1\u001b[0m \u001b[1;31m# 修改RT_value表\u001b[0m\u001b[1;33m\u001b[0m\u001b[1;33m\u001b[0m\u001b[1;33m\u001b[0m\u001b[0m\n\u001b[1;32m----> 2\u001b[1;33m \u001b[0mwb\u001b[0m \u001b[1;33m=\u001b[0m \u001b[0mxw\u001b[0m\u001b[1;33m.\u001b[0m\u001b[0mbooks\u001b[0m\u001b[1;33m(\u001b[0m\u001b[1;34m'20210111_RTvalue.xlsx'\u001b[0m\u001b[1;33m)\u001b[0m\u001b[1;33m\u001b[0m\u001b[1;33m\u001b[0m\u001b[0m\n\u001b[0m\u001b[0;32m      3\u001b[0m \u001b[1;31m# 使用工作表\u001b[0m\u001b[1;33m\u001b[0m\u001b[1;33m\u001b[0m\u001b[1;33m\u001b[0m\u001b[0m\n\u001b[0;32m      4\u001b[0m \u001b[0mvfx\u001b[0m \u001b[1;33m=\u001b[0m \u001b[0mwb\u001b[0m\u001b[1;33m.\u001b[0m\u001b[0msheets\u001b[0m\u001b[1;33m[\u001b[0m\u001b[1;34m'VFXRaw'\u001b[0m\u001b[1;33m]\u001b[0m\u001b[1;33m\u001b[0m\u001b[1;33m\u001b[0m\u001b[0m\n\u001b[0;32m      5\u001b[0m \u001b[1;33m\u001b[0m\u001b[0m\n",
      "\u001b[1;32m~\\Anaconda3\\lib\\site-packages\\xlwings\\main.py\u001b[0m in \u001b[0;36m__call__\u001b[1;34m(self, name_or_index)\u001b[0m\n\u001b[0;32m     45\u001b[0m \u001b[1;33m\u001b[0m\u001b[0m\n\u001b[0;32m     46\u001b[0m     \u001b[1;32mdef\u001b[0m \u001b[0m__call__\u001b[0m\u001b[1;33m(\u001b[0m\u001b[0mself\u001b[0m\u001b[1;33m,\u001b[0m \u001b[0mname_or_index\u001b[0m\u001b[1;33m)\u001b[0m\u001b[1;33m:\u001b[0m\u001b[1;33m\u001b[0m\u001b[1;33m\u001b[0m\u001b[0m\n\u001b[1;32m---> 47\u001b[1;33m         \u001b[1;32mreturn\u001b[0m \u001b[0mself\u001b[0m\u001b[1;33m.\u001b[0m\u001b[0m_wrap\u001b[0m\u001b[1;33m(\u001b[0m\u001b[0mimpl\u001b[0m\u001b[1;33m=\u001b[0m\u001b[0mself\u001b[0m\u001b[1;33m.\u001b[0m\u001b[0mimpl\u001b[0m\u001b[1;33m(\u001b[0m\u001b[0mname_or_index\u001b[0m\u001b[1;33m)\u001b[0m\u001b[1;33m)\u001b[0m\u001b[1;33m\u001b[0m\u001b[1;33m\u001b[0m\u001b[0m\n\u001b[0m\u001b[0;32m     48\u001b[0m \u001b[1;33m\u001b[0m\u001b[0m\n\u001b[0;32m     49\u001b[0m     \u001b[1;32mdef\u001b[0m \u001b[0m__len__\u001b[0m\u001b[1;33m(\u001b[0m\u001b[0mself\u001b[0m\u001b[1;33m)\u001b[0m\u001b[1;33m:\u001b[0m\u001b[1;33m\u001b[0m\u001b[1;33m\u001b[0m\u001b[0m\n",
      "\u001b[1;32m~\\Anaconda3\\lib\\site-packages\\xlwings\\_xlwindows.py\u001b[0m in \u001b[0;36m__call__\u001b[1;34m(self, name_or_index)\u001b[0m\n\u001b[0;32m    452\u001b[0m             \u001b[1;32mreturn\u001b[0m \u001b[0mBook\u001b[0m\u001b[1;33m(\u001b[0m\u001b[0mxl\u001b[0m\u001b[1;33m=\u001b[0m\u001b[0mself\u001b[0m\u001b[1;33m.\u001b[0m\u001b[0mxl\u001b[0m\u001b[1;33m(\u001b[0m\u001b[0mname_or_index\u001b[0m\u001b[1;33m)\u001b[0m\u001b[1;33m)\u001b[0m\u001b[1;33m\u001b[0m\u001b[1;33m\u001b[0m\u001b[0m\n\u001b[0;32m    453\u001b[0m         \u001b[1;32mexcept\u001b[0m \u001b[0mpywintypes\u001b[0m\u001b[1;33m.\u001b[0m\u001b[0mcom_error\u001b[0m\u001b[1;33m:\u001b[0m\u001b[1;33m\u001b[0m\u001b[1;33m\u001b[0m\u001b[0m\n\u001b[1;32m--> 454\u001b[1;33m             \u001b[1;32mraise\u001b[0m \u001b[0mKeyError\u001b[0m\u001b[1;33m(\u001b[0m\u001b[0mname_or_index\u001b[0m\u001b[1;33m)\u001b[0m\u001b[1;33m\u001b[0m\u001b[1;33m\u001b[0m\u001b[0m\n\u001b[0m\u001b[0;32m    455\u001b[0m \u001b[1;33m\u001b[0m\u001b[0m\n\u001b[0;32m    456\u001b[0m     \u001b[1;32mdef\u001b[0m \u001b[0m__len__\u001b[0m\u001b[1;33m(\u001b[0m\u001b[0mself\u001b[0m\u001b[1;33m)\u001b[0m\u001b[1;33m:\u001b[0m\u001b[1;33m\u001b[0m\u001b[1;33m\u001b[0m\u001b[0m\n",
      "\u001b[1;31mKeyError\u001b[0m: '20210111_RTvalue.xlsx'"
     ]
    }
   ],
   "source": [
    "# 修改RT_value表\n",
    "wb = xw.books('20210111_RTvalue.xlsx')\n",
    "# 使用工作表\n",
    "vfx = wb.sheets['VFXRaw']\n",
    "\n",
    "# GROUP 含有加拿大資料處理\n",
    "if len(can_rowsnumber) > 0 :\n",
    "    # create sheet 'CAN'\n",
    "    wb.sheets.add('CAN')\n",
    "    can = wb.sheets['CAN']\n",
    "    # sht = wb.sheets['CAN']\n",
    "    # 複製colnames至CAN SHEET\n",
    "    my_values = vfx.range('A1:Q1').value \n",
    "    print(my_values)\n",
    "    can.range('A1:Q1').value = my_values\n",
    "    # 複製row至CAN SHEET\n",
    "    for i in range(len(can_rowsnumber)):\n",
    "        my_values = vfx.range('A'+str(can_rowsnumber[i]+2)+':Q'+str(can_rowsnumber[i]+2)).value \n",
    "        print(my_values)\n",
    "        can.range('A'+str(i+2)+':Q'+str(i+2)).value = my_values\n",
    "    # 刪除row\n",
    "    for i in range(len(can_rowsnumber)):\n",
    "        print(can_rowsnumber[i])\n",
    "        vfx.range('A'+str(can_rowsnumber[i]+2-i)+':Q'+str(can_rowsnumber[i]+2-i)).api.Delete(DeleteShiftDirection.xlShiftUp) \n",
    "\n",
    "if len(div_rowsnumber) > 0:\n",
    "    # 刪除row\n",
    "    for i in range(len(div_rowsnumber)):\n",
    "        print(div_rowsnumber[i])\n",
    "        vfx.range('A'+str(div_rowsnumber[i]+2-i)+':Q'+str(div_rowsnumber[i]+2-i)).api.Delete(DeleteShiftDirection.xlShiftUp)\n",
    "\n",
    "# Delete row 2\n",
    "# sht.range('2:2').api.Delete(DeleteShiftDirection.xlShiftUp) \n",
    "wb.save()\n",
    "# app.kill()"
   ]
  },
  {
   "cell_type": "code",
   "execution_count": 234,
   "metadata": {},
   "outputs": [
    {
     "data": {
      "text/html": [
       "<div>\n",
       "<style scoped>\n",
       "    .dataframe tbody tr th:only-of-type {\n",
       "        vertical-align: middle;\n",
       "    }\n",
       "\n",
       "    .dataframe tbody tr th {\n",
       "        vertical-align: top;\n",
       "    }\n",
       "\n",
       "    .dataframe thead th {\n",
       "        text-align: right;\n",
       "    }\n",
       "</style>\n",
       "<table border=\"1\" class=\"dataframe\">\n",
       "  <thead>\n",
       "    <tr style=\"text-align: right;\">\n",
       "      <th></th>\n",
       "      <th>db_eq</th>\n",
       "      <th>Login</th>\n",
       "      <th>Group_eq</th>\n",
       "      <th>當日 balance = 昨日 balance</th>\n",
       "      <th>closed pnl in raw = closed pnl in equity</th>\n",
       "      <th>PL balance + Closed balance + Deposit = balance</th>\n",
       "      <th>Check Floating</th>\n",
       "      <th>算法2的E PNL是否正確</th>\n",
       "      <th>Difference in two ways</th>\n",
       "    </tr>\n",
       "  </thead>\n",
       "  <tbody>\n",
       "    <tr>\n",
       "      <th>0</th>\n",
       "      <td>VAU1</td>\n",
       "      <td>6002763</td>\n",
       "      <td>M_NS_PRO2_AUD</td>\n",
       "      <td>0.000000e+00</td>\n",
       "      <td>0.0</td>\n",
       "      <td>0.0</td>\n",
       "      <td>0.000000e+00</td>\n",
       "      <td>0.0</td>\n",
       "      <td>0.000000e+00</td>\n",
       "    </tr>\n",
       "    <tr>\n",
       "      <th>1</th>\n",
       "      <td>VAU1</td>\n",
       "      <td>6002575</td>\n",
       "      <td>M_NS_PRO2_AUD</td>\n",
       "      <td>0.000000e+00</td>\n",
       "      <td>0.0</td>\n",
       "      <td>0.0</td>\n",
       "      <td>0.000000e+00</td>\n",
       "      <td>0.0</td>\n",
       "      <td>0.000000e+00</td>\n",
       "    </tr>\n",
       "    <tr>\n",
       "      <th>2</th>\n",
       "      <td>VAU1</td>\n",
       "      <td>6002419</td>\n",
       "      <td>M_NS_PRO2_AUD</td>\n",
       "      <td>-3.641532e-14</td>\n",
       "      <td>0.0</td>\n",
       "      <td>0.0</td>\n",
       "      <td>5.329071e-15</td>\n",
       "      <td>0.0</td>\n",
       "      <td>-1.421085e-14</td>\n",
       "    </tr>\n",
       "    <tr>\n",
       "      <th>3</th>\n",
       "      <td>VAU1</td>\n",
       "      <td>6002340</td>\n",
       "      <td>M_NS_PRO2_AUD</td>\n",
       "      <td>0.000000e+00</td>\n",
       "      <td>0.0</td>\n",
       "      <td>0.0</td>\n",
       "      <td>0.000000e+00</td>\n",
       "      <td>0.0</td>\n",
       "      <td>0.000000e+00</td>\n",
       "    </tr>\n",
       "    <tr>\n",
       "      <th>4</th>\n",
       "      <td>VAU1</td>\n",
       "      <td>6002147</td>\n",
       "      <td>M_NS_PRO2_AUD</td>\n",
       "      <td>0.000000e+00</td>\n",
       "      <td>0.0</td>\n",
       "      <td>0.0</td>\n",
       "      <td>0.000000e+00</td>\n",
       "      <td>0.0</td>\n",
       "      <td>-8.881784e-16</td>\n",
       "    </tr>\n",
       "  </tbody>\n",
       "</table>\n",
       "</div>"
      ],
      "text/plain": [
       "  db_eq    Login       Group_eq  當日 balance = 昨日 balance  \\\n",
       "0  VAU1  6002763  M_NS_PRO2_AUD             0.000000e+00   \n",
       "1  VAU1  6002575  M_NS_PRO2_AUD             0.000000e+00   \n",
       "2  VAU1  6002419  M_NS_PRO2_AUD            -3.641532e-14   \n",
       "3  VAU1  6002340  M_NS_PRO2_AUD             0.000000e+00   \n",
       "4  VAU1  6002147  M_NS_PRO2_AUD             0.000000e+00   \n",
       "\n",
       "   closed pnl in raw = closed pnl in equity  \\\n",
       "0                                       0.0   \n",
       "1                                       0.0   \n",
       "2                                       0.0   \n",
       "3                                       0.0   \n",
       "4                                       0.0   \n",
       "\n",
       "   PL balance + Closed balance + Deposit = balance  Check Floating  \\\n",
       "0                                              0.0    0.000000e+00   \n",
       "1                                              0.0    0.000000e+00   \n",
       "2                                              0.0    5.329071e-15   \n",
       "3                                              0.0    0.000000e+00   \n",
       "4                                              0.0    0.000000e+00   \n",
       "\n",
       "   算法2的E PNL是否正確  Difference in two ways  \n",
       "0            0.0            0.000000e+00  \n",
       "1            0.0            0.000000e+00  \n",
       "2            0.0           -1.421085e-14  \n",
       "3            0.0            0.000000e+00  \n",
       "4            0.0           -8.881784e-16  "
      ]
     },
     "execution_count": 234,
     "metadata": {},
     "output_type": "execute_result"
    }
   ],
   "source": [
    "# 找誤差過大row 更改equity & equity_Y\n",
    "check = pd.read_excel('b_vfx_check20210111.xlsx')\n",
    "# 總誤差\n",
    "total_error = sum(check['PL balance + Closed balance + Deposit = balance'])\n",
    "check.head()"
   ]
  },
  {
   "cell_type": "code",
   "execution_count": 235,
   "metadata": {},
   "outputs": [],
   "source": [
    "# Bbook 驗證兩種差距過大\n",
    "wb = xw.books('B -PNL-vfx-20210111.xlsx')\n",
    "sht = wb.sheets['PNL']\n",
    "# 幣別與誤差\n",
    "# bbook\n",
    "bbook_error = [sht.range('A38:A46').value, sht.range('H38:H46').value]\n",
    "bbook_error.append(np.repeat('M', len(bbook_error[0])))\n",
    "bbook_error = list(map(list, zip(*bbook_error)))\n",
    "# sbook\n",
    "sbook_error = [sht.range('A51:A59').value, sht.range('H51:H59').value]\n",
    "sbook_error.append(np.repeat('S', len(sbook_error[0])))\n",
    "sbook_error = list(map(list, zip(*sbook_error)))\n",
    "book_error = bbook_error + sbook_error"
   ]
  },
  {
   "cell_type": "code",
   "execution_count": 4,
   "metadata": {},
   "outputs": [
    {
     "ename": "SyntaxError",
     "evalue": "unexpected EOF while parsing (<ipython-input-4-679b189a99f4>, line 7)",
     "output_type": "error",
     "traceback": [
      "\u001b[1;36m  File \u001b[1;32m\"<ipython-input-4-679b189a99f4>\"\u001b[1;36m, line \u001b[1;32m7\u001b[0m\n\u001b[1;33m    \u001b[0m\n\u001b[1;37m    ^\u001b[0m\n\u001b[1;31mSyntaxError\u001b[0m\u001b[1;31m:\u001b[0m unexpected EOF while parsing\n"
     ]
    }
   ],
   "source": [
    "l = []\n",
    "arr = check['PL balance + Closed balance + Deposit = balance'].values\n",
    "while abs(total_error) > 2:\n",
    "    if total_error < 0:\n",
    "        k = np.array()\n",
    "    if total_error > 0:\n",
    "        "
   ]
  },
  {
   "cell_type": "code",
   "execution_count": 5,
   "metadata": {},
   "outputs": [
    {
     "ename": "NameError",
     "evalue": "name 'arr' is not defined",
     "output_type": "error",
     "traceback": [
      "\u001b[1;31m---------------------------------------------------------------------------\u001b[0m",
      "\u001b[1;31mNameError\u001b[0m                                 Traceback (most recent call last)",
      "\u001b[1;32m<ipython-input-5-2304c71aec5c>\u001b[0m in \u001b[0;36m<module>\u001b[1;34m\u001b[0m\n\u001b[1;32m----> 1\u001b[1;33m \u001b[0marr\u001b[0m\u001b[1;33m\u001b[0m\u001b[1;33m\u001b[0m\u001b[0m\n\u001b[0m\u001b[0;32m      2\u001b[0m \u001b[0mresult\u001b[0m \u001b[1;33m=\u001b[0m \u001b[0mnp\u001b[0m\u001b[1;33m.\u001b[0m\u001b[0msort\u001b[0m\u001b[1;33m(\u001b[0m\u001b[0marr\u001b[0m\u001b[1;33m)\u001b[0m\u001b[1;33m\u001b[0m\u001b[1;33m\u001b[0m\u001b[0m\n\u001b[0;32m      3\u001b[0m \u001b[0mprint\u001b[0m\u001b[1;33m(\u001b[0m\u001b[0mresult\u001b[0m\u001b[1;33m)\u001b[0m\u001b[1;33m\u001b[0m\u001b[1;33m\u001b[0m\u001b[0m\n\u001b[0;32m      4\u001b[0m \u001b[0mresult2\u001b[0m \u001b[1;33m=\u001b[0m \u001b[0mnp\u001b[0m\u001b[1;33m.\u001b[0m\u001b[0mpartition\u001b[0m\u001b[1;33m(\u001b[0m\u001b[0mresult\u001b[0m\u001b[1;33m,\u001b[0m \u001b[0mkth\u001b[0m\u001b[1;33m=\u001b[0m\u001b[1;36m2\u001b[0m\u001b[1;33m,\u001b[0m \u001b[0maxis\u001b[0m\u001b[1;33m=\u001b[0m\u001b[1;36m0\u001b[0m\u001b[1;33m)\u001b[0m\u001b[1;33m[\u001b[0m\u001b[1;36m2\u001b[0m\u001b[1;33m]\u001b[0m\u001b[1;33m\u001b[0m\u001b[1;33m\u001b[0m\u001b[0m\n\u001b[0;32m      5\u001b[0m \u001b[0mprint\u001b[0m\u001b[1;33m(\u001b[0m\u001b[0mresult2\u001b[0m\u001b[1;33m)\u001b[0m\u001b[1;33m\u001b[0m\u001b[1;33m\u001b[0m\u001b[0m\n",
      "\u001b[1;31mNameError\u001b[0m: name 'arr' is not defined"
     ]
    }
   ],
   "source": []
  },
  {
   "cell_type": "code",
   "execution_count": 6,
   "metadata": {},
   "outputs": [
    {
     "data": {
      "text/plain": [
       "90"
      ]
     },
     "execution_count": 6,
     "metadata": {},
     "output_type": "execute_result"
    }
   ],
   "source": [
    "a = np.array([90,10,30,40,80,70,20,50,60,0])\n",
    "np.partition(a, -1)[-1]"
   ]
  },
  {
   "cell_type": "code",
   "execution_count": 78,
   "metadata": {},
   "outputs": [],
   "source": [
    "\n"
   ]
  },
  {
   "cell_type": "code",
   "execution_count": 101,
   "metadata": {},
   "outputs": [],
   "source": []
  },
  {
   "cell_type": "code",
   "execution_count": 102,
   "metadata": {},
   "outputs": [
    {
     "data": {
      "text/plain": [
       "[['AUD', -6.849999999933061, 'M'],\n",
       " ['EUR', -0.43399999802932143, 'M'],\n",
       " ['GBP', -0.6475000008940697, 'M'],\n",
       " ['JPY', 6.0, 'M'],\n",
       " ['SGD', 0.13229999999020947, 'M'],\n",
       " ['USD', 5.129999994067475, 'M'],\n",
       " ['CAD', 0.009999999999990905, 'M'],\n",
       " ['NZD', -3.694822225952521e-13, 'M'],\n",
       " ['HKD', -6.649999996647239, 'M'],\n",
       " ['AUD', 0.0, 'S'],\n",
       " ['EUR', -0.004000000000473847, 'S'],\n",
       " ['GBP', -0.020000000000436557, 'S'],\n",
       " ['JPY', 0.0, 'S'],\n",
       " ['SGD', 0.0, 'S'],\n",
       " ['USD', 4.360000000000127, 'S'],\n",
       " ['CAD', 0.0, 'S'],\n",
       " ['NZD', 0.0, 'S'],\n",
       " ['HKD', 0.0, 'S']]"
      ]
     },
     "execution_count": 102,
     "metadata": {},
     "output_type": "execute_result"
    }
   ],
   "source": [
    "book_error"
   ]
  },
  {
   "cell_type": "code",
   "execution_count": 93,
   "metadata": {},
   "outputs": [
    {
     "data": {
      "text/plain": [
       "9"
      ]
     },
     "execution_count": 93,
     "metadata": {},
     "output_type": "execute_result"
    }
   ],
   "source": [
    "# 從b book 誤差計算\n",
    "for i in range(len(bbook_error)):\n",
    "    "
   ]
  },
  {
   "cell_type": "code",
   "execution_count": null,
   "metadata": {},
   "outputs": [],
   "source": []
  }
 ],
 "metadata": {
  "kernelspec": {
   "display_name": "Python 3",
   "language": "python",
   "name": "python3"
  },
  "language_info": {
   "codemirror_mode": {
    "name": "ipython",
    "version": 3
   },
   "file_extension": ".py",
   "mimetype": "text/x-python",
   "name": "python",
   "nbconvert_exporter": "python",
   "pygments_lexer": "ipython3",
   "version": "3.8.5"
  }
 },
 "nbformat": 4,
 "nbformat_minor": 4
}
