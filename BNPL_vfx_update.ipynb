{
 "cells": [
  {
   "cell_type": "code",
   "execution_count": 9,
   "metadata": {},
   "outputs": [],
   "source": [
    "from openpyxl import load_workbook\n",
    "import xlwings as xw\n",
    "import os \n",
    "import pandas as pd\n",
    "import numpy as np\n",
    "import re\n",
    "import itertools\n",
    "from datetime import date,timedelta\n",
    "from xlwings.constants import DeleteShiftDirection\n",
    "import pymysql\n",
    "from sqlalchemy import create_engine\n",
    "from sqlalchemy.engine.url import URL\n",
    "from dfply import *"
   ]
  },
  {
   "cell_type": "code",
   "execution_count": 10,
   "metadata": {},
   "outputs": [
    {
     "name": "stdout",
     "output_type": "stream",
     "text": [
      "2021-01-25 20210125 2021-01 0125\n"
     ]
    },
    {
     "data": {
      "text/plain": [
       "['20210125_LP_swap_detail.xlsx',\n",
       " '20210125_RTvalue.xlsx',\n",
       " 'AU2 90034- Rebate_20210125.xlsx',\n",
       " 'AU2 90050- Rebate_20210125.xlsx',\n",
       " 'AU2 90076- Rebate_20210125.xlsx',\n",
       " 'AU2 90085- Rebate_20210125.xlsx',\n",
       " 'AU2 90094- Rebate_20210125.xlsx',\n",
       " 'B -PNL-vfx-20210125.xlsx',\n",
       " 'B -PNL-vfx2-20210125.xlsx',\n",
       " 'B-PNL-Mt5-20210122.xlsx',\n",
       " 'B-PNL-Mt5-20210125.xlsx',\n",
       " 'b_vfx2_check20210125.xlsx',\n",
       " 'b_vfx_check20210125.xlsx',\n",
       " 'equity_change_vfx.csv',\n",
       " 'equity_change_vfx2.csv',\n",
       " 'Equity_VIG_20210125.xlsx',\n",
       " 'LP statement- 2021-0125.xlsx',\n",
       " 'mt4_bookchange_mt4_trades.csv',\n",
       " 'STP PL vfx-20210125.xlsx',\n",
       " 'VANTAGE-CFD PNL-20210125.xlsx',\n",
       " 'VANTAGE-stock PNL-20210125.xlsx',\n",
       " 'Vanuatu_VIG PNL-20210125.xlsx',\n",
       " '~$B -PNL-vfx-20210125.xlsx']"
      ]
     },
     "execution_count": 10,
     "metadata": {},
     "output_type": "execute_result"
    }
   ],
   "source": [
    "# 今日日期\n",
    "# Return the day of the week as an integer, where Monday is 0 and Sunday is 6. For example, date(2002, 12, 4).weekday() == 2, a Wednesday. See also isoweekday().\n",
    "if date.today().weekday() == 0:\n",
    "    nowDate = date.today() - timedelta(days = 3)\n",
    "else:\n",
    "    nowDate = date.today() - timedelta(days = 1)\n",
    "todaynum = re.sub('-', '', str(nowDate))\n",
    "nowYm = str(nowDate)[:7]\n",
    "nowMD = nowDate.strftime(\"%m%d\")\n",
    "print(nowDate, todaynum , nowYm , nowMD)\n",
    "\n",
    "# 本地端日報資料夾\n",
    "filePath = \"C:/Users/0305/Desktop/Daily PNL\"\n",
    "os.chdir(filePath)\n",
    "if not nowYm in os.listdir(filePath):\n",
    "    os.mkdir(nowYm)\n",
    "filePath = filePath + '/' + nowYm\n",
    "os.chdir(filePath)\n",
    "\n",
    "if not nowMD in os.listdir(filePath):\n",
    "    os.mkdir(nowMD)\n",
    "filePath = filePath + '/' + nowMD\n",
    "os.chdir(filePath)\n",
    "#path = 'C:/Users/0305/Desktop/Daily PNL/'+nowYm+'/'+ nowMD \n",
    "#os.chdir(path)\n",
    "os.listdir(filePath)"
   ]
  },
  {
   "cell_type": "code",
   "execution_count": 155,
   "metadata": {},
   "outputs": [
    {
     "data": {
      "text/plain": [
       "numpy.ndarray"
      ]
     },
     "execution_count": 155,
     "metadata": {},
     "output_type": "execute_result"
    }
   ],
   "source": [
    "# 驗證流程 \n",
    "# 1. PL balance + Closed balance + Deposit != balance 誤差絕對值 > 2 \n",
    "check = pd.read_excel(filePath + '/' + 'b_vfx_check' + todaynum + '.xlsx')\n",
    "PL_error_value = sum(check['PL balance + Closed balance + Deposit = balance'])\n",
    "p_arr = check['PL balance + Closed balance + Deposit = balance'].values\n",
    "PL_error_value\n",
    "#p = check$`PL balance + Closed balance + Deposit = balance`\n",
    "#l = c()\n",
    "type(p_arr)"
   ]
  },
  {
   "cell_type": "code",
   "execution_count": 156,
   "metadata": {},
   "outputs": [
    {
     "name": "stdout",
     "output_type": "stream",
     "text": [
      "[9121, 9112]\n"
     ]
    }
   ],
   "source": [
    "l = list()\n",
    "while abs(PL_error_value) >2 :\n",
    "    if PL_error_value <0:\n",
    "        # 找min 且abs < PL_error_value\n",
    "        value_index = p_arr.argsort()[len(l)+1+sum(p_arr < PL_error_value)]\n",
    "        value = p_arr[value_index]\n",
    "        PL_error_value = PL_error_value - value\n",
    "        l.append(value_index)\n",
    "    if PL_error_value >0:\n",
    "        # 找MAX 且不超過值\n",
    "        value_index = p_arr.argsort()[-(len(l)+1+sum(p_arr > PL_error_value))]\n",
    "        value = p_arr[value_index]\n",
    "        PL_error_value = PL_error_value - value\n",
    "        l.append(value_index)\n",
    "print(l)"
   ]
  },
  {
   "cell_type": "code",
   "execution_count": 160,
   "metadata": {},
   "outputs": [
    {
     "name": "stdout",
     "output_type": "stream",
     "text": [
      "select * from enfau2report.mt4_daily where LOGIN in ('690933', '691014');\n"
     ]
    }
   ],
   "source": [
    "check['Login'][l]\n",
    "error_login = check['Login'][l]\n",
    "    # convert all element in list to string corresponding to mySQL statemenet \n",
    "str_l = [\"'%s'\" % str(elem) for elem in error_login]\n",
    "idString = \", \".join(str_l)\n",
    "    \n",
    "    # for each db\n",
    "    # for i in range(len(db)):\n",
    "i = 2\n",
    "mt4schema = db[i]\n",
    "sql_fmt = \"select * from \" + mt4schema + \".mt4_daily where LOGIN in (%s);\" % idString\n",
    "print(sql_fmt)"
   ]
  },
  {
   "cell_type": "code",
   "execution_count": 184,
   "metadata": {},
   "outputs": [
    {
     "data": {
      "text/plain": [
       "numpy.datetime64"
      ]
     },
     "execution_count": 184,
     "metadata": {},
     "output_type": "execute_result"
    }
   ],
   "source": [
    "type(df['TIME'].values[1])"
   ]
  },
  {
   "cell_type": "code",
   "execution_count": 185,
   "metadata": {},
   "outputs": [
    {
     "data": {
      "text/html": [
       "<div>\n",
       "<style scoped>\n",
       "    .dataframe tbody tr th:only-of-type {\n",
       "        vertical-align: middle;\n",
       "    }\n",
       "\n",
       "    .dataframe tbody tr th {\n",
       "        vertical-align: top;\n",
       "    }\n",
       "\n",
       "    .dataframe thead th {\n",
       "        text-align: right;\n",
       "    }\n",
       "</style>\n",
       "<table border=\"1\" class=\"dataframe\">\n",
       "  <thead>\n",
       "    <tr style=\"text-align: right;\">\n",
       "      <th></th>\n",
       "      <th>TIME</th>\n",
       "      <th>LOGIN</th>\n",
       "      <th>GROUP</th>\n",
       "      <th>BALANCE_PREV</th>\n",
       "      <th>PROFIT_CLOSED</th>\n",
       "      <th>DEPOSIT</th>\n",
       "      <th>BALANCE</th>\n",
       "      <th>PROFIT</th>\n",
       "      <th>CREDIT</th>\n",
       "      <th>EQUITY</th>\n",
       "      <th>MARGIN</th>\n",
       "      <th>MARGIN_FREE</th>\n",
       "    </tr>\n",
       "  </thead>\n",
       "  <tbody>\n",
       "    <tr>\n",
       "      <th>132</th>\n",
       "      <td>2021-01-22 23:59:59</td>\n",
       "      <td>690933</td>\n",
       "      <td>M_V_90096_HKD</td>\n",
       "      <td>1304665.30</td>\n",
       "      <td>0.0</td>\n",
       "      <td>889.49</td>\n",
       "      <td>1305554.79</td>\n",
       "      <td>0.0</td>\n",
       "      <td>0.0</td>\n",
       "      <td>1305554.79</td>\n",
       "      <td>0.0</td>\n",
       "      <td>1305554.79</td>\n",
       "    </tr>\n",
       "    <tr>\n",
       "      <th>131</th>\n",
       "      <td>2021-01-21 23:59:59</td>\n",
       "      <td>690933</td>\n",
       "      <td>M_V_90096_HKD</td>\n",
       "      <td>1302609.78</td>\n",
       "      <td>0.0</td>\n",
       "      <td>2055.52</td>\n",
       "      <td>1304665.30</td>\n",
       "      <td>0.0</td>\n",
       "      <td>0.0</td>\n",
       "      <td>1304665.30</td>\n",
       "      <td>0.0</td>\n",
       "      <td>1304665.30</td>\n",
       "    </tr>\n",
       "    <tr>\n",
       "      <th>265</th>\n",
       "      <td>2021-01-22 23:59:59</td>\n",
       "      <td>691014</td>\n",
       "      <td>M_V_90096_HKD</td>\n",
       "      <td>1219476.29</td>\n",
       "      <td>0.0</td>\n",
       "      <td>831.42</td>\n",
       "      <td>1220307.71</td>\n",
       "      <td>0.0</td>\n",
       "      <td>0.0</td>\n",
       "      <td>1220307.71</td>\n",
       "      <td>0.0</td>\n",
       "      <td>1220307.71</td>\n",
       "    </tr>\n",
       "    <tr>\n",
       "      <th>264</th>\n",
       "      <td>2021-01-21 23:59:59</td>\n",
       "      <td>691014</td>\n",
       "      <td>M_V_90096_HKD</td>\n",
       "      <td>1217554.99</td>\n",
       "      <td>0.0</td>\n",
       "      <td>1921.30</td>\n",
       "      <td>1219476.29</td>\n",
       "      <td>0.0</td>\n",
       "      <td>0.0</td>\n",
       "      <td>1219476.29</td>\n",
       "      <td>0.0</td>\n",
       "      <td>1219476.29</td>\n",
       "    </tr>\n",
       "  </tbody>\n",
       "</table>\n",
       "</div>"
      ],
      "text/plain": [
       "                   TIME   LOGIN          GROUP  BALANCE_PREV  PROFIT_CLOSED  \\\n",
       "132 2021-01-22 23:59:59  690933  M_V_90096_HKD    1304665.30            0.0   \n",
       "131 2021-01-21 23:59:59  690933  M_V_90096_HKD    1302609.78            0.0   \n",
       "265 2021-01-22 23:59:59  691014  M_V_90096_HKD    1219476.29            0.0   \n",
       "264 2021-01-21 23:59:59  691014  M_V_90096_HKD    1217554.99            0.0   \n",
       "\n",
       "     DEPOSIT     BALANCE  PROFIT  CREDIT      EQUITY  MARGIN  MARGIN_FREE  \n",
       "132   889.49  1305554.79     0.0     0.0  1305554.79     0.0   1305554.79  \n",
       "131  2055.52  1304665.30     0.0     0.0  1304665.30     0.0   1304665.30  \n",
       "265   831.42  1220307.71     0.0     0.0  1220307.71     0.0   1220307.71  \n",
       "264  1921.30  1219476.29     0.0     0.0  1219476.29     0.0   1219476.29  "
      ]
     },
     "execution_count": 185,
     "metadata": {},
     "output_type": "execute_result"
    }
   ],
   "source": [
    "mt4_daily = (df >>\n",
    "select(X.TIME, X.LOGIN, X.GROUP, X.BALANCE_PREV, X.PROFIT_CLOSED, X.DEPOSIT, X.BALANCE,\n",
    "X.PROFIT, X.CREDIT, X.EQUITY, X.MARGIN, X.MARGIN_FREE) >>\n",
    "arrange(desc(X.TIME)) >>\n",
    "group_by(X.LOGIN) >>\n",
    "row_slice([0,1]) )\n",
    "mt4_daily.head()"
   ]
  },
  {
   "cell_type": "code",
   "execution_count": 186,
   "metadata": {},
   "outputs": [
    {
     "name": "stdout",
     "output_type": "stream",
     "text": [
      "select * from enfaureport.mt4_daily where LOGIN in ('690933', '691014');\n"
     ]
    },
    {
     "data": {
      "text/html": [
       "<div>\n",
       "<style scoped>\n",
       "    .dataframe tbody tr th:only-of-type {\n",
       "        vertical-align: middle;\n",
       "    }\n",
       "\n",
       "    .dataframe tbody tr th {\n",
       "        vertical-align: top;\n",
       "    }\n",
       "\n",
       "    .dataframe thead th {\n",
       "        text-align: right;\n",
       "    }\n",
       "</style>\n",
       "<table border=\"1\" class=\"dataframe\">\n",
       "  <thead>\n",
       "    <tr style=\"text-align: right;\">\n",
       "      <th></th>\n",
       "      <th>TIME</th>\n",
       "      <th>LOGIN</th>\n",
       "      <th>GROUP</th>\n",
       "      <th>BALANCE_PREV</th>\n",
       "      <th>PROFIT_CLOSED</th>\n",
       "      <th>DEPOSIT</th>\n",
       "      <th>BALANCE</th>\n",
       "      <th>PROFIT</th>\n",
       "      <th>CREDIT</th>\n",
       "      <th>EQUITY</th>\n",
       "      <th>MARGIN</th>\n",
       "      <th>MARGIN_FREE</th>\n",
       "    </tr>\n",
       "  </thead>\n",
       "  <tbody>\n",
       "    <tr>\n",
       "      <th>132</th>\n",
       "      <td>2021-01-22 23:59:59</td>\n",
       "      <td>690933</td>\n",
       "      <td>M_V_90096_HKD</td>\n",
       "      <td>1304665.30</td>\n",
       "      <td>0.0</td>\n",
       "      <td>889.49</td>\n",
       "      <td>1305554.79</td>\n",
       "      <td>0.0</td>\n",
       "      <td>0.0</td>\n",
       "      <td>1305554.79</td>\n",
       "      <td>0.0</td>\n",
       "      <td>1305554.79</td>\n",
       "    </tr>\n",
       "    <tr>\n",
       "      <th>131</th>\n",
       "      <td>2021-01-21 23:59:59</td>\n",
       "      <td>690933</td>\n",
       "      <td>M_V_90096_HKD</td>\n",
       "      <td>1302609.78</td>\n",
       "      <td>0.0</td>\n",
       "      <td>2055.52</td>\n",
       "      <td>1304665.30</td>\n",
       "      <td>0.0</td>\n",
       "      <td>0.0</td>\n",
       "      <td>1304665.30</td>\n",
       "      <td>0.0</td>\n",
       "      <td>1304665.30</td>\n",
       "    </tr>\n",
       "    <tr>\n",
       "      <th>265</th>\n",
       "      <td>2021-01-22 23:59:59</td>\n",
       "      <td>691014</td>\n",
       "      <td>M_V_90096_HKD</td>\n",
       "      <td>1219476.29</td>\n",
       "      <td>0.0</td>\n",
       "      <td>831.42</td>\n",
       "      <td>1220307.71</td>\n",
       "      <td>0.0</td>\n",
       "      <td>0.0</td>\n",
       "      <td>1220307.71</td>\n",
       "      <td>0.0</td>\n",
       "      <td>1220307.71</td>\n",
       "    </tr>\n",
       "    <tr>\n",
       "      <th>264</th>\n",
       "      <td>2021-01-21 23:59:59</td>\n",
       "      <td>691014</td>\n",
       "      <td>M_V_90096_HKD</td>\n",
       "      <td>1217554.99</td>\n",
       "      <td>0.0</td>\n",
       "      <td>1921.30</td>\n",
       "      <td>1219476.29</td>\n",
       "      <td>0.0</td>\n",
       "      <td>0.0</td>\n",
       "      <td>1219476.29</td>\n",
       "      <td>0.0</td>\n",
       "      <td>1219476.29</td>\n",
       "    </tr>\n",
       "  </tbody>\n",
       "</table>\n",
       "</div>"
      ],
      "text/plain": [
       "                   TIME   LOGIN          GROUP  BALANCE_PREV  PROFIT_CLOSED  \\\n",
       "132 2021-01-22 23:59:59  690933  M_V_90096_HKD    1304665.30            0.0   \n",
       "131 2021-01-21 23:59:59  690933  M_V_90096_HKD    1302609.78            0.0   \n",
       "265 2021-01-22 23:59:59  691014  M_V_90096_HKD    1219476.29            0.0   \n",
       "264 2021-01-21 23:59:59  691014  M_V_90096_HKD    1217554.99            0.0   \n",
       "\n",
       "     DEPOSIT     BALANCE  PROFIT  CREDIT      EQUITY  MARGIN  MARGIN_FREE  \n",
       "132   889.49  1305554.79     0.0     0.0  1305554.79     0.0   1305554.79  \n",
       "131  2055.52  1304665.30     0.0     0.0  1304665.30     0.0   1304665.30  \n",
       "265   831.42  1220307.71     0.0     0.0  1220307.71     0.0   1220307.71  \n",
       "264  1921.30  1219476.29     0.0     0.0  1219476.29     0.0   1219476.29  "
      ]
     },
     "execution_count": 186,
     "metadata": {},
     "output_type": "execute_result"
    }
   ],
   "source": [
    "# 資料庫設定\n",
    "db_url = {\n",
    "    'drivername' : 'mysql',\n",
    "    'host' : \"report.vi-data.net\",\n",
    "    'username' : \"risktp\",\n",
    "    'password' : \"reader9876\",\n",
    "    'port' : 3306,\n",
    "    'query' : {'charset': 'BIG5'}\n",
    "}\n",
    "\n",
    "\n",
    "df = pd.DataFrame()\n",
    "db = ['enfuk2report' , 'enfukreport' , 'enfau2report', 'enfaureport']\n",
    "if len(l) > 0 :\n",
    "    # connect mySQL\n",
    "    engine = create_engine(URL(**db_url), encoding=\"BIG5\")\n",
    "    error_login = check['Login'][l]\n",
    "    # convert all element in list to string corresponding to mySQL statemenet \n",
    "    str_l = [\"'%s'\" % str(elem) for elem in error_login]\n",
    "    idString = \", \".join(str_l)\n",
    "    \n",
    "    # for each db\n",
    "    for i in range(len(db)):\n",
    "        mt4schema = db[i]\n",
    "        sql_fmt = \"select * from \" + mt4schema + \".mt4_daily where LOGIN in (%s);\" % idString\n",
    "        sql_df = pd.read_sql_query(sql_fmt, engine)\n",
    "        # pd select\n",
    "        sql_df = (sql_df >>\n",
    "                     select(X.TIME, X.LOGIN, X.GROUP, X.BALANCE_PREV, X.PROFIT_CLOSED, X.DEPOSIT, X.BALANCE,\n",
    "                            X.PROFIT, X.CREDIT, X.EQUITY, X.MARGIN, X.MARGIN_FREE) >>\n",
    "                     arrange(desc(X.TIME)) >>\n",
    "                     group_by(X.LOGIN) >>\n",
    "                     row_slice([0,1]) )\n",
    "        df = pd.concat([df,sql_df])\n",
    "print(sql_fmt)\n",
    "df.tail(20)"
   ]
  },
  {
   "cell_type": "code",
   "execution_count": 12,
   "metadata": {},
   "outputs": [
    {
     "name": "stdout",
     "output_type": "stream",
     "text": [
      "PL balance + Closed balance + Deposit = balance 修正完畢\n"
     ]
    }
   ],
   "source": [
    "# 1.修正PL balance + Closed balance + Deposit = balance\n",
    "# equity change\n",
    "files = [f for f in os.listdir('.') if os.path.isfile(f)]\n",
    "r = re.compile(\"equity_change_vfx.csv\")\n",
    "equity_change_vfx_list = list(filter(r.match, files)) # Read Note\n",
    "\n",
    "if len(equity_change_vfx_list)>0 :\n",
    "    equity_change = pd.read_csv('equity_change_vfx.csv')\n",
    "    # 更改第一天權益\n",
    "    wb = xw.books('B -PNL-vfx-'+str(todaynum)+'.xlsx')\n",
    "    sht = wb.sheets['equity']\n",
    "    df = equity_change[equity_change['nday']==1]\n",
    "    for i in range(len(df.index)):\n",
    "        rownum = df.iloc[i, 1]\n",
    "        value = df.iloc[i, 3:]\n",
    "        # print(rownum)\n",
    "        # print(type(value))\n",
    "        # print(value.values)\n",
    "        sht.range('D'+str(rownum)+\":L\"+str(rownum)).value = value.values\n",
    "        sht.range('D'+str(rownum)+\":L\"+str(rownum)).color = (255,255,0)\n",
    "    # 更改第二天權益\n",
    "    sht = wb.sheets['equity_Y']\n",
    "    df = equity_change[equity_change['nday']==2]\n",
    "    for i in range(len(df.index)):\n",
    "        rownum = df.iloc[i, 1]\n",
    "        value = df.iloc[i, 3:]\n",
    "        # print(rownum)\n",
    "        # print(type(value))\n",
    "        # print(value.values)\n",
    "        sht.range('D'+str(rownum)+\":L\"+str(rownum)).value = value.values\n",
    "        sht.range('D'+str(rownum)+\":L\"+str(rownum)).color = (255,255,0)\n",
    "    print('PL balance + Closed balance + Deposit = balance 修正完畢')\n",
    "else : \n",
    "    print('PL balance + Closed balance + Deposit = balance今日無須更動')"
   ]
  },
  {
   "cell_type": "code",
   "execution_count": 11,
   "metadata": {},
   "outputs": [
    {
     "name": "stdout",
     "output_type": "stream",
     "text": [
      "今日無解歸檔資料\n"
     ]
    }
   ],
   "source": [
    "# 檢查是否有SWAP.csv 如果有則進行swap修正\n",
    "files = [f for f in os.listdir('.') if os.path.isfile(f)]\n",
    "r = re.compile(\"vfx_swap.csv\")\n",
    "swap_list = list(filter(r.match, files)) # Read Note\n",
    "if len(swap_list)>0:\n",
    "    # 2.檢查解歸檔 修正SWAP\n",
    "    swap = pd.read_csv('vfx_swap.csv')\n",
    "    # 如當日有解歸檔則進行swap修正\n",
    "    if swap.shape[0] > 0:\n",
    "        # 開啟swap sheet \n",
    "        sht = wb.sheets['swap']\n",
    "        for i in range(swap.shape[0]):\n",
    "            swap.loc[i,'excel_row']\n",
    "            sht.range('I'+str(swap.loc[i,'excel_row'])).value = sht.range('J'+str(swap.loc[i,'excel_row'])).value\n",
    "            sht.range('I'+str(swap.loc[i,'excel_row'])).color = (255,255,0)\n",
    "        print('解歸檔資料整理完畢')\n",
    "        swap.head()\n",
    "else: \n",
    "    print('今日無解歸檔資料')"
   ]
  },
  {
   "cell_type": "code",
   "execution_count": 13,
   "metadata": {},
   "outputs": [
    {
     "data": {
      "text/html": [
       "<div>\n",
       "<style scoped>\n",
       "    .dataframe tbody tr th:only-of-type {\n",
       "        vertical-align: middle;\n",
       "    }\n",
       "\n",
       "    .dataframe tbody tr th {\n",
       "        vertical-align: top;\n",
       "    }\n",
       "\n",
       "    .dataframe thead th {\n",
       "        text-align: right;\n",
       "    }\n",
       "</style>\n",
       "<table border=\"1\" class=\"dataframe\">\n",
       "  <thead>\n",
       "    <tr style=\"text-align: right;\">\n",
       "      <th></th>\n",
       "      <th>db</th>\n",
       "      <th>Login</th>\n",
       "      <th>Group</th>\n",
       "      <th>group</th>\n",
       "      <th>CCY</th>\n",
       "      <th>Deal</th>\n",
       "      <th>Type</th>\n",
       "      <th>Profit</th>\n",
       "      <th>Comment</th>\n",
       "      <th>IO</th>\n",
       "      <th>db2</th>\n",
       "      <th>Login2</th>\n",
       "      <th>Group2</th>\n",
       "      <th>group2</th>\n",
       "      <th>Date</th>\n",
       "      <th>VIG</th>\n",
       "      <th>MNT</th>\n",
       "    </tr>\n",
       "  </thead>\n",
       "  <tbody>\n",
       "    <tr>\n",
       "      <th>0</th>\n",
       "      <td>VAU1</td>\n",
       "      <td>607016</td>\n",
       "      <td>M_VIGT_USD</td>\n",
       "      <td>M</td>\n",
       "      <td>USD</td>\n",
       "      <td>30943044</td>\n",
       "      <td>balance</td>\n",
       "      <td>2.86</td>\n",
       "      <td>Transfer In from 3331</td>\n",
       "      <td>in</td>\n",
       "      <td>VAU1</td>\n",
       "      <td>3331</td>\n",
       "      <td>R_REBAT_VIG_USD</td>\n",
       "      <td>R</td>\n",
       "      <td>2021-01-25</td>\n",
       "      <td>1</td>\n",
       "      <td>1</td>\n",
       "    </tr>\n",
       "    <tr>\n",
       "      <th>1</th>\n",
       "      <td>VAU1</td>\n",
       "      <td>607326</td>\n",
       "      <td>M_VIG_USD</td>\n",
       "      <td>M</td>\n",
       "      <td>USD</td>\n",
       "      <td>30943531</td>\n",
       "      <td>balance</td>\n",
       "      <td>16.15</td>\n",
       "      <td>Transfer In from 3378</td>\n",
       "      <td>in</td>\n",
       "      <td>VAU1</td>\n",
       "      <td>3378</td>\n",
       "      <td>R_REBAT_VIG_USD</td>\n",
       "      <td>R</td>\n",
       "      <td>2021-01-25</td>\n",
       "      <td>1</td>\n",
       "      <td>1</td>\n",
       "    </tr>\n",
       "    <tr>\n",
       "      <th>2</th>\n",
       "      <td>VAU1</td>\n",
       "      <td>607326</td>\n",
       "      <td>M_VIG_USD</td>\n",
       "      <td>M</td>\n",
       "      <td>USD</td>\n",
       "      <td>30943533</td>\n",
       "      <td>balance</td>\n",
       "      <td>4.43</td>\n",
       "      <td>Transfer In from 3423</td>\n",
       "      <td>in</td>\n",
       "      <td>VAU1</td>\n",
       "      <td>3423</td>\n",
       "      <td>R_REBAT_VIG_USD</td>\n",
       "      <td>R</td>\n",
       "      <td>2021-01-25</td>\n",
       "      <td>1</td>\n",
       "      <td>1</td>\n",
       "    </tr>\n",
       "    <tr>\n",
       "      <th>3</th>\n",
       "      <td>VAU1</td>\n",
       "      <td>607697</td>\n",
       "      <td>M_VIG_07_USD</td>\n",
       "      <td>M</td>\n",
       "      <td>USD</td>\n",
       "      <td>30943862</td>\n",
       "      <td>balance</td>\n",
       "      <td>2500.00</td>\n",
       "      <td>Transfer In from 3479</td>\n",
       "      <td>in</td>\n",
       "      <td>VAU1</td>\n",
       "      <td>3479</td>\n",
       "      <td>R_REBAT_VIG_USD</td>\n",
       "      <td>R</td>\n",
       "      <td>2021-01-25</td>\n",
       "      <td>1</td>\n",
       "      <td>1</td>\n",
       "    </tr>\n",
       "    <tr>\n",
       "      <th>4</th>\n",
       "      <td>VAU1</td>\n",
       "      <td>607697</td>\n",
       "      <td>M_VIG_07_USD</td>\n",
       "      <td>M</td>\n",
       "      <td>USD</td>\n",
       "      <td>30943867</td>\n",
       "      <td>balance</td>\n",
       "      <td>400.00</td>\n",
       "      <td>Transfer In from 7631</td>\n",
       "      <td>in</td>\n",
       "      <td>VAU2</td>\n",
       "      <td>7631</td>\n",
       "      <td>R_REBAT_VIG_USD</td>\n",
       "      <td>R</td>\n",
       "      <td>2021-01-25</td>\n",
       "      <td>1</td>\n",
       "      <td>1</td>\n",
       "    </tr>\n",
       "  </tbody>\n",
       "</table>\n",
       "</div>"
      ],
      "text/plain": [
       "     db   Login         Group group  CCY      Deal     Type   Profit  \\\n",
       "0  VAU1  607016    M_VIGT_USD     M  USD  30943044  balance     2.86   \n",
       "1  VAU1  607326     M_VIG_USD     M  USD  30943531  balance    16.15   \n",
       "2  VAU1  607326     M_VIG_USD     M  USD  30943533  balance     4.43   \n",
       "3  VAU1  607697  M_VIG_07_USD     M  USD  30943862  balance  2500.00   \n",
       "4  VAU1  607697  M_VIG_07_USD     M  USD  30943867  balance   400.00   \n",
       "\n",
       "                 Comment  IO   db2  Login2           Group2 group2  \\\n",
       "0  Transfer In from 3331  in  VAU1    3331  R_REBAT_VIG_USD      R   \n",
       "1  Transfer In from 3378  in  VAU1    3378  R_REBAT_VIG_USD      R   \n",
       "2  Transfer In from 3423  in  VAU1    3423  R_REBAT_VIG_USD      R   \n",
       "3  Transfer In from 3479  in  VAU1    3479  R_REBAT_VIG_USD      R   \n",
       "4  Transfer In from 7631  in  VAU2    7631  R_REBAT_VIG_USD      R   \n",
       "\n",
       "         Date  VIG  MNT  \n",
       "0  2021-01-25    1    1  \n",
       "1  2021-01-25    1    1  \n",
       "2  2021-01-25    1    1  \n",
       "3  2021-01-25    1    1  \n",
       "4  2021-01-25    1    1  "
      ]
     },
     "execution_count": 13,
     "metadata": {},
     "output_type": "execute_result"
    }
   ],
   "source": [
    "# 讀取RT_value表\n",
    "vfxRaw = pd.read_excel(str(todaynum)+'_RTvalue.xlsx' , sheet_name= 'VFXRaw')\n",
    "vfxRaw.head()"
   ]
  },
  {
   "cell_type": "code",
   "execution_count": 14,
   "metadata": {},
   "outputs": [
    {
     "name": "stdout",
     "output_type": "stream",
     "text": [
      "[] []\n"
     ]
    }
   ],
   "source": [
    "# 1.刪除GROUP含有CAN字串\n",
    "# vfxRaw[vfxRaw['Group'].str.contains(r'CAN')]\n",
    "# type(np.where(vfxRaw['Group'].str.contains(r'CAN'))[0])\n",
    "can_rowsnumber = np.where(vfxRaw['Group'].str.contains(r'CAN'))[0]\n",
    "# 2.刪除COMMENT含有/div\n",
    "div_rowsnumber = np.where(vfxRaw['Comment'].str.contains(r'/div'))[0]\n",
    "# 3.填補rollback group\n",
    "vfxRaw['db2'].fillna(value=vfxRaw.groupby('Login')['db2'].unique(), inplace=True)\n",
    "rollback = vfxRaw[vfxRaw['Comment'].str.contains(r'/Rollback')]\n",
    "print(can_rowsnumber, div_rowsnumber)\n"
   ]
  },
  {
   "cell_type": "code",
   "execution_count": 15,
   "metadata": {},
   "outputs": [
    {
     "data": {
      "text/html": [
       "<div>\n",
       "<style scoped>\n",
       "    .dataframe tbody tr th:only-of-type {\n",
       "        vertical-align: middle;\n",
       "    }\n",
       "\n",
       "    .dataframe tbody tr th {\n",
       "        vertical-align: top;\n",
       "    }\n",
       "\n",
       "    .dataframe thead th {\n",
       "        text-align: right;\n",
       "    }\n",
       "</style>\n",
       "<table border=\"1\" class=\"dataframe\">\n",
       "  <thead>\n",
       "    <tr style=\"text-align: right;\">\n",
       "      <th></th>\n",
       "      <th>db</th>\n",
       "      <th>Login</th>\n",
       "      <th>Group</th>\n",
       "      <th>group</th>\n",
       "      <th>CCY</th>\n",
       "      <th>Deal</th>\n",
       "      <th>Type</th>\n",
       "      <th>Profit</th>\n",
       "      <th>Comment</th>\n",
       "      <th>IO</th>\n",
       "      <th>db2</th>\n",
       "      <th>Login2</th>\n",
       "      <th>Group2</th>\n",
       "      <th>group2</th>\n",
       "      <th>Date</th>\n",
       "      <th>VIG</th>\n",
       "      <th>MNT</th>\n",
       "    </tr>\n",
       "  </thead>\n",
       "  <tbody>\n",
       "  </tbody>\n",
       "</table>\n",
       "</div>"
      ],
      "text/plain": [
       "Empty DataFrame\n",
       "Columns: [db, Login, Group, group, CCY, Deal, Type, Profit, Comment, IO, db2, Login2, Group2, group2, Date, VIG, MNT]\n",
       "Index: []"
      ]
     },
     "execution_count": 15,
     "metadata": {},
     "output_type": "execute_result"
    }
   ],
   "source": [
    "# comment : Rollback\n",
    "# vfxRaw['db2'].fillna(value=20, inplace=False)\n",
    "vfxRaw[vfxRaw['Comment'].str.contains(r'/Rollback')]"
   ]
  },
  {
   "cell_type": "code",
   "execution_count": 16,
   "metadata": {},
   "outputs": [
    {
     "data": {
      "text/html": [
       "<div>\n",
       "<style scoped>\n",
       "    .dataframe tbody tr th:only-of-type {\n",
       "        vertical-align: middle;\n",
       "    }\n",
       "\n",
       "    .dataframe tbody tr th {\n",
       "        vertical-align: top;\n",
       "    }\n",
       "\n",
       "    .dataframe thead th {\n",
       "        text-align: right;\n",
       "    }\n",
       "</style>\n",
       "<table border=\"1\" class=\"dataframe\">\n",
       "  <thead>\n",
       "    <tr style=\"text-align: right;\">\n",
       "      <th></th>\n",
       "      <th>db</th>\n",
       "      <th>Login</th>\n",
       "      <th>Group</th>\n",
       "      <th>group</th>\n",
       "      <th>CCY</th>\n",
       "      <th>Deal</th>\n",
       "      <th>Type</th>\n",
       "      <th>Profit</th>\n",
       "      <th>Comment</th>\n",
       "      <th>IO</th>\n",
       "      <th>db2</th>\n",
       "      <th>Login2</th>\n",
       "      <th>Group2</th>\n",
       "      <th>group2</th>\n",
       "      <th>Date</th>\n",
       "      <th>VIG</th>\n",
       "      <th>MNT</th>\n",
       "    </tr>\n",
       "  </thead>\n",
       "  <tbody>\n",
       "  </tbody>\n",
       "</table>\n",
       "</div>"
      ],
      "text/plain": [
       "Empty DataFrame\n",
       "Columns: [db, Login, Group, group, CCY, Deal, Type, Profit, Comment, IO, db2, Login2, Group2, group2, Date, VIG, MNT]\n",
       "Index: []"
      ]
     },
     "execution_count": 16,
     "metadata": {},
     "output_type": "execute_result"
    }
   ],
   "source": [
    "# comment : PAMM 缺少group login2 \n",
    "vfxRaw[(vfxRaw['Comment'].str.contains(r'PAMM')) & pd.isna(vfxRaw['Login2'])]  "
   ]
  },
  {
   "cell_type": "code",
   "execution_count": 18,
   "metadata": {},
   "outputs": [],
   "source": [
    "# 修改RT_value表\n",
    "wb = xw.books.open(str(todaynum)+'_RTvalue.xlsx')\n",
    "# 使用工作表\n",
    "vfx = wb.sheets['VFXRaw']\n",
    "\n",
    "# GROUP 含有加拿大資料處理\n",
    "if len(can_rowsnumber) > 0 :\n",
    "    # create sheet 'CAN'\n",
    "    wb.sheets.add('CAN')\n",
    "    can = wb.sheets['CAN']\n",
    "    # sht = wb.sheets['CAN']\n",
    "    # 複製colnames至CAN SHEET\n",
    "    my_values = vfx.range('A1:Q1').value \n",
    "    print(my_values)\n",
    "    can.range('A1:Q1').value = my_values\n",
    "    # 複製row至CAN SHEET\n",
    "    for i in range(len(can_rowsnumber)):\n",
    "        my_values = vfx.range('A'+str(can_rowsnumber[i]+2)+':Q'+str(can_rowsnumber[i]+2)).value \n",
    "        print(my_values)\n",
    "        can.range('A'+str(i+2)+':Q'+str(i+2)).value = my_values\n",
    "    # 刪除row\n",
    "    for i in range(len(can_rowsnumber)):\n",
    "        print(can_rowsnumber[i])\n",
    "        vfx.range('A'+str(can_rowsnumber[i]+2-i)+':Q'+str(can_rowsnumber[i]+2-i)).api.Delete(DeleteShiftDirection.xlShiftUp) \n",
    "\n",
    "if len(div_rowsnumber) > 0:\n",
    "    # 刪除row\n",
    "    for i in range(len(div_rowsnumber)):\n",
    "        print(div_rowsnumber[i])\n",
    "        vfx.range('A'+str(div_rowsnumber[i]+2-i)+':Q'+str(div_rowsnumber[i]+2-i)).api.Delete(DeleteShiftDirection.xlShiftUp)\n",
    "\n",
    "# Delete row 2\n",
    "# sht.range('2:2').api.Delete(DeleteShiftDirection.xlShiftUp) \n",
    "wb.save()\n",
    "wb.close()\n",
    "# app.kill()"
   ]
  },
  {
   "cell_type": "code",
   "execution_count": 17,
   "metadata": {},
   "outputs": [
    {
     "name": "stdout",
     "output_type": "stream",
     "text": [
      "FN Table修改完畢\n"
     ]
    }
   ],
   "source": [
    "# 3. RT_value 確認完畢後複製至vfx_VIG sheet\n",
    "# 修改RT_value表\n",
    "wbcopy = xw.books.open(todaynum+'_RTvalue.xlsx')\n",
    "wb = xw.books('B -PNL-vfx-'+str(todaynum)+'.xlsx')\n",
    "# 使用工作表\n",
    "vfx_Result = wbcopy.sheets['Result']\n",
    "my_values = vfx_Result.range('G2:O4').options(ndim=2).value \n",
    "wb.sheets['VFX_VIG'].range('AQ10:AY12').value = my_values\n",
    "print('FN Table修改完畢')\n",
    "wbcopy.close()"
   ]
  },
  {
   "cell_type": "code",
   "execution_count": 20,
   "metadata": {},
   "outputs": [],
   "source": [
    "# 4. 複製貼上Rebate與手動修正\n",
    "# 讀取sales_commission & rebate 合併計算\n",
    "if date.today().weekday() != 0:\n",
    "    commission = pd.read_excel('VFX_sales_commission'+str(today)+'.xlsx' , sheet_name='usd')\n",
    "    rebate  = pd.read_excel('VFX_rebate_report'+str(today)+'.xlsx' , sheet_name='usd')\n",
    "    df = pd.concat([commission, rebate])\n",
    "    df = df.groupby(['mt4Account']).agg({'inner_commission': \"sum\", 'outer_commission': \"sum\"})\n",
    "    # # copy pd.df to excel\n",
    "    wb = xw.books('B -PNL-vfx-'+todaynum+'.xlsx')\n",
    "    sht = wb.sheets['rebate']\n",
    "    rownumber_added = sht.range('A' + str(wb.sheets[0].cells.last_cell.row)).end('up').row + 1\n",
    "    sht.range(\"A\"+str(rownumber_added)).options(index=True,header=False).value=df "
   ]
  },
  {
   "cell_type": "code",
   "execution_count": 21,
   "metadata": {},
   "outputs": [
    {
     "name": "stdout",
     "output_type": "stream",
     "text": [
      "['AU2 90034- Rebate_20210122.xlsx', 'AU2 90050- Rebate_20210122.xlsx', 'AU2 90076- Rebate_20210122.xlsx', 'AU2 90085- Rebate_20210122.xlsx', 'AU2 90094- Rebate_20210122.xlsx']\n"
     ]
    }
   ],
   "source": [
    "# vfx\n",
    "files = [f for f in os.listdir('.') if os.path.isfile(f)]\n",
    "r = re.compile(\"^AU1 \")\n",
    "newlist1 = list(filter(r.match, files)) # Read Note\n",
    "r = re.compile(\"^AU2 \")\n",
    "newlist2 = list(filter(r.match, files)) # Read Note\n",
    "r = re.compile(\"^UK1 \")\n",
    "newlist3 = list(filter(r.match, files)) # Read Note\n",
    "r = re.compile(\"^UK2 \")\n",
    "newlist4 = list(filter(r.match, files)) # Read Note\n",
    "rebate_files = newlist1+newlist2+newlist3+newlist4\n",
    "print(rebate_files)"
   ]
  },
  {
   "cell_type": "code",
   "execution_count": 23,
   "metadata": {},
   "outputs": [
    {
     "name": "stdout",
     "output_type": "stream",
     "text": [
      "AU2 90034- Rebate_20210122.xlsx\n",
      "P4:AG500\n",
      "[90034, 0.0, 0.0]\n",
      "AU2 90050- Rebate_20210122.xlsx\n",
      "P11:AG500\n",
      "[90050, 0.0, 0.0]\n",
      "AU2 90076- Rebate_20210122.xlsx\n",
      "P4:AG500\n",
      "[90076, 0.0, 0.0]\n",
      "AU2 90085- Rebate_20210122.xlsx\n",
      "P8:AG500\n",
      "[90085, 105.60000000000001, 160.0]\n",
      "AU2 90094- Rebate_20210122.xlsx\n",
      "P5:AG500\n",
      "[90094, 0.0, 0.0]\n",
      "[[90034, 0.0, 0.0], [90050, 0.0, 0.0], [90076, 0.0, 0.0], [90085, 105.60000000000001, 160.0], [90094, 0.0, 0.0]]\n"
     ]
    }
   ],
   "source": [
    "# 讀取需要手動更改之rebate\n",
    "data = []\n",
    "for i in rebate_files:\n",
    "    print(i)\n",
    "    login = int(i.split()[1].replace(\"-\",\"\"))\n",
    "    wb = xw.Book(i)\n",
    "    sht = wb.sheets[nowMD]\n",
    "    # 刪除 rebate 含有NA的交易紀錄\n",
    "    arrt = sht.range('AD:AD')[3:].value\n",
    "    type(arrt)\n",
    "    arrt =[x for x in arrt if x is not None]\n",
    "    print('P'+str(len(arrt)+4)+':AG500')\n",
    "    sht.range('P'+str(len(arrt)+4)+':AG500').clear()\n",
    "    rebate_arr = [login, sht.range('M10').value, sht.range('N10').value]\n",
    "    print(rebate_arr)\n",
    "    data.append(rebate_arr)\n",
    "    wb.close()\n",
    "print(data)"
   ]
  },
  {
   "cell_type": "code",
   "execution_count": 24,
   "metadata": {},
   "outputs": [
    {
     "data": {
      "text/html": [
       "<div>\n",
       "<style scoped>\n",
       "    .dataframe tbody tr th:only-of-type {\n",
       "        vertical-align: middle;\n",
       "    }\n",
       "\n",
       "    .dataframe tbody tr th {\n",
       "        vertical-align: top;\n",
       "    }\n",
       "\n",
       "    .dataframe thead th {\n",
       "        text-align: right;\n",
       "    }\n",
       "</style>\n",
       "<table border=\"1\" class=\"dataframe\">\n",
       "  <thead>\n",
       "    <tr style=\"text-align: right;\">\n",
       "      <th></th>\n",
       "      <th>mt4Account</th>\n",
       "      <th>inner_new</th>\n",
       "      <th>outer_new</th>\n",
       "    </tr>\n",
       "  </thead>\n",
       "  <tbody>\n",
       "    <tr>\n",
       "      <th>0</th>\n",
       "      <td>90034</td>\n",
       "      <td>0.0</td>\n",
       "      <td>0.0</td>\n",
       "    </tr>\n",
       "    <tr>\n",
       "      <th>1</th>\n",
       "      <td>90050</td>\n",
       "      <td>0.0</td>\n",
       "      <td>0.0</td>\n",
       "    </tr>\n",
       "    <tr>\n",
       "      <th>2</th>\n",
       "      <td>90076</td>\n",
       "      <td>0.0</td>\n",
       "      <td>0.0</td>\n",
       "    </tr>\n",
       "    <tr>\n",
       "      <th>3</th>\n",
       "      <td>90085</td>\n",
       "      <td>105.6</td>\n",
       "      <td>160.0</td>\n",
       "    </tr>\n",
       "    <tr>\n",
       "      <th>4</th>\n",
       "      <td>90094</td>\n",
       "      <td>0.0</td>\n",
       "      <td>0.0</td>\n",
       "    </tr>\n",
       "  </tbody>\n",
       "</table>\n",
       "</div>"
      ],
      "text/plain": [
       "   mt4Account  inner_new  outer_new\n",
       "0       90034        0.0        0.0\n",
       "1       90050        0.0        0.0\n",
       "2       90076        0.0        0.0\n",
       "3       90085      105.6      160.0\n",
       "4       90094        0.0        0.0"
      ]
     },
     "execution_count": 24,
     "metadata": {},
     "output_type": "execute_result"
    }
   ],
   "source": [
    "df = pd.DataFrame(data, columns=['mt4Account', 'inner_new', 'outer_new'])\n",
    "df.head()"
   ]
  },
  {
   "cell_type": "code",
   "execution_count": 25,
   "metadata": {},
   "outputs": [
    {
     "name": "stdout",
     "output_type": "stream",
     "text": [
      "90034 is not in list\n",
      "90050.0\n",
      "90076 is not in list\n",
      "90085.0\n",
      "90094 is not in list\n"
     ]
    }
   ],
   "source": [
    "wb = xw.books('B -PNL-vfx-'+todaynum+'.xlsx')\n",
    "sht = wb.sheets['rebate']\n",
    "a = sht.range('A:A').value\n",
    "for i in range(len(df.index)):\n",
    "    if df['mt4Account'][i] in a:\n",
    "        index = a.index(df['mt4Account'][i])\n",
    "        # df 取代舊值\n",
    "        print(sht.range('A'+str(index+1)).value)\n",
    "        sht.range('B'+str(index+1)).value = df['inner_new'][i] + df['outer_new'][i]\n",
    "        # sht.range('C'+str(index+1)).value = df['outer_new'][i]\n",
    "        sht.range('A'+str(index+1)+\":\"+'C'+str(index+1)).color = (255,255,0)\n",
    "    else:\n",
    "        print(str(df['mt4Account'][i]) + ' is not in list')\n"
   ]
  },
  {
   "cell_type": "code",
   "execution_count": 66,
   "metadata": {},
   "outputs": [],
   "source": [
    "# app = xw.App()\n",
    "# wb = app.books.open(r'\\\\192.168.1.20\\Rmc\\Data Analysis\\Dropbox\\Model_AUTO\\VFX\\B -PNL-vfx2_model.xlsx')\n",
    "# Vanuatu_VIG PNL \n",
    "wb =  xw.books.open('Vanuatu_VIG PNL-'+todaynum+'.xlsx', read_only = False)\n",
    "summary_vfx1_sht = wb.sheets['匯總_VFX_VIG']\n",
    "summary_vfx2_sht = wb.sheets['匯總_VFX_VIG 2']\n",
    "sqlcheck_vfx1 = wb.sheets['庫核對']\n",
    "sqlcheck_vfx2 = wb.sheets['庫核對 2']\n",
    "result = wb.sheets['result']"
   ]
  },
  {
   "cell_type": "code",
   "execution_count": 96,
   "metadata": {},
   "outputs": [],
   "source": [
    "# 資料庫設定\n",
    "host = \"192.168.1.179\" \n",
    "port = 3306\n",
    "dbname = \"VFX-VIG\"\n",
    "user = \"DataTP\" #\n",
    "password = \"Taipei_Data_123\" \n",
    "engine = create_engine('mysql+pymysql://{user}:{password}@{host}:{port}/{dbname}'.format(user=user, password=password, host=host, port=port, dbname=dbname))"
   ]
  },
  {
   "cell_type": "code",
   "execution_count": 97,
   "metadata": {},
   "outputs": [
    {
     "data": {
      "text/html": [
       "<div>\n",
       "<style scoped>\n",
       "    .dataframe tbody tr th:only-of-type {\n",
       "        vertical-align: middle;\n",
       "    }\n",
       "\n",
       "    .dataframe tbody tr th {\n",
       "        vertical-align: top;\n",
       "    }\n",
       "\n",
       "    .dataframe thead th {\n",
       "        text-align: right;\n",
       "    }\n",
       "</style>\n",
       "<table border=\"1\" class=\"dataframe\">\n",
       "  <thead>\n",
       "    <tr style=\"text-align: right;\">\n",
       "      <th></th>\n",
       "      <th>db</th>\n",
       "      <th>login</th>\n",
       "      <th>group</th>\n",
       "      <th>ROUND(SUM(m_pnl),10)</th>\n",
       "      <th>SUM(s_pnl)</th>\n",
       "      <th>SUM(m_volume)</th>\n",
       "      <th>SUM(s_volume)</th>\n",
       "      <th>SUM(m_commission)</th>\n",
       "      <th>SUM(s_commission)</th>\n",
       "      <th>SUM(m_stp)</th>\n",
       "      <th>SUM(s_stp)</th>\n",
       "      <th>SUM(m_swap)</th>\n",
       "      <th>SUM(s_swap)</th>\n",
       "      <th>b_rebate</th>\n",
       "      <th>s_rebate</th>\n",
       "      <th>SUM(deposit)</th>\n",
       "      <th>SUM(withdrawal)</th>\n",
       "      <th>date</th>\n",
       "    </tr>\n",
       "  </thead>\n",
       "  <tbody>\n",
       "    <tr>\n",
       "      <th>0</th>\n",
       "      <td>VFX-VIG</td>\n",
       "      <td></td>\n",
       "      <td></td>\n",
       "      <td>356985.400845</td>\n",
       "      <td>-9714.029607</td>\n",
       "      <td>2104.729803</td>\n",
       "      <td>2.591785</td>\n",
       "      <td>-27128.2919</td>\n",
       "      <td>-1582.466951</td>\n",
       "      <td>145166.2988</td>\n",
       "      <td>810.897074</td>\n",
       "      <td>-23950.893683</td>\n",
       "      <td>-637.194831</td>\n",
       "      <td>43864.31516</td>\n",
       "      <td>0.0</td>\n",
       "      <td>1.747353e+06</td>\n",
       "      <td>-208902.258492</td>\n",
       "      <td>2021-01-22</td>\n",
       "    </tr>\n",
       "  </tbody>\n",
       "</table>\n",
       "</div>"
      ],
      "text/plain": [
       "        db login group  ROUND(SUM(m_pnl),10)   SUM(s_pnl)  SUM(m_volume)  \\\n",
       "0  VFX-VIG                     356985.400845 -9714.029607    2104.729803   \n",
       "\n",
       "   SUM(s_volume)  SUM(m_commission)  SUM(s_commission)   SUM(m_stp)  \\\n",
       "0       2.591785        -27128.2919       -1582.466951  145166.2988   \n",
       "\n",
       "   SUM(s_stp)   SUM(m_swap)  SUM(s_swap)     b_rebate  s_rebate  SUM(deposit)  \\\n",
       "0  810.897074 -23950.893683  -637.194831  43864.31516       0.0  1.747353e+06   \n",
       "\n",
       "   SUM(withdrawal)        date  \n",
       "0   -208902.258492  2021-01-22  "
      ]
     },
     "execution_count": 97,
     "metadata": {},
     "output_type": "execute_result"
    }
   ],
   "source": [
    "query=f\"\"\"\n",
    "SELECT 'VFX-VIG' as db,'' as login,'' as `group`, ROUND(SUM(m_pnl),10) , SUM(s_pnl),SUM(m_volume), SUM(s_volume),SUM(m_commission) ,SUM(s_commission), SUM(m_stp), SUM(s_stp),SUM(m_swap), SUM(s_swap), SUM(b_outer) + SUM(b_inner) as b_rebate, SUM(s_inner) + SUM(s_outer) as s_rebate, SUM(deposit), SUM(withdrawal) , \n",
    "date FROM `VFX-VIG`.detail \n",
    "\"\"\"+\"WHERE DATE BETWEEN '\"+str(nowDate)+\"' AND '\"+str(nowDate)+\"' and db NOT REGEXP 'VAU3|VUK3' and `group` not REGEXP 'CAN' GROUP BY date;\"\n",
    "reb_df1 = pd.read_sql_query(query, engine)\n",
    "reb_df1.head()"
   ]
  },
  {
   "cell_type": "code",
   "execution_count": 99,
   "metadata": {
    "scrolled": true
   },
   "outputs": [
    {
     "data": {
      "text/html": [
       "<div>\n",
       "<style scoped>\n",
       "    .dataframe tbody tr th:only-of-type {\n",
       "        vertical-align: middle;\n",
       "    }\n",
       "\n",
       "    .dataframe tbody tr th {\n",
       "        vertical-align: top;\n",
       "    }\n",
       "\n",
       "    .dataframe thead th {\n",
       "        text-align: right;\n",
       "    }\n",
       "</style>\n",
       "<table border=\"1\" class=\"dataframe\">\n",
       "  <thead>\n",
       "    <tr style=\"text-align: right;\">\n",
       "      <th></th>\n",
       "      <th>db</th>\n",
       "      <th>login</th>\n",
       "      <th>group</th>\n",
       "      <th>ROUND(SUM(m_pnl),10)</th>\n",
       "      <th>SUM(s_pnl)</th>\n",
       "      <th>SUM(m_volume)</th>\n",
       "      <th>SUM(s_volume)</th>\n",
       "      <th>SUM(m_commission)</th>\n",
       "      <th>SUM(s_commission)</th>\n",
       "      <th>SUM(m_stp)</th>\n",
       "      <th>SUM(s_stp)</th>\n",
       "      <th>SUM(m_swap)</th>\n",
       "      <th>SUM(s_swap)</th>\n",
       "      <th>b_rebate</th>\n",
       "      <th>s_rebate</th>\n",
       "      <th>SUM(deposit)</th>\n",
       "      <th>SUM(withdrawal)</th>\n",
       "      <th>date</th>\n",
       "    </tr>\n",
       "  </thead>\n",
       "  <tbody>\n",
       "    <tr>\n",
       "      <th>0</th>\n",
       "      <td>VFX-VIG</td>\n",
       "      <td></td>\n",
       "      <td></td>\n",
       "      <td>616868.574561</td>\n",
       "      <td>1252.780523</td>\n",
       "      <td>992.254014</td>\n",
       "      <td>1.550457</td>\n",
       "      <td>-13168.791484</td>\n",
       "      <td>-550.88821</td>\n",
       "      <td>69837.982759</td>\n",
       "      <td>166.395932</td>\n",
       "      <td>-7618.485157</td>\n",
       "      <td>-146.113383</td>\n",
       "      <td>37532.394127</td>\n",
       "      <td>0.0</td>\n",
       "      <td>505240.387363</td>\n",
       "      <td>-235029.980485</td>\n",
       "      <td>2021-01-22</td>\n",
       "    </tr>\n",
       "  </tbody>\n",
       "</table>\n",
       "</div>"
      ],
      "text/plain": [
       "        db login group  ROUND(SUM(m_pnl),10)   SUM(s_pnl)  SUM(m_volume)  \\\n",
       "0  VFX-VIG                     616868.574561  1252.780523     992.254014   \n",
       "\n",
       "   SUM(s_volume)  SUM(m_commission)  SUM(s_commission)    SUM(m_stp)  \\\n",
       "0       1.550457      -13168.791484         -550.88821  69837.982759   \n",
       "\n",
       "   SUM(s_stp)  SUM(m_swap)  SUM(s_swap)      b_rebate  s_rebate  \\\n",
       "0  166.395932 -7618.485157  -146.113383  37532.394127       0.0   \n",
       "\n",
       "    SUM(deposit)  SUM(withdrawal)        date  \n",
       "0  505240.387363   -235029.980485  2021-01-22  "
      ]
     },
     "execution_count": 99,
     "metadata": {},
     "output_type": "execute_result"
    }
   ],
   "source": [
    "query=f\"\"\"\n",
    "SELECT 'VFX-VIG' as db,'' as login,'' as `group`, ROUND(SUM(m_pnl),10) , SUM(s_pnl),SUM(m_volume), SUM(s_volume),SUM(m_commission) ,SUM(s_commission), SUM(m_stp), SUM(s_stp),SUM(m_swap), SUM(s_swap), SUM(b_outer) + SUM(b_inner) as b_rebate, SUM(s_inner) + SUM(s_outer) as s_rebate, SUM(deposit), SUM(withdrawal) , \n",
    "date FROM `VFX-VIG`.detail \n",
    "\"\"\"+\"WHERE DATE BETWEEN '\"+str(nowDate)+\"' AND '\"+str(nowDate)+\"' and (db LIKE '%AU3' or db LIKE '%UK3') GROUP BY date;\"\n",
    "reb_df2 = pd.read_sql_query(query, engine)\n",
    "reb_df2.head()"
   ]
  },
  {
   "cell_type": "code",
   "execution_count": 93,
   "metadata": {},
   "outputs": [],
   "source": [
    "engine.dispose()"
   ]
  },
  {
   "cell_type": "code",
   "execution_count": 83,
   "metadata": {},
   "outputs": [],
   "source": [
    "# 庫核對\n",
    "excel_rownumber = sqlcheck_vfx1.cells(1, \"A\").end('down').row + 1\n",
    "sqlcheck_vfx1.range(\"A\"+str(excel_rownumber)+\":R\"+str(excel_rownumber)).value = reb_df1.iloc[0].values\n",
    "sqlcheck_vfx2.range(\"A\"+str(excel_rownumber)+\":R\"+str(excel_rownumber)).value = reb_df2.iloc[0].values"
   ]
  },
  {
   "cell_type": "code",
   "execution_count": 75,
   "metadata": {},
   "outputs": [],
   "source": [
    "sht = wb.sheets['匯總_VFX_VIG']\n",
    "today_column = summary_vfx1_sht.cells(2, \"F\").end('right').column\n",
    "today_column = today_column-1"
   ]
  },
  {
   "cell_type": "code",
   "execution_count": 76,
   "metadata": {},
   "outputs": [
    {
     "data": {
      "text/plain": [
       "'U'"
      ]
     },
     "execution_count": 76,
     "metadata": {},
     "output_type": "execute_result"
    }
   ],
   "source": [
    "chr(ord('@')+today_column)"
   ]
  },
  {
   "cell_type": "code",
   "execution_count": 32,
   "metadata": {},
   "outputs": [
    {
     "data": {
      "text/plain": [
       "True"
      ]
     },
     "execution_count": 32,
     "metadata": {},
     "output_type": "execute_result"
    }
   ],
   "source": [
    "# 新增一欄\n",
    "sht.range(chr(ord('@')+today_column)+\":\"+chr(ord('@')+today_column)).api.Insert()\n",
    "# 拉公式"
   ]
  },
  {
   "cell_type": "code",
   "execution_count": 66,
   "metadata": {},
   "outputs": [],
   "source": [
    "# 拉公式\n",
    "lag_col = today_column -1 \n",
    "sht.range((2,lag_col),(63,lag_col)).formula_array"
   ]
  },
  {
   "cell_type": "code",
   "execution_count": 72,
   "metadata": {},
   "outputs": [
    {
     "ename": "com_error",
     "evalue": "(-2146827864, 'OLE error 0x800a01a8', None, None)",
     "output_type": "error",
     "traceback": [
      "\u001b[1;31m---------------------------------------------------------------------------\u001b[0m",
      "\u001b[1;31mcom_error\u001b[0m                                 Traceback (most recent call last)",
      "\u001b[1;32m<ipython-input-72-5a194f531d3f>\u001b[0m in \u001b[0;36m<module>\u001b[1;34m\u001b[0m\n\u001b[1;32m----> 1\u001b[1;33m \u001b[0msht\u001b[0m\u001b[1;33m.\u001b[0m\u001b[0mrange\u001b[0m\u001b[1;33m(\u001b[0m\u001b[1;33m(\u001b[0m\u001b[1;36m2\u001b[0m\u001b[1;33m,\u001b[0m\u001b[0mtoday_column\u001b[0m\u001b[1;33m)\u001b[0m\u001b[1;33m,\u001b[0m\u001b[1;33m(\u001b[0m\u001b[1;36m2\u001b[0m\u001b[1;33m,\u001b[0m\u001b[0mtoday_column\u001b[0m\u001b[1;33m)\u001b[0m\u001b[1;33m)\u001b[0m\u001b[1;33m.\u001b[0m\u001b[0mvalue\u001b[0m\u001b[1;33m\u001b[0m\u001b[1;33m\u001b[0m\u001b[0m\n\u001b[0m",
      "\u001b[1;32m~\\Anaconda3\\lib\\site-packages\\xlwings\\main.py\u001b[0m in \u001b[0;36mrange\u001b[1;34m(self, cell1, cell2)\u001b[0m\n\u001b[0;32m    862\u001b[0m                 \u001b[1;32mraise\u001b[0m \u001b[0mValueError\u001b[0m\u001b[1;33m(\u001b[0m\u001b[1;34m\"Second range is not on this sheet\"\u001b[0m\u001b[1;33m)\u001b[0m\u001b[1;33m\u001b[0m\u001b[1;33m\u001b[0m\u001b[0m\n\u001b[0;32m    863\u001b[0m             \u001b[0mcell2\u001b[0m \u001b[1;33m=\u001b[0m \u001b[0mcell2\u001b[0m\u001b[1;33m.\u001b[0m\u001b[0mimpl\u001b[0m\u001b[1;33m\u001b[0m\u001b[1;33m\u001b[0m\u001b[0m\n\u001b[1;32m--> 864\u001b[1;33m         \u001b[1;32mreturn\u001b[0m \u001b[0mRange\u001b[0m\u001b[1;33m(\u001b[0m\u001b[0mimpl\u001b[0m\u001b[1;33m=\u001b[0m\u001b[0mself\u001b[0m\u001b[1;33m.\u001b[0m\u001b[0mimpl\u001b[0m\u001b[1;33m.\u001b[0m\u001b[0mrange\u001b[0m\u001b[1;33m(\u001b[0m\u001b[0mcell1\u001b[0m\u001b[1;33m,\u001b[0m \u001b[0mcell2\u001b[0m\u001b[1;33m)\u001b[0m\u001b[1;33m)\u001b[0m\u001b[1;33m\u001b[0m\u001b[1;33m\u001b[0m\u001b[0m\n\u001b[0m\u001b[0;32m    865\u001b[0m \u001b[1;33m\u001b[0m\u001b[0m\n\u001b[0;32m    866\u001b[0m     \u001b[1;33m@\u001b[0m\u001b[0mproperty\u001b[0m\u001b[1;33m\u001b[0m\u001b[1;33m\u001b[0m\u001b[0m\n",
      "\u001b[1;32m~\\Anaconda3\\lib\\site-packages\\xlwings\\_xlwindows.py\u001b[0m in \u001b[0;36mrange\u001b[1;34m(self, arg1, arg2)\u001b[0m\n\u001b[0;32m    616\u001b[0m             \u001b[1;32mif\u001b[0m \u001b[1;36m0\u001b[0m \u001b[1;32min\u001b[0m \u001b[0marg1\u001b[0m\u001b[1;33m:\u001b[0m\u001b[1;33m\u001b[0m\u001b[1;33m\u001b[0m\u001b[0m\n\u001b[0;32m    617\u001b[0m                 \u001b[1;32mraise\u001b[0m \u001b[0mIndexError\u001b[0m\u001b[1;33m(\u001b[0m\u001b[1;34m\"Attempted to access 0-based Range. xlwings/Excel Ranges are 1-based.\"\u001b[0m\u001b[1;33m)\u001b[0m\u001b[1;33m\u001b[0m\u001b[1;33m\u001b[0m\u001b[0m\n\u001b[1;32m--> 618\u001b[1;33m             \u001b[0mxl1\u001b[0m \u001b[1;33m=\u001b[0m \u001b[0mself\u001b[0m\u001b[1;33m.\u001b[0m\u001b[0mxl\u001b[0m\u001b[1;33m.\u001b[0m\u001b[0mCells\u001b[0m\u001b[1;33m(\u001b[0m\u001b[0marg1\u001b[0m\u001b[1;33m[\u001b[0m\u001b[1;36m0\u001b[0m\u001b[1;33m]\u001b[0m\u001b[1;33m,\u001b[0m \u001b[0marg1\u001b[0m\u001b[1;33m[\u001b[0m\u001b[1;36m1\u001b[0m\u001b[1;33m]\u001b[0m\u001b[1;33m)\u001b[0m\u001b[1;33m\u001b[0m\u001b[1;33m\u001b[0m\u001b[0m\n\u001b[0m\u001b[0;32m    619\u001b[0m         \u001b[1;32melif\u001b[0m \u001b[0misinstance\u001b[0m\u001b[1;33m(\u001b[0m\u001b[0marg1\u001b[0m\u001b[1;33m,\u001b[0m \u001b[0mnumbers\u001b[0m\u001b[1;33m.\u001b[0m\u001b[0mNumber\u001b[0m\u001b[1;33m)\u001b[0m \u001b[1;32mand\u001b[0m \u001b[0misinstance\u001b[0m\u001b[1;33m(\u001b[0m\u001b[0marg2\u001b[0m\u001b[1;33m,\u001b[0m \u001b[0mnumbers\u001b[0m\u001b[1;33m.\u001b[0m\u001b[0mNumber\u001b[0m\u001b[1;33m)\u001b[0m\u001b[1;33m:\u001b[0m\u001b[1;33m\u001b[0m\u001b[1;33m\u001b[0m\u001b[0m\n\u001b[0;32m    620\u001b[0m             \u001b[0mxl1\u001b[0m \u001b[1;33m=\u001b[0m \u001b[0mself\u001b[0m\u001b[1;33m.\u001b[0m\u001b[0mxl\u001b[0m\u001b[1;33m.\u001b[0m\u001b[0mCells\u001b[0m\u001b[1;33m(\u001b[0m\u001b[0marg1\u001b[0m\u001b[1;33m,\u001b[0m \u001b[0marg2\u001b[0m\u001b[1;33m)\u001b[0m\u001b[1;33m\u001b[0m\u001b[1;33m\u001b[0m\u001b[0m\n",
      "\u001b[1;32m~\\Anaconda3\\lib\\site-packages\\xlwings\\_xlwindows.py\u001b[0m in \u001b[0;36m__getattr__\u001b[1;34m(self, item)\u001b[0m\n\u001b[0;32m    120\u001b[0m         \u001b[1;32mwhile\u001b[0m \u001b[1;32mTrue\u001b[0m\u001b[1;33m:\u001b[0m\u001b[1;33m\u001b[0m\u001b[1;33m\u001b[0m\u001b[0m\n\u001b[0;32m    121\u001b[0m             \u001b[1;32mtry\u001b[0m\u001b[1;33m:\u001b[0m\u001b[1;33m\u001b[0m\u001b[1;33m\u001b[0m\u001b[0m\n\u001b[1;32m--> 122\u001b[1;33m                 \u001b[0mv\u001b[0m \u001b[1;33m=\u001b[0m \u001b[0mgetattr\u001b[0m\u001b[1;33m(\u001b[0m\u001b[0mself\u001b[0m\u001b[1;33m.\u001b[0m\u001b[0m_inner\u001b[0m\u001b[1;33m,\u001b[0m \u001b[0mitem\u001b[0m\u001b[1;33m)\u001b[0m\u001b[1;33m\u001b[0m\u001b[1;33m\u001b[0m\u001b[0m\n\u001b[0m\u001b[0;32m    123\u001b[0m                 \u001b[1;32mif\u001b[0m \u001b[0misinstance\u001b[0m\u001b[1;33m(\u001b[0m\u001b[0mv\u001b[0m\u001b[1;33m,\u001b[0m \u001b[1;33m(\u001b[0m\u001b[0mCDispatch\u001b[0m\u001b[1;33m,\u001b[0m \u001b[0mCoClassBaseClass\u001b[0m\u001b[1;33m,\u001b[0m \u001b[0mDispatchBaseClass\u001b[0m\u001b[1;33m)\u001b[0m\u001b[1;33m)\u001b[0m\u001b[1;33m:\u001b[0m\u001b[1;33m\u001b[0m\u001b[1;33m\u001b[0m\u001b[0m\n\u001b[0;32m    124\u001b[0m                     \u001b[1;32mreturn\u001b[0m \u001b[0mCOMRetryObjectWrapper\u001b[0m\u001b[1;33m(\u001b[0m\u001b[0mv\u001b[0m\u001b[1;33m)\u001b[0m\u001b[1;33m\u001b[0m\u001b[1;33m\u001b[0m\u001b[0m\n",
      "\u001b[1;32m~\\Anaconda3\\lib\\site-packages\\win32com\\client\\__init__.py\u001b[0m in \u001b[0;36m__getattr__\u001b[1;34m(self, attr)\u001b[0m\n\u001b[0;32m    472\u001b[0m                 \u001b[1;32mif\u001b[0m \u001b[0margs\u001b[0m \u001b[1;32mis\u001b[0m \u001b[1;32mNone\u001b[0m\u001b[1;33m:\u001b[0m\u001b[1;33m\u001b[0m\u001b[1;33m\u001b[0m\u001b[0m\n\u001b[0;32m    473\u001b[0m                         \u001b[1;32mraise\u001b[0m \u001b[0mAttributeError\u001b[0m\u001b[1;33m(\u001b[0m\u001b[1;34m\"'%s' object has no attribute '%s'\"\u001b[0m \u001b[1;33m%\u001b[0m \u001b[1;33m(\u001b[0m\u001b[0mrepr\u001b[0m\u001b[1;33m(\u001b[0m\u001b[0mself\u001b[0m\u001b[1;33m)\u001b[0m\u001b[1;33m,\u001b[0m \u001b[0mattr\u001b[0m\u001b[1;33m)\u001b[0m\u001b[1;33m)\u001b[0m\u001b[1;33m\u001b[0m\u001b[1;33m\u001b[0m\u001b[0m\n\u001b[1;32m--> 474\u001b[1;33m                 \u001b[1;32mreturn\u001b[0m \u001b[0mself\u001b[0m\u001b[1;33m.\u001b[0m\u001b[0m_ApplyTypes_\u001b[0m\u001b[1;33m(\u001b[0m\u001b[1;33m*\u001b[0m\u001b[0margs\u001b[0m\u001b[1;33m)\u001b[0m\u001b[1;33m\u001b[0m\u001b[1;33m\u001b[0m\u001b[0m\n\u001b[0m\u001b[0;32m    475\u001b[0m \u001b[1;33m\u001b[0m\u001b[0m\n\u001b[0;32m    476\u001b[0m         \u001b[1;32mdef\u001b[0m \u001b[0m__setattr__\u001b[0m\u001b[1;33m(\u001b[0m\u001b[0mself\u001b[0m\u001b[1;33m,\u001b[0m \u001b[0mattr\u001b[0m\u001b[1;33m,\u001b[0m \u001b[0mvalue\u001b[0m\u001b[1;33m)\u001b[0m\u001b[1;33m:\u001b[0m\u001b[1;33m\u001b[0m\u001b[1;33m\u001b[0m\u001b[0m\n",
      "\u001b[1;32m~\\Anaconda3\\lib\\site-packages\\win32com\\client\\__init__.py\u001b[0m in \u001b[0;36m_ApplyTypes_\u001b[1;34m(self, dispid, wFlags, retType, argTypes, user, resultCLSID, *args)\u001b[0m\n\u001b[0;32m    465\u001b[0m         \u001b[1;32mdef\u001b[0m \u001b[0m_ApplyTypes_\u001b[0m\u001b[1;33m(\u001b[0m\u001b[0mself\u001b[0m\u001b[1;33m,\u001b[0m \u001b[0mdispid\u001b[0m\u001b[1;33m,\u001b[0m \u001b[0mwFlags\u001b[0m\u001b[1;33m,\u001b[0m \u001b[0mretType\u001b[0m\u001b[1;33m,\u001b[0m \u001b[0margTypes\u001b[0m\u001b[1;33m,\u001b[0m \u001b[0muser\u001b[0m\u001b[1;33m,\u001b[0m \u001b[0mresultCLSID\u001b[0m\u001b[1;33m,\u001b[0m \u001b[1;33m*\u001b[0m\u001b[0margs\u001b[0m\u001b[1;33m)\u001b[0m\u001b[1;33m:\u001b[0m\u001b[1;33m\u001b[0m\u001b[1;33m\u001b[0m\u001b[0m\n\u001b[0;32m    466\u001b[0m \t\treturn self._get_good_object_(\n\u001b[1;32m--> 467\u001b[1;33m                         \u001b[0mself\u001b[0m\u001b[1;33m.\u001b[0m\u001b[0m_oleobj_\u001b[0m\u001b[1;33m.\u001b[0m\u001b[0mInvokeTypes\u001b[0m\u001b[1;33m(\u001b[0m\u001b[0mdispid\u001b[0m\u001b[1;33m,\u001b[0m \u001b[1;36m0\u001b[0m\u001b[1;33m,\u001b[0m \u001b[0mwFlags\u001b[0m\u001b[1;33m,\u001b[0m \u001b[0mretType\u001b[0m\u001b[1;33m,\u001b[0m \u001b[0margTypes\u001b[0m\u001b[1;33m,\u001b[0m \u001b[1;33m*\u001b[0m\u001b[0margs\u001b[0m\u001b[1;33m)\u001b[0m\u001b[1;33m,\u001b[0m\u001b[1;33m\u001b[0m\u001b[1;33m\u001b[0m\u001b[0m\n\u001b[0m\u001b[0;32m    468\u001b[0m \t\t\tuser, resultCLSID)\n\u001b[0;32m    469\u001b[0m \u001b[1;33m\u001b[0m\u001b[0m\n",
      "\u001b[1;31mcom_error\u001b[0m: (-2146827864, 'OLE error 0x800a01a8', None, None)"
     ]
    }
   ],
   "source": [
    "sht.range((2,today_column),(2,today_column)).value"
   ]
  },
  {
   "cell_type": "code",
   "execution_count": 71,
   "metadata": {},
   "outputs": [],
   "source": [
    "# Vanuatu_VIG PNL \n",
    "wbcopy = xw.books.open('VIG PNL.xlsx')\n",
    "copy = wbcopy.sheets['NPL']"
   ]
  },
  {
   "cell_type": "code",
   "execution_count": 35,
   "metadata": {},
   "outputs": [],
   "source": [
    "# 複製貼上\n",
    "# 今日欄位\n",
    "today_column = summary_vfx1_sht.cells(2, \"F\").end('right').column-1\n",
    "sht.range((4,today_column)).value = copy.range('A1').value\n",
    "sht.range((5,today_column)).value = copy.range('A2').value\n",
    "sht.range((6,today_column)).value = copy.range('A3').value\n",
    "sht.range((8,today_column)).value = copy.range('A4').value\n",
    "sht.range((12,today_column)).value = copy.range('A5').value\n",
    "sht.range((13,today_column)).value = copy.range('A6').value\n",
    "sht.range((14,today_column)).value = copy.range('A7').value\n",
    "sht.range((15,today_column)).value = copy.range('A8').value\n",
    "sht.range((22,today_column)).value = copy.range('A9').value\n",
    "sht.range((23,today_column)).value = copy.range('A10').value\n",
    "sht.range((24,today_column)).value = copy.range('A11').value\n",
    "sht.range((25,today_column)).value = copy.range('A12').value\n",
    "sht.range((30,today_column)).value = copy.range('A13').value\n",
    "sht.range((31,today_column)).value = copy.range('A14').value\n",
    "sht.range((32,today_column)).value = copy.range('A15').value\n",
    "sht.range((33,today_column)).value = copy.range('A16').value\n",
    "sht.range((41,today_column)).value = copy.range('A17').value\n",
    "sht.range((42,today_column)).value = copy.range('A18').value\n",
    "sht.range((45,today_column)).value = copy.range('A19').value\n",
    "sht.range((54,today_column)).value = copy.range('A20').value\n",
    "sht.range((60,today_column)).value = copy.range('A21').value\n",
    "sht.range((61,today_column)).value = copy.range('A22').value"
   ]
  },
  {
   "cell_type": "code",
   "execution_count": 77,
   "metadata": {},
   "outputs": [],
   "source": [
    "\n",
    "sht = wb.sheets['匯總_VFX_VIG 2']\n",
    "# 複製貼上\n",
    "# 今日欄位\n",
    "sht.range((4,today_column)).value = copy.range('B1').value\n",
    "sht.range((5,today_column)).value = copy.range('B2').value\n",
    "sht.range((6,today_column)).value = copy.range('B3').value\n",
    "sht.range((8,today_column)).value = copy.range('B4').value\n",
    "sht.range((12,today_column)).value = copy.range('B5').value\n",
    "sht.range((13,today_column)).value = copy.range('B6').value\n",
    "sht.range((14,today_column)).value = copy.range('B7').value\n",
    "sht.range((15,today_column)).value = copy.range('B8').value\n",
    "sht.range((22,today_column)).value = copy.range('B9').value\n",
    "sht.range((23,today_column)).value = copy.range('B10').value\n",
    "sht.range((24,today_column)).value = copy.range('B11').value\n",
    "sht.range((25,today_column)).value = copy.range('B12').value\n",
    "sht.range((30,today_column)).value = copy.range('B13').value\n",
    "sht.range((31,today_column)).value = copy.range('B14').value\n",
    "sht.range((32,today_column)).value = copy.range('B15').value\n",
    "sht.range((33,today_column)).value = copy.range('B16').value\n",
    "sht.range((41,today_column)).value = copy.range('B17').value\n",
    "sht.range((42,today_column)).value = copy.range('B18').value\n",
    "sht.range((45,today_column)).value = copy.range('B19').value\n",
    "sht.range((54,today_column)).value = copy.range('B20').value\n",
    "\n"
   ]
  },
  {
   "cell_type": "code",
   "execution_count": 38,
   "metadata": {},
   "outputs": [
    {
     "data": {
      "text/plain": [
       "datetime.datetime(2021, 1, 22, 0, 0)"
      ]
     },
     "execution_count": 38,
     "metadata": {},
     "output_type": "execute_result"
    }
   ],
   "source": [
    "sht = wb.sheets['result']\n",
    "today_column = sht.cells(3, \"B\").end('right').column\n",
    "sht.range((3,today_column)).value"
   ]
  },
  {
   "cell_type": "code",
   "execution_count": 39,
   "metadata": {},
   "outputs": [],
   "source": [
    "# result 今日欄位\n",
    "sht.range((31,today_column)).value = copy.range('C1').value\n",
    "sht.range((32,today_column)).value = copy.range('C2').value\n",
    "sht.range((33,today_column)).value = copy.range('C3').value\n",
    "sht.range((34,today_column)).value = copy.range('C4').value\n",
    "sht.range((77,today_column)).value = copy.range('C5').value\n",
    "sht.range((78,today_column)).value = copy.range('C6').value\n",
    "sht.range((81,today_column)).value = copy.range('C7').value\n",
    "sht.range((82,today_column)).value = copy.range('C8').value\n",
    "sht.range((87,today_column)).value = copy.range('C9').value\n",
    "sht.range((91,today_column)).value = copy.range('C10').value\n",
    "sht.range((92,today_column)).value = copy.range('C11').value\n",
    "sht.range((106,today_column)).value = copy.range('C12').value\n",
    "sht.range((107,today_column)).value = copy.range('C13').value\n",
    "sht.range((110,today_column)).value = copy.range('C14').value\n",
    "sht.range((111,today_column)).value = copy.range('C15').value\n",
    "sht.range((116,today_column)).value = copy.range('C16').value\n",
    "sht.range((120,today_column)).value = copy.range('C17').value\n",
    "sht.range((121,today_column)).value = copy.range('C18').value"
   ]
  },
  {
   "cell_type": "code",
   "execution_count": 40,
   "metadata": {},
   "outputs": [
    {
     "ename": "NameError",
     "evalue": "name 'app' is not defined",
     "output_type": "error",
     "traceback": [
      "\u001b[1;31m---------------------------------------------------------------------------\u001b[0m",
      "\u001b[1;31mNameError\u001b[0m                                 Traceback (most recent call last)",
      "\u001b[1;32m<ipython-input-40-af83a17a6831>\u001b[0m in \u001b[0;36m<module>\u001b[1;34m\u001b[0m\n\u001b[0;32m      1\u001b[0m \u001b[0mwb\u001b[0m\u001b[1;33m.\u001b[0m\u001b[0msave\u001b[0m\u001b[1;33m(\u001b[0m\u001b[1;34m'Vanuatu_VIG PNL-'\u001b[0m\u001b[1;33m+\u001b[0m\u001b[0mtodaynum\u001b[0m\u001b[1;33m+\u001b[0m\u001b[1;34m'.xlsx'\u001b[0m\u001b[1;33m)\u001b[0m\u001b[1;33m\u001b[0m\u001b[1;33m\u001b[0m\u001b[0m\n\u001b[0;32m      2\u001b[0m \u001b[0mwb\u001b[0m\u001b[1;33m.\u001b[0m\u001b[0mclose\u001b[0m\u001b[1;33m(\u001b[0m\u001b[1;33m)\u001b[0m\u001b[1;33m\u001b[0m\u001b[1;33m\u001b[0m\u001b[0m\n\u001b[1;32m----> 3\u001b[1;33m \u001b[0mapp\u001b[0m\u001b[1;33m.\u001b[0m\u001b[0mquit\u001b[0m\u001b[1;33m(\u001b[0m\u001b[1;33m)\u001b[0m\u001b[1;33m\u001b[0m\u001b[1;33m\u001b[0m\u001b[0m\n\u001b[0m",
      "\u001b[1;31mNameError\u001b[0m: name 'app' is not defined"
     ]
    }
   ],
   "source": [
    "wb.save('Vanuatu_VIG PNL-'+todaynum+'.xlsx')\n",
    "wb.close()\n",
    "app.quit()"
   ]
  },
  {
   "cell_type": "code",
   "execution_count": 212,
   "metadata": {},
   "outputs": [
    {
     "data": {
      "text/html": [
       "<div>\n",
       "<style scoped>\n",
       "    .dataframe tbody tr th:only-of-type {\n",
       "        vertical-align: middle;\n",
       "    }\n",
       "\n",
       "    .dataframe tbody tr th {\n",
       "        vertical-align: top;\n",
       "    }\n",
       "\n",
       "    .dataframe thead th {\n",
       "        text-align: right;\n",
       "    }\n",
       "</style>\n",
       "<table border=\"1\" class=\"dataframe\">\n",
       "  <thead>\n",
       "    <tr style=\"text-align: right;\">\n",
       "      <th></th>\n",
       "      <th>login</th>\n",
       "      <th>group</th>\n",
       "      <th>symbol</th>\n",
       "      <th>open_time</th>\n",
       "      <th>profit</th>\n",
       "      <th>comment</th>\n",
       "      <th>Group</th>\n",
       "      <th>CCY</th>\n",
       "      <th>Profit.in.USD</th>\n",
       "      <th>Mallog</th>\n",
       "      <th>...</th>\n",
       "      <th>Unnamed: 16</th>\n",
       "      <th>M.roller.adjustment.VIG</th>\n",
       "      <th>Unnamed: 18</th>\n",
       "      <th>Result.1</th>\n",
       "      <th>value.1</th>\n",
       "      <th>Unnamed: 21</th>\n",
       "      <th>Unnamed: 22</th>\n",
       "      <th>Mal</th>\n",
       "      <th>Unnamed: 24</th>\n",
       "      <th>Thai</th>\n",
       "    </tr>\n",
       "  </thead>\n",
       "  <tbody>\n",
       "    <tr>\n",
       "      <th>0</th>\n",
       "      <td>618542.0</td>\n",
       "      <td>M_VFX_PRO2_AUD</td>\n",
       "      <td>NaN</td>\n",
       "      <td>2021-01-15 00:47:28</td>\n",
       "      <td>199.51</td>\n",
       "      <td>Cash Adjustment-Rollover</td>\n",
       "      <td>M</td>\n",
       "      <td>AUD</td>\n",
       "      <td>153.680558</td>\n",
       "      <td>0.0</td>\n",
       "      <td>...</td>\n",
       "      <td>NaN</td>\n",
       "      <td>-2356.1</td>\n",
       "      <td>NaN</td>\n",
       "      <td>Mal M VIG</td>\n",
       "      <td>-446.194</td>\n",
       "      <td>NaN</td>\n",
       "      <td>NaN</td>\n",
       "      <td>888</td>\n",
       "      <td>NaN</td>\n",
       "      <td>876.0</td>\n",
       "    </tr>\n",
       "    <tr>\n",
       "      <th>1</th>\n",
       "      <td>621050.0</td>\n",
       "      <td>M_VIGM_P_USD</td>\n",
       "      <td>NaN</td>\n",
       "      <td>2021-01-15 00:47:28</td>\n",
       "      <td>19.40</td>\n",
       "      <td>Cash Adjustment-Rollover</td>\n",
       "      <td>M</td>\n",
       "      <td>USD</td>\n",
       "      <td>19.400000</td>\n",
       "      <td>1.0</td>\n",
       "      <td>...</td>\n",
       "      <td>NaN</td>\n",
       "      <td>NaN</td>\n",
       "      <td>NaN</td>\n",
       "      <td>VTL M VIG</td>\n",
       "      <td>0</td>\n",
       "      <td>NaN</td>\n",
       "      <td>NaN</td>\n",
       "      <td>890</td>\n",
       "      <td>NaN</td>\n",
       "      <td>882.0</td>\n",
       "    </tr>\n",
       "    <tr>\n",
       "      <th>2</th>\n",
       "      <td>621557.0</td>\n",
       "      <td>M_VIGM_P_USD</td>\n",
       "      <td>NaN</td>\n",
       "      <td>2021-01-15 00:47:27</td>\n",
       "      <td>19.40</td>\n",
       "      <td>Cash Adjustment-Rollover</td>\n",
       "      <td>M</td>\n",
       "      <td>USD</td>\n",
       "      <td>19.400000</td>\n",
       "      <td>1.0</td>\n",
       "      <td>...</td>\n",
       "      <td>NaN</td>\n",
       "      <td>NaN</td>\n",
       "      <td>NaN</td>\n",
       "      <td>VT M VIG</td>\n",
       "      <td>0</td>\n",
       "      <td>NaN</td>\n",
       "      <td>NaN</td>\n",
       "      <td>901</td>\n",
       "      <td>NaN</td>\n",
       "      <td>883.0</td>\n",
       "    </tr>\n",
       "    <tr>\n",
       "      <th>3</th>\n",
       "      <td>622767.0</td>\n",
       "      <td>M_VIG_P_AUD</td>\n",
       "      <td>NaN</td>\n",
       "      <td>2021-01-15 00:47:27</td>\n",
       "      <td>748.16</td>\n",
       "      <td>Cash Adjustment-Rollover</td>\n",
       "      <td>M</td>\n",
       "      <td>AUD</td>\n",
       "      <td>576.300166</td>\n",
       "      <td>0.0</td>\n",
       "      <td>...</td>\n",
       "      <td>NaN</td>\n",
       "      <td>NaN</td>\n",
       "      <td>NaN</td>\n",
       "      <td>NaN</td>\n",
       "      <td>NaN</td>\n",
       "      <td>NaN</td>\n",
       "      <td>NaN</td>\n",
       "      <td>903</td>\n",
       "      <td>NaN</td>\n",
       "      <td>884.0</td>\n",
       "    </tr>\n",
       "    <tr>\n",
       "      <th>4</th>\n",
       "      <td>624497.0</td>\n",
       "      <td>M_VIG_SGD</td>\n",
       "      <td>NaN</td>\n",
       "      <td>2021-01-15 00:47:29</td>\n",
       "      <td>77.08</td>\n",
       "      <td>Cash Adjustment-Rollover</td>\n",
       "      <td>M</td>\n",
       "      <td>SGD</td>\n",
       "      <td>57.904384</td>\n",
       "      <td>0.0</td>\n",
       "      <td>...</td>\n",
       "      <td>NaN</td>\n",
       "      <td>NaN</td>\n",
       "      <td>NaN</td>\n",
       "      <td>NaN</td>\n",
       "      <td>NaN</td>\n",
       "      <td>NaN</td>\n",
       "      <td>NaN</td>\n",
       "      <td>1588</td>\n",
       "      <td>NaN</td>\n",
       "      <td>887.0</td>\n",
       "    </tr>\n",
       "  </tbody>\n",
       "</table>\n",
       "<p>5 rows × 26 columns</p>\n",
       "</div>"
      ],
      "text/plain": [
       "      login           group  symbol            open_time  profit  \\\n",
       "0  618542.0  M_VFX_PRO2_AUD     NaN  2021-01-15 00:47:28  199.51   \n",
       "1  621050.0    M_VIGM_P_USD     NaN  2021-01-15 00:47:28   19.40   \n",
       "2  621557.0    M_VIGM_P_USD     NaN  2021-01-15 00:47:27   19.40   \n",
       "3  622767.0     M_VIG_P_AUD     NaN  2021-01-15 00:47:27  748.16   \n",
       "4  624497.0       M_VIG_SGD     NaN  2021-01-15 00:47:29   77.08   \n",
       "\n",
       "                    comment Group  CCY  Profit.in.USD  Mallog  ...  \\\n",
       "0  Cash Adjustment-Rollover     M  AUD     153.680558     0.0  ...   \n",
       "1  Cash Adjustment-Rollover     M  USD      19.400000     1.0  ...   \n",
       "2  Cash Adjustment-Rollover     M  USD      19.400000     1.0  ...   \n",
       "3  Cash Adjustment-Rollover     M  AUD     576.300166     0.0  ...   \n",
       "4  Cash Adjustment-Rollover     M  SGD      57.904384     0.0  ...   \n",
       "\n",
       "   Unnamed: 16  M.roller.adjustment.VIG Unnamed: 18   Result.1  value.1  \\\n",
       "0          NaN                  -2356.1         NaN  Mal M VIG -446.194   \n",
       "1          NaN                      NaN         NaN  VTL M VIG        0   \n",
       "2          NaN                      NaN         NaN   VT M VIG        0   \n",
       "3          NaN                      NaN         NaN        NaN      NaN   \n",
       "4          NaN                      NaN         NaN        NaN      NaN   \n",
       "\n",
       "  Unnamed: 21  Unnamed: 22   Mal  Unnamed: 24   Thai  \n",
       "0         NaN          NaN   888          NaN  876.0  \n",
       "1         NaN          NaN   890          NaN  882.0  \n",
       "2         NaN          NaN   901          NaN  883.0  \n",
       "3         NaN          NaN   903          NaN  884.0  \n",
       "4         NaN          NaN  1588          NaN  887.0  \n",
       "\n",
       "[5 rows x 26 columns]"
      ]
     },
     "execution_count": 212,
     "metadata": {},
     "output_type": "execute_result"
    }
   ],
   "source": [
    "# 如果有展期 計算vfx1 2 roller\n",
    "# 讀取roller \n",
    "files = [f for f in os.listdir('.') if os.path.isfile(f)]\n",
    "r = re.compile(\"roller_all\")\n",
    "roller = list(filter(r.match, files)) # Read Note\n",
    "\n",
    "vfx_roller = pd.read_excel('roller_all.xlsx' , sheet_name= 'VFX')\n",
    "vfx_roller.head()\n",
    "\n",
    "type(vfxRaw['login'])\n",
    "vfx_roller.dropna(subset=['login'], inplace=True)\n",
    "vfx_roller"
   ]
  },
  {
   "cell_type": "code",
   "execution_count": 18,
   "metadata": {},
   "outputs": [
    {
     "ename": "NameError",
     "evalue": "name 'user' is not defined",
     "output_type": "error",
     "traceback": [
      "\u001b[1;31m---------------------------------------------------------------------------\u001b[0m",
      "\u001b[1;31mNameError\u001b[0m                                 Traceback (most recent call last)",
      "\u001b[1;32m<ipython-input-18-832d5beb1fe7>\u001b[0m in \u001b[0;36m<module>\u001b[1;34m\u001b[0m\n\u001b[0;32m      7\u001b[0m \u001b[1;31m# ','.join([stringf(elem) for elem in s])\u001b[0m\u001b[1;33m\u001b[0m\u001b[1;33m\u001b[0m\u001b[1;33m\u001b[0m\u001b[0m\n\u001b[0;32m      8\u001b[0m \u001b[1;33m\u001b[0m\u001b[0m\n\u001b[1;32m----> 9\u001b[1;33m \u001b[0mengine\u001b[0m \u001b[1;33m=\u001b[0m \u001b[0mcreate_engine\u001b[0m\u001b[1;33m(\u001b[0m\u001b[1;34m'mysql+pymysql://{user}:{password}@{host}:{port}/allothers'\u001b[0m\u001b[1;33m.\u001b[0m\u001b[0mformat\u001b[0m\u001b[1;33m(\u001b[0m\u001b[0muser\u001b[0m\u001b[1;33m=\u001b[0m\u001b[0muser\u001b[0m\u001b[1;33m,\u001b[0m \u001b[0mpassword\u001b[0m\u001b[1;33m=\u001b[0m\u001b[0mpassword\u001b[0m\u001b[1;33m,\u001b[0m \u001b[0mhost\u001b[0m\u001b[1;33m=\u001b[0m\u001b[0mhost\u001b[0m\u001b[1;33m,\u001b[0m \u001b[0mport\u001b[0m\u001b[1;33m=\u001b[0m\u001b[0mport\u001b[0m\u001b[1;33m,\u001b[0m \u001b[0mdbname\u001b[0m\u001b[1;33m=\u001b[0m\u001b[0mdbname\u001b[0m\u001b[1;33m)\u001b[0m\u001b[1;33m)\u001b[0m\u001b[1;33m\u001b[0m\u001b[1;33m\u001b[0m\u001b[0m\n\u001b[0m\u001b[0;32m     10\u001b[0m \u001b[0midString\u001b[0m \u001b[1;33m=\u001b[0m \u001b[1;34m','\u001b[0m\u001b[1;33m.\u001b[0m\u001b[0mjoin\u001b[0m\u001b[1;33m(\u001b[0m\u001b[1;33m[\u001b[0m\u001b[0mstringf\u001b[0m\u001b[1;33m(\u001b[0m\u001b[0melem\u001b[0m\u001b[1;33m)\u001b[0m \u001b[1;32mfor\u001b[0m \u001b[0melem\u001b[0m \u001b[1;32min\u001b[0m \u001b[0mvfx_roller\u001b[0m\u001b[1;33m[\u001b[0m\u001b[1;34m'login'\u001b[0m\u001b[1;33m]\u001b[0m\u001b[1;33m]\u001b[0m\u001b[1;33m)\u001b[0m\u001b[1;33m\u001b[0m\u001b[1;33m\u001b[0m\u001b[0m\n\u001b[0;32m     11\u001b[0m \u001b[0msql_fmt\u001b[0m \u001b[1;33m=\u001b[0m \u001b[1;34m\"SELECT db, login FROM allothers.account where login in (%s);\"\u001b[0m \u001b[1;33m%\u001b[0m \u001b[0midString\u001b[0m\u001b[1;33m\u001b[0m\u001b[1;33m\u001b[0m\u001b[0m\n",
      "\u001b[1;31mNameError\u001b[0m: name 'user' is not defined"
     ]
    }
   ],
   "source": [
    "def stringf(x):\n",
    "    return(\"'%s'\" % str(x))\n",
    "\n",
    "# stringf('123')\n",
    "\n",
    "# s = ['123','445','566']\n",
    "# ','.join([stringf(elem) for elem in s]) \n",
    "\n",
    "engine = create_engine('mysql+pymysql://{user}:{password}@{host}:{port}/allothers'.format(user=user, password=password, host=host, port=port, dbname=dbname))\n",
    "idString = ','.join([stringf(elem) for elem in vfx_roller['login']]) \n",
    "sql_fmt = \"SELECT db, login FROM allothers.account where login in (%s);\" % idString\n",
    "sql_fmt"
   ]
  },
  {
   "cell_type": "code",
   "execution_count": 256,
   "metadata": {},
   "outputs": [
    {
     "ename": "KeyError",
     "evalue": "'db'",
     "output_type": "error",
     "traceback": [
      "\u001b[1;31m---------------------------------------------------------------------------\u001b[0m",
      "\u001b[1;31mKeyError\u001b[0m                                  Traceback (most recent call last)",
      "\u001b[1;32m~\\Anaconda3\\lib\\site-packages\\pandas\\core\\indexes\\base.py\u001b[0m in \u001b[0;36mget_loc\u001b[1;34m(self, key, method, tolerance)\u001b[0m\n\u001b[0;32m   2894\u001b[0m             \u001b[1;32mtry\u001b[0m\u001b[1;33m:\u001b[0m\u001b[1;33m\u001b[0m\u001b[1;33m\u001b[0m\u001b[0m\n\u001b[1;32m-> 2895\u001b[1;33m                 \u001b[1;32mreturn\u001b[0m \u001b[0mself\u001b[0m\u001b[1;33m.\u001b[0m\u001b[0m_engine\u001b[0m\u001b[1;33m.\u001b[0m\u001b[0mget_loc\u001b[0m\u001b[1;33m(\u001b[0m\u001b[0mcasted_key\u001b[0m\u001b[1;33m)\u001b[0m\u001b[1;33m\u001b[0m\u001b[1;33m\u001b[0m\u001b[0m\n\u001b[0m\u001b[0;32m   2896\u001b[0m             \u001b[1;32mexcept\u001b[0m \u001b[0mKeyError\u001b[0m \u001b[1;32mas\u001b[0m \u001b[0merr\u001b[0m\u001b[1;33m:\u001b[0m\u001b[1;33m\u001b[0m\u001b[1;33m\u001b[0m\u001b[0m\n",
      "\u001b[1;32mpandas\\_libs\\index.pyx\u001b[0m in \u001b[0;36mpandas._libs.index.IndexEngine.get_loc\u001b[1;34m()\u001b[0m\n",
      "\u001b[1;32mpandas\\_libs\\index.pyx\u001b[0m in \u001b[0;36mpandas._libs.index.IndexEngine.get_loc\u001b[1;34m()\u001b[0m\n",
      "\u001b[1;32mpandas\\_libs\\hashtable_class_helper.pxi\u001b[0m in \u001b[0;36mpandas._libs.hashtable.PyObjectHashTable.get_item\u001b[1;34m()\u001b[0m\n",
      "\u001b[1;32mpandas\\_libs\\hashtable_class_helper.pxi\u001b[0m in \u001b[0;36mpandas._libs.hashtable.PyObjectHashTable.get_item\u001b[1;34m()\u001b[0m\n",
      "\u001b[1;31mKeyError\u001b[0m: 'db'",
      "\nThe above exception was the direct cause of the following exception:\n",
      "\u001b[1;31mKeyError\u001b[0m                                  Traceback (most recent call last)",
      "\u001b[1;32m<ipython-input-256-8c38f9a1c9db>\u001b[0m in \u001b[0;36m<module>\u001b[1;34m\u001b[0m\n\u001b[0;32m      7\u001b[0m \u001b[0mvfx_roller\u001b[0m \u001b[1;33m=\u001b[0m \u001b[0mpd\u001b[0m\u001b[1;33m.\u001b[0m\u001b[0mmerge\u001b[0m\u001b[1;33m(\u001b[0m\u001b[0mvfx_roller\u001b[0m\u001b[1;33m,\u001b[0m \u001b[0maccount\u001b[0m\u001b[1;33m,\u001b[0m\u001b[0mhow\u001b[0m\u001b[1;33m=\u001b[0m\u001b[1;34m'left'\u001b[0m\u001b[1;33m,\u001b[0m \u001b[0mon\u001b[0m\u001b[1;33m=\u001b[0m\u001b[1;34m'login'\u001b[0m\u001b[1;33m)\u001b[0m\u001b[1;33m\u001b[0m\u001b[1;33m\u001b[0m\u001b[0m\n\u001b[0;32m      8\u001b[0m \u001b[1;33m\u001b[0m\u001b[0m\n\u001b[1;32m----> 9\u001b[1;33m vfx_roller = vfx_roller.assign(\n\u001b[0m\u001b[0;32m     10\u001b[0m     \u001b[0mtype\u001b[0m \u001b[1;33m=\u001b[0m \u001b[1;32mlambda\u001b[0m \u001b[0mdataframe\u001b[0m\u001b[1;33m:\u001b[0m \u001b[0mvfx_roller\u001b[0m\u001b[1;33m[\u001b[0m\u001b[1;34m'db'\u001b[0m\u001b[1;33m]\u001b[0m\u001b[1;33m.\u001b[0m\u001b[0mmap\u001b[0m\u001b[1;33m(\u001b[0m\u001b[1;32mlambda\u001b[0m \u001b[0mdb\u001b[0m\u001b[1;33m:\u001b[0m \u001b[1;34m'vfx1'\u001b[0m \u001b[1;32mif\u001b[0m \u001b[0mdb\u001b[0m \u001b[1;32min\u001b[0m \u001b[0mvfx1\u001b[0m \u001b[1;32melse\u001b[0m \u001b[1;33m(\u001b[0m\u001b[1;34m'vfx2'\u001b[0m \u001b[1;32mif\u001b[0m \u001b[0mdb\u001b[0m \u001b[1;32min\u001b[0m \u001b[0mvfx2\u001b[0m \u001b[1;32melse\u001b[0m \u001b[1;34m'else'\u001b[0m\u001b[1;33m)\u001b[0m\u001b[1;33m)\u001b[0m\u001b[1;33m,\u001b[0m\u001b[1;33m\u001b[0m\u001b[1;33m\u001b[0m\u001b[0m\n\u001b[0;32m     11\u001b[0m     \u001b[0mVT\u001b[0m \u001b[1;33m=\u001b[0m \u001b[1;32mlambda\u001b[0m \u001b[0mdataframe\u001b[0m\u001b[1;33m:\u001b[0m \u001b[0mvfx_roller\u001b[0m\u001b[1;33m[\u001b[0m\u001b[1;34m'group'\u001b[0m\u001b[1;33m]\u001b[0m\u001b[1;33m.\u001b[0m\u001b[0mmap\u001b[0m\u001b[1;33m(\u001b[0m\u001b[1;32mlambda\u001b[0m \u001b[0mgroup\u001b[0m\u001b[1;33m:\u001b[0m \u001b[0mbool\u001b[0m\u001b[1;33m(\u001b[0m\u001b[0mre\u001b[0m\u001b[1;33m.\u001b[0m\u001b[0mcompile\u001b[0m\u001b[1;33m(\u001b[0m\u001b[1;34m'VT'\u001b[0m\u001b[1;33m)\u001b[0m\u001b[1;33m.\u001b[0m\u001b[0mmatch\u001b[0m\u001b[1;33m(\u001b[0m\u001b[0mgroup\u001b[0m\u001b[1;33m)\u001b[0m\u001b[1;33m)\u001b[0m\u001b[1;33m)\u001b[0m\u001b[1;33m,\u001b[0m\u001b[1;33m\u001b[0m\u001b[1;33m\u001b[0m\u001b[0m\n",
      "\u001b[1;32m~\\Anaconda3\\lib\\site-packages\\pandas\\core\\frame.py\u001b[0m in \u001b[0;36massign\u001b[1;34m(self, **kwargs)\u001b[0m\n\u001b[0;32m   3693\u001b[0m \u001b[1;33m\u001b[0m\u001b[0m\n\u001b[0;32m   3694\u001b[0m         \u001b[1;32mfor\u001b[0m \u001b[0mk\u001b[0m\u001b[1;33m,\u001b[0m \u001b[0mv\u001b[0m \u001b[1;32min\u001b[0m \u001b[0mkwargs\u001b[0m\u001b[1;33m.\u001b[0m\u001b[0mitems\u001b[0m\u001b[1;33m(\u001b[0m\u001b[1;33m)\u001b[0m\u001b[1;33m:\u001b[0m\u001b[1;33m\u001b[0m\u001b[1;33m\u001b[0m\u001b[0m\n\u001b[1;32m-> 3695\u001b[1;33m             \u001b[0mdata\u001b[0m\u001b[1;33m[\u001b[0m\u001b[0mk\u001b[0m\u001b[1;33m]\u001b[0m \u001b[1;33m=\u001b[0m \u001b[0mcom\u001b[0m\u001b[1;33m.\u001b[0m\u001b[0mapply_if_callable\u001b[0m\u001b[1;33m(\u001b[0m\u001b[0mv\u001b[0m\u001b[1;33m,\u001b[0m \u001b[0mdata\u001b[0m\u001b[1;33m)\u001b[0m\u001b[1;33m\u001b[0m\u001b[1;33m\u001b[0m\u001b[0m\n\u001b[0m\u001b[0;32m   3696\u001b[0m         \u001b[1;32mreturn\u001b[0m \u001b[0mdata\u001b[0m\u001b[1;33m\u001b[0m\u001b[1;33m\u001b[0m\u001b[0m\n\u001b[0;32m   3697\u001b[0m \u001b[1;33m\u001b[0m\u001b[0m\n",
      "\u001b[1;32m~\\Anaconda3\\lib\\site-packages\\pandas\\core\\common.py\u001b[0m in \u001b[0;36mapply_if_callable\u001b[1;34m(maybe_callable, obj, **kwargs)\u001b[0m\n\u001b[0;32m    339\u001b[0m     \"\"\"\n\u001b[0;32m    340\u001b[0m     \u001b[1;32mif\u001b[0m \u001b[0mcallable\u001b[0m\u001b[1;33m(\u001b[0m\u001b[0mmaybe_callable\u001b[0m\u001b[1;33m)\u001b[0m\u001b[1;33m:\u001b[0m\u001b[1;33m\u001b[0m\u001b[1;33m\u001b[0m\u001b[0m\n\u001b[1;32m--> 341\u001b[1;33m         \u001b[1;32mreturn\u001b[0m \u001b[0mmaybe_callable\u001b[0m\u001b[1;33m(\u001b[0m\u001b[0mobj\u001b[0m\u001b[1;33m,\u001b[0m \u001b[1;33m**\u001b[0m\u001b[0mkwargs\u001b[0m\u001b[1;33m)\u001b[0m\u001b[1;33m\u001b[0m\u001b[1;33m\u001b[0m\u001b[0m\n\u001b[0m\u001b[0;32m    342\u001b[0m \u001b[1;33m\u001b[0m\u001b[0m\n\u001b[0;32m    343\u001b[0m     \u001b[1;32mreturn\u001b[0m \u001b[0mmaybe_callable\u001b[0m\u001b[1;33m\u001b[0m\u001b[1;33m\u001b[0m\u001b[0m\n",
      "\u001b[1;32m<ipython-input-256-8c38f9a1c9db>\u001b[0m in \u001b[0;36m<lambda>\u001b[1;34m(dataframe)\u001b[0m\n\u001b[0;32m      8\u001b[0m \u001b[1;33m\u001b[0m\u001b[0m\n\u001b[0;32m      9\u001b[0m vfx_roller = vfx_roller.assign(\n\u001b[1;32m---> 10\u001b[1;33m     \u001b[0mtype\u001b[0m \u001b[1;33m=\u001b[0m \u001b[1;32mlambda\u001b[0m \u001b[0mdataframe\u001b[0m\u001b[1;33m:\u001b[0m \u001b[0mvfx_roller\u001b[0m\u001b[1;33m[\u001b[0m\u001b[1;34m'db'\u001b[0m\u001b[1;33m]\u001b[0m\u001b[1;33m.\u001b[0m\u001b[0mmap\u001b[0m\u001b[1;33m(\u001b[0m\u001b[1;32mlambda\u001b[0m \u001b[0mdb\u001b[0m\u001b[1;33m:\u001b[0m \u001b[1;34m'vfx1'\u001b[0m \u001b[1;32mif\u001b[0m \u001b[0mdb\u001b[0m \u001b[1;32min\u001b[0m \u001b[0mvfx1\u001b[0m \u001b[1;32melse\u001b[0m \u001b[1;33m(\u001b[0m\u001b[1;34m'vfx2'\u001b[0m \u001b[1;32mif\u001b[0m \u001b[0mdb\u001b[0m \u001b[1;32min\u001b[0m \u001b[0mvfx2\u001b[0m \u001b[1;32melse\u001b[0m \u001b[1;34m'else'\u001b[0m\u001b[1;33m)\u001b[0m\u001b[1;33m)\u001b[0m\u001b[1;33m,\u001b[0m\u001b[1;33m\u001b[0m\u001b[1;33m\u001b[0m\u001b[0m\n\u001b[0m\u001b[0;32m     11\u001b[0m     \u001b[0mVT\u001b[0m \u001b[1;33m=\u001b[0m \u001b[1;32mlambda\u001b[0m \u001b[0mdataframe\u001b[0m\u001b[1;33m:\u001b[0m \u001b[0mvfx_roller\u001b[0m\u001b[1;33m[\u001b[0m\u001b[1;34m'group'\u001b[0m\u001b[1;33m]\u001b[0m\u001b[1;33m.\u001b[0m\u001b[0mmap\u001b[0m\u001b[1;33m(\u001b[0m\u001b[1;32mlambda\u001b[0m \u001b[0mgroup\u001b[0m\u001b[1;33m:\u001b[0m \u001b[0mbool\u001b[0m\u001b[1;33m(\u001b[0m\u001b[0mre\u001b[0m\u001b[1;33m.\u001b[0m\u001b[0mcompile\u001b[0m\u001b[1;33m(\u001b[0m\u001b[1;34m'VT'\u001b[0m\u001b[1;33m)\u001b[0m\u001b[1;33m.\u001b[0m\u001b[0mmatch\u001b[0m\u001b[1;33m(\u001b[0m\u001b[0mgroup\u001b[0m\u001b[1;33m)\u001b[0m\u001b[1;33m)\u001b[0m\u001b[1;33m)\u001b[0m\u001b[1;33m,\u001b[0m\u001b[1;33m\u001b[0m\u001b[1;33m\u001b[0m\u001b[0m\n\u001b[0;32m     12\u001b[0m )\n",
      "\u001b[1;32m~\\Anaconda3\\lib\\site-packages\\pandas\\core\\frame.py\u001b[0m in \u001b[0;36m__getitem__\u001b[1;34m(self, key)\u001b[0m\n\u001b[0;32m   2900\u001b[0m             \u001b[1;32mif\u001b[0m \u001b[0mself\u001b[0m\u001b[1;33m.\u001b[0m\u001b[0mcolumns\u001b[0m\u001b[1;33m.\u001b[0m\u001b[0mnlevels\u001b[0m \u001b[1;33m>\u001b[0m \u001b[1;36m1\u001b[0m\u001b[1;33m:\u001b[0m\u001b[1;33m\u001b[0m\u001b[1;33m\u001b[0m\u001b[0m\n\u001b[0;32m   2901\u001b[0m                 \u001b[1;32mreturn\u001b[0m \u001b[0mself\u001b[0m\u001b[1;33m.\u001b[0m\u001b[0m_getitem_multilevel\u001b[0m\u001b[1;33m(\u001b[0m\u001b[0mkey\u001b[0m\u001b[1;33m)\u001b[0m\u001b[1;33m\u001b[0m\u001b[1;33m\u001b[0m\u001b[0m\n\u001b[1;32m-> 2902\u001b[1;33m             \u001b[0mindexer\u001b[0m \u001b[1;33m=\u001b[0m \u001b[0mself\u001b[0m\u001b[1;33m.\u001b[0m\u001b[0mcolumns\u001b[0m\u001b[1;33m.\u001b[0m\u001b[0mget_loc\u001b[0m\u001b[1;33m(\u001b[0m\u001b[0mkey\u001b[0m\u001b[1;33m)\u001b[0m\u001b[1;33m\u001b[0m\u001b[1;33m\u001b[0m\u001b[0m\n\u001b[0m\u001b[0;32m   2903\u001b[0m             \u001b[1;32mif\u001b[0m \u001b[0mis_integer\u001b[0m\u001b[1;33m(\u001b[0m\u001b[0mindexer\u001b[0m\u001b[1;33m)\u001b[0m\u001b[1;33m:\u001b[0m\u001b[1;33m\u001b[0m\u001b[1;33m\u001b[0m\u001b[0m\n\u001b[0;32m   2904\u001b[0m                 \u001b[0mindexer\u001b[0m \u001b[1;33m=\u001b[0m \u001b[1;33m[\u001b[0m\u001b[0mindexer\u001b[0m\u001b[1;33m]\u001b[0m\u001b[1;33m\u001b[0m\u001b[1;33m\u001b[0m\u001b[0m\n",
      "\u001b[1;32m~\\Anaconda3\\lib\\site-packages\\pandas\\core\\indexes\\base.py\u001b[0m in \u001b[0;36mget_loc\u001b[1;34m(self, key, method, tolerance)\u001b[0m\n\u001b[0;32m   2895\u001b[0m                 \u001b[1;32mreturn\u001b[0m \u001b[0mself\u001b[0m\u001b[1;33m.\u001b[0m\u001b[0m_engine\u001b[0m\u001b[1;33m.\u001b[0m\u001b[0mget_loc\u001b[0m\u001b[1;33m(\u001b[0m\u001b[0mcasted_key\u001b[0m\u001b[1;33m)\u001b[0m\u001b[1;33m\u001b[0m\u001b[1;33m\u001b[0m\u001b[0m\n\u001b[0;32m   2896\u001b[0m             \u001b[1;32mexcept\u001b[0m \u001b[0mKeyError\u001b[0m \u001b[1;32mas\u001b[0m \u001b[0merr\u001b[0m\u001b[1;33m:\u001b[0m\u001b[1;33m\u001b[0m\u001b[1;33m\u001b[0m\u001b[0m\n\u001b[1;32m-> 2897\u001b[1;33m                 \u001b[1;32mraise\u001b[0m \u001b[0mKeyError\u001b[0m\u001b[1;33m(\u001b[0m\u001b[0mkey\u001b[0m\u001b[1;33m)\u001b[0m \u001b[1;32mfrom\u001b[0m \u001b[0merr\u001b[0m\u001b[1;33m\u001b[0m\u001b[1;33m\u001b[0m\u001b[0m\n\u001b[0m\u001b[0;32m   2898\u001b[0m \u001b[1;33m\u001b[0m\u001b[0m\n\u001b[0;32m   2899\u001b[0m         \u001b[1;32mif\u001b[0m \u001b[0mtolerance\u001b[0m \u001b[1;32mis\u001b[0m \u001b[1;32mnot\u001b[0m \u001b[1;32mNone\u001b[0m\u001b[1;33m:\u001b[0m\u001b[1;33m\u001b[0m\u001b[1;33m\u001b[0m\u001b[0m\n",
      "\u001b[1;31mKeyError\u001b[0m: 'db'"
     ]
    }
   ],
   "source": [
    "account = pd.read_sql_query(sql_fmt, engine)\n",
    "account.head()\n",
    "account.drop_duplicates(subset=['db','login'],inplace = True)\n",
    "\n",
    "vfx1 = ['VUK1','VUK2','VAU1','VAU2']\n",
    "vfx2 = ['VUK3','VAU3']\n",
    "vfx_roller = pd.merge(vfx_roller, account,how='left', on='login')\n",
    "\n",
    "vfx_roller = vfx_roller.assign(\n",
    "    type = lambda dataframe: vfx_roller['db'].map(lambda db: 'vfx1' if db in vfx1 else ('vfx2' if db in vfx2 else 'else')),\n",
    "    VT = lambda dataframe: vfx_roller['group'].map(lambda group: bool(re.compile('VT').match(group))),\n",
    ")\n",
    "vfx_roller.head()\n",
    "\n",
    "vfx_roller2 = vfx_roller[(vfx_roller.Group =='M') &( vfx_roller.VIG ==1) &( vfx_roller.type != 'else')].groupby(['VT','type']).agg({'Profit.in.USD' : sum})\n",
    "\n",
    "vfx_roller2"
   ]
  },
  {
   "cell_type": "code",
   "execution_count": 254,
   "metadata": {},
   "outputs": [
    {
     "data": {
      "text/plain": [
       "array([326.31979298])"
      ]
     },
     "execution_count": 254,
     "metadata": {},
     "output_type": "execute_result"
    }
   ],
   "source": [
    "vfx_roller2.iloc[0].values\n",
    "vfx_roller2.iloc[1].values"
   ]
  },
  {
   "cell_type": "code",
   "execution_count": null,
   "metadata": {},
   "outputs": [],
   "source": [
    "vfx_CFD"
   ]
  }
 ],
 "metadata": {
  "kernelspec": {
   "display_name": "Python 3",
   "language": "python",
   "name": "python3"
  },
  "language_info": {
   "codemirror_mode": {
    "name": "ipython",
    "version": 3
   },
   "file_extension": ".py",
   "mimetype": "text/x-python",
   "name": "python",
   "nbconvert_exporter": "python",
   "pygments_lexer": "ipython3",
   "version": "3.8.5"
  }
 },
 "nbformat": 4,
 "nbformat_minor": 4
}
