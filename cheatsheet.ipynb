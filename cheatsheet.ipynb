{
 "cells": [
  {
   "cell_type": "code",
   "execution_count": 1,
   "metadata": {},
   "outputs": [],
   "source": [
    "from openpyxl import load_workbook\n",
    "import xlwings as xw\n",
    "import os \n",
    "import pandas as pd\n",
    "import numpy as np\n",
    "import re\n",
    "import itertools\n",
    "from datetime import date,timedelta\n",
    "from xlwings.constants import DeleteShiftDirection\n",
    "import pymysql\n",
    "from sqlalchemy import create_engine\n"
   ]
  },
  {
   "cell_type": "code",
   "execution_count": 6,
   "metadata": {},
   "outputs": [
    {
     "name": "stdout",
     "output_type": "stream",
     "text": [
      "Collecting xlsx2csv\n",
      "  Downloading xlsx2csv-0.7.7.tar.gz (237 kB)\n",
      "Building wheels for collected packages: xlsx2csv\n",
      "  Building wheel for xlsx2csv (setup.py): started\n",
      "  Building wheel for xlsx2csv (setup.py): finished with status 'done'\n",
      "  Created wheel for xlsx2csv: filename=xlsx2csv-0.7.7-py3-none-any.whl size=44875 sha256=7ae36622652232e8ab889788dd359d25352c4c19cbe9469fee60d822c2f473c7\n",
      "  Stored in directory: c:\\users\\0305\\appdata\\local\\pip\\cache\\wheels\\1e\\49\\19\\bc8d8824d3a7dd7062502a2102f5dfbd1b01badeddce32ae36\n",
      "Successfully built xlsx2csv\n",
      "Installing collected packages: xlsx2csv\n",
      "Successfully installed xlsx2csv-0.7.7\n"
     ]
    }
   ],
   "source": [
    "!pip install xlsx2csv"
   ]
  },
  {
   "cell_type": "code",
   "execution_count": 4,
   "metadata": {},
   "outputs": [
    {
     "data": {
      "text/plain": [
       "9"
      ]
     },
     "execution_count": 4,
     "metadata": {},
     "output_type": "execute_result"
    }
   ],
   "source": [
    "# nth largest number in numpy array\n",
    "x=np.array([1,4,3,-1,6,9])\n",
    "# index \n",
    "x.argsort()[-1]\n",
    "# 值\n",
    "x[x.argsort()[-1]]"
   ]
  },
  {
   "cell_type": "code",
   "execution_count": null,
   "metadata": {},
   "outputs": [],
   "source": [
    "# mysql connect\n",
    "from sqlalchemy import create_engine\n",
    "from sqlalchemy.engine.url import URL\n",
    "\n",
    "db_url = {\n",
    "    'database': \"dbname\",\n",
    "    'drivername': 'mysql',\n",
    "    'username': 'myname',\n",
    "    'password': 'mypassword',\n",
    "    'host': '127.0.0.1',\n",
    "    'query': {'charset': 'utf8'},  # the key-point setting\n",
    "}\n",
    "\n",
    "engine = create_engine(URL(**db_url), encoding=\"utf8\")"
   ]
  },
  {
   "cell_type": "code",
   "execution_count": 5,
   "metadata": {},
   "outputs": [
    {
     "ename": "NameError",
     "evalue": "name 'l' is not defined",
     "output_type": "error",
     "traceback": [
      "\u001b[1;31m---------------------------------------------------------------------------\u001b[0m",
      "\u001b[1;31mNameError\u001b[0m                                 Traceback (most recent call last)",
      "\u001b[1;32m<ipython-input-5-2aa68795edb1>\u001b[0m in \u001b[0;36m<module>\u001b[1;34m\u001b[0m\n\u001b[0;32m      1\u001b[0m \u001b[1;31m# convert all element in list to string\u001b[0m\u001b[1;33m\u001b[0m\u001b[1;33m\u001b[0m\u001b[1;33m\u001b[0m\u001b[0m\n\u001b[1;32m----> 2\u001b[1;33m \u001b[0mstr_l\u001b[0m \u001b[1;33m=\u001b[0m \u001b[1;33m[\u001b[0m\u001b[0mstr\u001b[0m\u001b[1;33m(\u001b[0m\u001b[0melem\u001b[0m\u001b[1;33m)\u001b[0m \u001b[1;32mfor\u001b[0m \u001b[0melem\u001b[0m \u001b[1;32min\u001b[0m \u001b[0ml\u001b[0m\u001b[1;33m]\u001b[0m\u001b[1;33m\u001b[0m\u001b[1;33m\u001b[0m\u001b[0m\n\u001b[0m\u001b[0;32m      3\u001b[0m \u001b[0mstr_l\u001b[0m\u001b[1;33m\u001b[0m\u001b[1;33m\u001b[0m\u001b[0m\n",
      "\u001b[1;31mNameError\u001b[0m: name 'l' is not defined"
     ]
    }
   ],
   "source": [
    "# convert all element in list to string \n",
    "# mysql query \n",
    "str_l = [\"'%s'\" % str(elem) for elem in l]\n",
    "idString = \", \".join(str_l)"
   ]
  },
  {
   "cell_type": "code",
   "execution_count": null,
   "metadata": {},
   "outputs": [],
   "source": [
    "# insert row of data\n",
    "data = []\n",
    "for a, b, c in some_function_that_yields_data():\n",
    "    data.append([a, b, c])\n",
    "\n",
    "df = pd.DataFrame(data, columns=['A', 'B', 'C'])"
   ]
  },
  {
   "cell_type": "code",
   "execution_count": null,
   "metadata": {},
   "outputs": [],
   "source": [
    "# attribute df.empty to check whether it's empty or not:\n",
    "df.empty"
   ]
  },
  {
   "cell_type": "code",
   "execution_count": null,
   "metadata": {},
   "outputs": [],
   "source": [
    "# isin = dplyr in 篩選是否包含於list / vector \n",
    "df[df['A'].isin([3, 6])]"
   ]
  },
  {
   "cell_type": "code",
   "execution_count": null,
   "metadata": {},
   "outputs": [],
   "source": [
    "# 新增row number\n",
    "# Fill a new pandas column with row numbers\n",
    "df['C'] = np.arange(len(df))"
   ]
  }
 ],
 "metadata": {
  "kernelspec": {
   "display_name": "Python 3",
   "language": "python",
   "name": "python3"
  },
  "language_info": {
   "codemirror_mode": {
    "name": "ipython",
    "version": 3
   },
   "file_extension": ".py",
   "mimetype": "text/x-python",
   "name": "python",
   "nbconvert_exporter": "python",
   "pygments_lexer": "ipython3",
   "version": "3.8.5"
  }
 },
 "nbformat": 4,
 "nbformat_minor": 4
}
