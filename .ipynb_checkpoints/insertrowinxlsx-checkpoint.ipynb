{
 "cells": [
  {
   "cell_type": "code",
   "execution_count": 37,
   "metadata": {},
   "outputs": [],
   "source": [
    "from openpyxl import load_workbook\n",
    "import xlwings as xw\n",
    "import os \n",
    "import pandas as pd\n"
   ]
  },
  {
   "cell_type": "code",
   "execution_count": 38,
   "metadata": {},
   "outputs": [],
   "source": [
    "path = 'C:/Users/0305/Desktop/Daily PNL/2021-01/0107/B PNL'\n",
    "os.chdir(path)"
   ]
  },
  {
   "cell_type": "code",
   "execution_count": 39,
   "metadata": {},
   "outputs": [],
   "source": [
    "# wb = load_workbook('B -PNL-vfx2-20210107.xlsx').\n",
    "wb = xw.Book('B -PNL-vfx2-20210107.xlsx')"
   ]
  },
  {
   "cell_type": "code",
   "execution_count": 9,
   "metadata": {},
   "outputs": [
    {
     "data": {
      "text/html": [
       "<div>\n",
       "<style scoped>\n",
       "    .dataframe tbody tr th:only-of-type {\n",
       "        vertical-align: middle;\n",
       "    }\n",
       "\n",
       "    .dataframe tbody tr th {\n",
       "        vertical-align: top;\n",
       "    }\n",
       "\n",
       "    .dataframe thead th {\n",
       "        text-align: right;\n",
       "    }\n",
       "</style>\n",
       "<table border=\"1\" class=\"dataframe\">\n",
       "  <thead>\n",
       "    <tr style=\"text-align: right;\">\n",
       "      <th></th>\n",
       "      <th>Login</th>\n",
       "      <th>row</th>\n",
       "      <th>date</th>\n",
       "      <th>BALANCE_PREV</th>\n",
       "      <th>PROFIT_CLOSED</th>\n",
       "      <th>DEPOSIT</th>\n",
       "      <th>BALANCE</th>\n",
       "      <th>PROFIT</th>\n",
       "      <th>CREDIT</th>\n",
       "      <th>EQUITY</th>\n",
       "      <th>MARGIN</th>\n",
       "      <th>MARGIN_FREE</th>\n",
       "    </tr>\n",
       "  </thead>\n",
       "  <tbody>\n",
       "    <tr>\n",
       "      <th>0</th>\n",
       "      <td>6244400</td>\n",
       "      <td>580</td>\n",
       "      <td>2021-01-07</td>\n",
       "      <td>1399660</td>\n",
       "      <td>6414.45</td>\n",
       "      <td>0</td>\n",
       "      <td>1406074.45</td>\n",
       "      <td>-3477.88</td>\n",
       "      <td>0</td>\n",
       "      <td>1402596.57</td>\n",
       "      <td>9132.272044</td>\n",
       "      <td>1.393464e+06</td>\n",
       "    </tr>\n",
       "    <tr>\n",
       "      <th>1</th>\n",
       "      <td>6244400</td>\n",
       "      <td>568</td>\n",
       "      <td>2021-01-06</td>\n",
       "      <td>0</td>\n",
       "      <td>0.00</td>\n",
       "      <td>1399660</td>\n",
       "      <td>1399660.00</td>\n",
       "      <td>0.00</td>\n",
       "      <td>0</td>\n",
       "      <td>1399660.00</td>\n",
       "      <td>0.000000</td>\n",
       "      <td>1.399660e+06</td>\n",
       "    </tr>\n",
       "  </tbody>\n",
       "</table>\n",
       "</div>"
      ],
      "text/plain": [
       "     Login  row        date  BALANCE_PREV  PROFIT_CLOSED  DEPOSIT     BALANCE  \\\n",
       "0  6244400  580  2021-01-07       1399660        6414.45        0  1406074.45   \n",
       "1  6244400  568  2021-01-06             0           0.00  1399660  1399660.00   \n",
       "\n",
       "    PROFIT  CREDIT      EQUITY       MARGIN   MARGIN_FREE  \n",
       "0 -3477.88       0  1402596.57  9132.272044  1.393464e+06  \n",
       "1     0.00       0  1399660.00     0.000000  1.399660e+06  "
      ]
     },
     "execution_count": 9,
     "metadata": {},
     "output_type": "execute_result"
    }
   ],
   "source": [
    "# 讀取equity, equity_Y更動資料\n",
    "equity_change = pd.read_csv('C:/Users/0305/Desktop/Daily PNL/2021-01/0107/equity_change.csv')\n",
    "equity_change.head()"
   ]
  },
  {
   "cell_type": "code",
   "execution_count": 35,
   "metadata": {},
   "outputs": [
    {
     "data": {
      "text/plain": [
       "['工作表1']"
      ]
     },
     "execution_count": 35,
     "metadata": {},
     "output_type": "execute_result"
    }
   ],
   "source": [
    "wb.sheetnames"
   ]
  },
  {
   "cell_type": "code",
   "execution_count": 36,
   "metadata": {},
   "outputs": [
    {
     "data": {
      "text/html": [
       "<div>\n",
       "<style scoped>\n",
       "    .dataframe tbody tr th:only-of-type {\n",
       "        vertical-align: middle;\n",
       "    }\n",
       "\n",
       "    .dataframe tbody tr th {\n",
       "        vertical-align: top;\n",
       "    }\n",
       "\n",
       "    .dataframe thead th {\n",
       "        text-align: right;\n",
       "    }\n",
       "</style>\n",
       "<table border=\"1\" class=\"dataframe\">\n",
       "  <thead>\n",
       "    <tr style=\"text-align: right;\">\n",
       "      <th></th>\n",
       "      <th>Login</th>\n",
       "      <th>row</th>\n",
       "      <th>date</th>\n",
       "      <th>BALANCE_PREV</th>\n",
       "      <th>PROFIT_CLOSED</th>\n",
       "      <th>DEPOSIT</th>\n",
       "      <th>BALANCE</th>\n",
       "      <th>PROFIT</th>\n",
       "      <th>CREDIT</th>\n",
       "      <th>EQUITY</th>\n",
       "      <th>MARGIN</th>\n",
       "      <th>MARGIN_FREE</th>\n",
       "    </tr>\n",
       "  </thead>\n",
       "  <tbody>\n",
       "    <tr>\n",
       "      <th>0</th>\n",
       "      <td>6244400</td>\n",
       "      <td>580</td>\n",
       "      <td>2021-01-07</td>\n",
       "      <td>1399660</td>\n",
       "      <td>6414.45</td>\n",
       "      <td>0</td>\n",
       "      <td>1406074.45</td>\n",
       "      <td>-3477.88</td>\n",
       "      <td>0</td>\n",
       "      <td>1402596.57</td>\n",
       "      <td>9132.272044</td>\n",
       "      <td>1.393464e+06</td>\n",
       "    </tr>\n",
       "  </tbody>\n",
       "</table>\n",
       "</div>"
      ],
      "text/plain": [
       "     Login  row        date  BALANCE_PREV  PROFIT_CLOSED  DEPOSIT     BALANCE  \\\n",
       "0  6244400  580  2021-01-07       1399660        6414.45        0  1406074.45   \n",
       "\n",
       "    PROFIT  CREDIT      EQUITY       MARGIN   MARGIN_FREE  \n",
       "0 -3477.88       0  1402596.57  9132.272044  1.393464e+06  "
      ]
     },
     "execution_count": 36,
     "metadata": {},
     "output_type": "execute_result"
    }
   ],
   "source": [
    "# 更改equity.sheet\n",
    "\n",
    "equity_change_t = equity_change[equity_change['date'] == '2021-01-07']\n",
    "equity_change_t"
   ]
  },
  {
   "cell_type": "code",
   "execution_count": 86,
   "metadata": {},
   "outputs": [],
   "source": [
    "sht = wb.sheets['equity']\n",
    "rng = sht[579,3:12]\n"
   ]
  },
  {
   "cell_type": "code",
   "execution_count": 87,
   "metadata": {},
   "outputs": [
    {
     "data": {
      "text/plain": [
       "[1399660.0,\n",
       " 6414.45,\n",
       " 0.0,\n",
       " 1406074.45,\n",
       " -3477.88,\n",
       " 0.0,\n",
       " 1402596.57,\n",
       " 9132.272044224,\n",
       " 1393464.29795578]"
      ]
     },
     "execution_count": 87,
     "metadata": {},
     "output_type": "execute_result"
    }
   ],
   "source": [
    "rng.value "
   ]
  },
  {
   "cell_type": "code",
   "execution_count": 80,
   "metadata": {},
   "outputs": [
    {
     "data": {
      "text/plain": [
       "[None,\n",
       " 'BALANCE_PREV',\n",
       " 'PROFIT_CLOSED',\n",
       " 'DEPOSIT',\n",
       " 'BALANCE',\n",
       " 'PROFIT',\n",
       " 'CREDIT',\n",
       " 'EQUITY',\n",
       " 'MARGIN']"
      ]
     },
     "execution_count": 80,
     "metadata": {},
     "output_type": "execute_result"
    }
   ],
   "source": [
    "rng.options(transpose=True).value"
   ]
  },
  {
   "cell_type": "code",
   "execution_count": 83,
   "metadata": {},
   "outputs": [
    {
     "data": {
      "text/plain": [
       "array([1399660, 6414.45, 0, 1406074.45, -3477.88, 0, 1402596.57,\n",
       "       9132.272044224, 1393464.29795578], dtype=object)"
      ]
     },
     "execution_count": 83,
     "metadata": {},
     "output_type": "execute_result"
    }
   ],
   "source": [
    "equity_change_t.iloc[0][3:12].values\n"
   ]
  },
  {
   "cell_type": "code",
   "execution_count": 85,
   "metadata": {},
   "outputs": [
    {
     "data": {
      "text/plain": [
       "[1399660.0,\n",
       " 6414.45,\n",
       " 0.0,\n",
       " 1406074.45,\n",
       " -3477.88,\n",
       " 0.0,\n",
       " 1402596.57,\n",
       " 9132.272044224,\n",
       " 1393464.29795578]"
      ]
     },
     "execution_count": 85,
     "metadata": {},
     "output_type": "execute_result"
    }
   ],
   "source": [
    "rng.value = equity_change_t.iloc[0][3:12].values\n",
    "rng.value"
   ]
  },
  {
   "cell_type": "code",
   "execution_count": 19,
   "metadata": {},
   "outputs": [
    {
     "name": "stdout",
     "output_type": "stream",
     "text": [
      "<Cell 'equity'.C580>\n"
     ]
    }
   ],
   "source": [
    "previous_col_c= wb[''工作表1''].cell(row=580, column=3)\n",
    "print(previous_col_c)"
   ]
  },
  {
   "cell_type": "code",
   "execution_count": 34,
   "metadata": {},
   "outputs": [],
   "source": [
    "wb['工作表1'].cell(row=4, column=2).value = 300"
   ]
  },
  {
   "cell_type": "code",
   "execution_count": 88,
   "metadata": {},
   "outputs": [],
   "source": [
    "wb.save('B -PNL-vfx2-20210107.xlsx')"
   ]
  },
  {
   "cell_type": "code",
   "execution_count": null,
   "metadata": {},
   "outputs": [],
   "source": []
  }
 ],
 "metadata": {
  "kernelspec": {
   "display_name": "Python 3",
   "language": "python",
   "name": "python3"
  },
  "language_info": {
   "codemirror_mode": {
    "name": "ipython",
    "version": 3
   },
   "file_extension": ".py",
   "mimetype": "text/x-python",
   "name": "python",
   "nbconvert_exporter": "python",
   "pygments_lexer": "ipython3",
   "version": "3.8.5"
  }
 },
 "nbformat": 4,
 "nbformat_minor": 4
}
