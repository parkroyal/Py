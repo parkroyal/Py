{
 "cells": [
  {
   "cell_type": "code",
   "execution_count": 21,
   "metadata": {},
   "outputs": [],
   "source": [
    "from openpyxl import load_workbook\n",
    "import xlwings as xw\n",
    "import os \n",
    "import pandas as pd\n",
    "import numpy as np\n",
    "import re\n",
    "import itertools\n",
    "import datetime\n",
    "from datetime import date,timedelta\n",
    "from xlwings.constants import DeleteShiftDirection"
   ]
  },
  {
   "cell_type": "code",
   "execution_count": 27,
   "metadata": {},
   "outputs": [
    {
     "name": "stdout",
     "output_type": "stream",
     "text": [
      "2021-01-22 20210122 2021-01 0122\n"
     ]
    }
   ],
   "source": [
    "# Return the day of the week as an integer, where Monday is 0 and Sunday is 6. For example, date(2002, 12, 4).weekday() == 2, a Wednesday. See also isoweekday().\n",
    "if date.today().weekday() == 0:\n",
    "    nowDate = date.today() - timedelta(days = 3)\n",
    "else:\n",
    "    nowDate = date.today() - timedelta(days = 1)\n",
    "dateNum = re.sub('-', '', str(nowDate))\n",
    "nowYm = str(nowDate)[:7]\n",
    "nowMD = nowDate.strftime(\"%m%d\")\n",
    "print(nowDate, dateNum , nowYm , nowMD)\n",
    "path = 'C:/Users/0305/Desktop/Daily PNL/'+nowYm+'/'+ todaymd \n",
    "os.chdir(path)"
   ]
  },
  {
   "cell_type": "code",
   "execution_count": 17,
   "metadata": {},
   "outputs": [
    {
     "name": "stdout",
     "output_type": "stream",
     "text": [
      "20210122\n"
     ]
    }
   ],
   "source": [
    "# 今日日期\n",
    "today = date.today()\n",
    "d = timedelta(days = 3)\n",
    "today = today-d\n",
    "todaynum = str(today)[0:4] + str(today)[5:7] + str(today)[8:10]\n",
    "print(todaynum)\n",
    "todaymd = todaynum[4:]\n",
    "\n",
    "path = 'C:/Users/0305/Desktop/Daily PNL/2021-01/'+ todaymd \n",
    "os.chdir(path)"
   ]
  },
  {
   "cell_type": "code",
   "execution_count": 18,
   "metadata": {},
   "outputs": [
    {
     "data": {
      "text/html": [
       "<div>\n",
       "<style scoped>\n",
       "    .dataframe tbody tr th:only-of-type {\n",
       "        vertical-align: middle;\n",
       "    }\n",
       "\n",
       "    .dataframe tbody tr th {\n",
       "        vertical-align: top;\n",
       "    }\n",
       "\n",
       "    .dataframe thead th {\n",
       "        text-align: right;\n",
       "    }\n",
       "</style>\n",
       "<table border=\"1\" class=\"dataframe\">\n",
       "  <thead>\n",
       "    <tr style=\"text-align: right;\">\n",
       "      <th></th>\n",
       "      <th>Login</th>\n",
       "      <th>row</th>\n",
       "      <th>nday</th>\n",
       "      <th>BALANCE_PREV</th>\n",
       "      <th>PROFIT_CLOSED</th>\n",
       "      <th>DEPOSIT</th>\n",
       "      <th>BALANCE</th>\n",
       "      <th>PROFIT</th>\n",
       "      <th>CREDIT</th>\n",
       "      <th>EQUITY</th>\n",
       "      <th>MARGIN</th>\n",
       "      <th>MARGIN_FREE</th>\n",
       "    </tr>\n",
       "  </thead>\n",
       "  <tbody>\n",
       "    <tr>\n",
       "      <th>0</th>\n",
       "      <td>6228626</td>\n",
       "      <td>26108</td>\n",
       "      <td>1</td>\n",
       "      <td>4923770</td>\n",
       "      <td>35453</td>\n",
       "      <td>0</td>\n",
       "      <td>4959223</td>\n",
       "      <td>-46122</td>\n",
       "      <td>0</td>\n",
       "      <td>4913101</td>\n",
       "      <td>17874.920483</td>\n",
       "      <td>4.895226e+06</td>\n",
       "    </tr>\n",
       "    <tr>\n",
       "      <th>1</th>\n",
       "      <td>6214790</td>\n",
       "      <td>26169</td>\n",
       "      <td>1</td>\n",
       "      <td>7259016</td>\n",
       "      <td>25848</td>\n",
       "      <td>0</td>\n",
       "      <td>7284864</td>\n",
       "      <td>48259</td>\n",
       "      <td>0</td>\n",
       "      <td>7333123</td>\n",
       "      <td>24620.214674</td>\n",
       "      <td>7.308503e+06</td>\n",
       "    </tr>\n",
       "    <tr>\n",
       "      <th>2</th>\n",
       "      <td>6228626</td>\n",
       "      <td>26004</td>\n",
       "      <td>2</td>\n",
       "      <td>4877858</td>\n",
       "      <td>45912</td>\n",
       "      <td>0</td>\n",
       "      <td>4923770</td>\n",
       "      <td>-102319</td>\n",
       "      <td>0</td>\n",
       "      <td>4821451</td>\n",
       "      <td>56714.453906</td>\n",
       "      <td>4.764737e+06</td>\n",
       "    </tr>\n",
       "    <tr>\n",
       "      <th>3</th>\n",
       "      <td>6214790</td>\n",
       "      <td>26065</td>\n",
       "      <td>2</td>\n",
       "      <td>7226979</td>\n",
       "      <td>32037</td>\n",
       "      <td>0</td>\n",
       "      <td>7259016</td>\n",
       "      <td>30881</td>\n",
       "      <td>0</td>\n",
       "      <td>7289897</td>\n",
       "      <td>28582.229258</td>\n",
       "      <td>7.261315e+06</td>\n",
       "    </tr>\n",
       "  </tbody>\n",
       "</table>\n",
       "</div>"
      ],
      "text/plain": [
       "     Login    row  nday  BALANCE_PREV  PROFIT_CLOSED  DEPOSIT  BALANCE  \\\n",
       "0  6228626  26108     1       4923770          35453        0  4959223   \n",
       "1  6214790  26169     1       7259016          25848        0  7284864   \n",
       "2  6228626  26004     2       4877858          45912        0  4923770   \n",
       "3  6214790  26065     2       7226979          32037        0  7259016   \n",
       "\n",
       "   PROFIT  CREDIT   EQUITY        MARGIN   MARGIN_FREE  \n",
       "0  -46122       0  4913101  17874.920483  4.895226e+06  \n",
       "1   48259       0  7333123  24620.214674  7.308503e+06  \n",
       "2 -102319       0  4821451  56714.453906  4.764737e+06  \n",
       "3   30881       0  7289897  28582.229258  7.261315e+06  "
      ]
     },
     "execution_count": 18,
     "metadata": {},
     "output_type": "execute_result"
    }
   ],
   "source": [
    "# 1.修正PL balance + Closed balance + Deposit = balance\n",
    "# equity change\n",
    "equity_change = pd.read_csv('equity_change_vfx2.csv')\n",
    "equity_change.head(20)"
   ]
  },
  {
   "cell_type": "code",
   "execution_count": 19,
   "metadata": {},
   "outputs": [],
   "source": [
    "wb = xw.books('B -PNL-vfx2-'+str(todaynum)+'.xlsx')\n",
    "sht = wb.sheets['equity']"
   ]
  },
  {
   "cell_type": "code",
   "execution_count": 20,
   "metadata": {},
   "outputs": [],
   "source": [
    "# 更改第一天權益\n",
    "wb = xw.books('B -PNL-vfx2-'+str(todaynum)+'.xlsx')\n",
    "sht = wb.sheets['equity']\n",
    "df = equity_change[equity_change['nday']==1]\n",
    "for i in range(len(df.index)):\n",
    "    rownum = df.iloc[i, 1]\n",
    "    value = df.iloc[i, 3:]\n",
    "    # print(rownum)\n",
    "    # print(type(value))\n",
    "    # print(value.values)\n",
    "    sht.range('D'+str(rownum)+\":L\"+str(rownum)).value = value.values\n",
    "    sht.range('D'+str(rownum)+\":L\"+str(rownum)).color = (255,255,0)\n",
    "# 更改第二天權益\n",
    "sht = wb.sheets['equity_Y']\n",
    "df = equity_change[equity_change['nday']==2]\n",
    "for i in range(len(df.index)):\n",
    "    rownum = df.iloc[i, 1]\n",
    "    value = df.iloc[i, 3:]\n",
    "    # print(rownum)\n",
    "    # print(type(value))\n",
    "    # print(value.values)\n",
    "    sht.range('D'+str(rownum)+\":L\"+str(rownum)).value = value.values\n",
    "    sht.range('D'+str(rownum)+\":L\"+str(rownum)).color = (255,255,0)"
   ]
  },
  {
   "cell_type": "code",
   "execution_count": 5,
   "metadata": {},
   "outputs": [
    {
     "name": "stdout",
     "output_type": "stream",
     "text": [
      "今日無解歸檔資料\n"
     ]
    }
   ],
   "source": [
    "# 檢查是否有SWAP.csv 如果有則進行swap修正\n",
    "files = [f for f in os.listdir('.') if os.path.isfile(f)]\n",
    "r = re.compile(\"vfx2_swap.csv\")\n",
    "swap_list = list(filter(r.match, files)) # Read Note\n",
    "swap_list\n",
    "if len(swap_list)>0:\n",
    "    # 2.檢查解歸檔 修正SWAP\n",
    "    swap = pd.read_csv('vfx2_swap.csv')\n",
    "    swap.head()\n",
    "    # 如當日有解歸檔則進行swap修正\n",
    "    if swap.shape[0] > 0:\n",
    "        # 開啟swap sheet \n",
    "        sht = wb.sheets['swap']\n",
    "        for i in range(swap.shape[0]):\n",
    "            swap.loc[i,'excel_row']\n",
    "            sht.range('I'+str(swap.loc[i,'excel_row'])).value = sht.range('J'+str(swap.loc[i,'excel_row'])).value\n",
    "        print('解歸檔資料整理完畢')\n",
    "else: \n",
    "    print('今日無解歸檔資料')"
   ]
  },
  {
   "cell_type": "code",
   "execution_count": 3,
   "metadata": {},
   "outputs": [
    {
     "data": {
      "text/html": [
       "<div>\n",
       "<style scoped>\n",
       "    .dataframe tbody tr th:only-of-type {\n",
       "        vertical-align: middle;\n",
       "    }\n",
       "\n",
       "    .dataframe tbody tr th {\n",
       "        vertical-align: top;\n",
       "    }\n",
       "\n",
       "    .dataframe thead th {\n",
       "        text-align: right;\n",
       "    }\n",
       "</style>\n",
       "<table border=\"1\" class=\"dataframe\">\n",
       "  <thead>\n",
       "    <tr style=\"text-align: right;\">\n",
       "      <th></th>\n",
       "      <th>db</th>\n",
       "      <th>Login</th>\n",
       "      <th>Group</th>\n",
       "      <th>group</th>\n",
       "      <th>CCY</th>\n",
       "      <th>Deal</th>\n",
       "      <th>Type</th>\n",
       "      <th>Profit</th>\n",
       "      <th>Comment</th>\n",
       "      <th>IO</th>\n",
       "      <th>db2</th>\n",
       "      <th>Login2</th>\n",
       "      <th>Group2</th>\n",
       "      <th>group2</th>\n",
       "      <th>Date</th>\n",
       "      <th>VIG</th>\n",
       "      <th>MNT</th>\n",
       "    </tr>\n",
       "  </thead>\n",
       "  <tbody>\n",
       "    <tr>\n",
       "      <th>0</th>\n",
       "      <td>VAU3</td>\n",
       "      <td>6202020</td>\n",
       "      <td>M_VIG_USD</td>\n",
       "      <td>M</td>\n",
       "      <td>USD</td>\n",
       "      <td>2841600</td>\n",
       "      <td>balance</td>\n",
       "      <td>-920.29</td>\n",
       "      <td>Transfer Out to 6247085</td>\n",
       "      <td>out</td>\n",
       "      <td>VAU3</td>\n",
       "      <td>6247085.0</td>\n",
       "      <td>M_VIG_NS_P_USD</td>\n",
       "      <td>M</td>\n",
       "      <td>2021-01-21</td>\n",
       "      <td>1</td>\n",
       "      <td>1</td>\n",
       "    </tr>\n",
       "    <tr>\n",
       "      <th>1</th>\n",
       "      <td>VAU3</td>\n",
       "      <td>6204018</td>\n",
       "      <td>M_VIGT_P_USD</td>\n",
       "      <td>M</td>\n",
       "      <td>USD</td>\n",
       "      <td>2845838</td>\n",
       "      <td>balance</td>\n",
       "      <td>10.80</td>\n",
       "      <td>Transfer In from 6576</td>\n",
       "      <td>in</td>\n",
       "      <td>VAU2</td>\n",
       "      <td>6576.0</td>\n",
       "      <td>R_REBAT_VIG_USD</td>\n",
       "      <td>R</td>\n",
       "      <td>2021-01-21</td>\n",
       "      <td>1</td>\n",
       "      <td>1</td>\n",
       "    </tr>\n",
       "    <tr>\n",
       "      <th>2</th>\n",
       "      <td>VAU3</td>\n",
       "      <td>6204018</td>\n",
       "      <td>M_VIGT_P_USD</td>\n",
       "      <td>M</td>\n",
       "      <td>USD</td>\n",
       "      <td>2845841</td>\n",
       "      <td>balance</td>\n",
       "      <td>2.12</td>\n",
       "      <td>Transfer In from 1800258</td>\n",
       "      <td>in</td>\n",
       "      <td>MT5-VFX</td>\n",
       "      <td>1800258.0</td>\n",
       "      <td>rebate_VIG\\R_REBATE_USD</td>\n",
       "      <td>r</td>\n",
       "      <td>2021-01-21</td>\n",
       "      <td>1</td>\n",
       "      <td>1</td>\n",
       "    </tr>\n",
       "    <tr>\n",
       "      <th>3</th>\n",
       "      <td>VAU3</td>\n",
       "      <td>6204018</td>\n",
       "      <td>M_VIGT_P_USD</td>\n",
       "      <td>M</td>\n",
       "      <td>USD</td>\n",
       "      <td>2845843</td>\n",
       "      <td>balance</td>\n",
       "      <td>1.19</td>\n",
       "      <td>Transfer In from 63258</td>\n",
       "      <td>in</td>\n",
       "      <td>VAU2</td>\n",
       "      <td>63258.0</td>\n",
       "      <td>R_REBAT_VIG_USD</td>\n",
       "      <td>R</td>\n",
       "      <td>2021-01-21</td>\n",
       "      <td>1</td>\n",
       "      <td>1</td>\n",
       "    </tr>\n",
       "    <tr>\n",
       "      <th>4</th>\n",
       "      <td>VAU3</td>\n",
       "      <td>6204018</td>\n",
       "      <td>M_VIGT_P_USD</td>\n",
       "      <td>M</td>\n",
       "      <td>USD</td>\n",
       "      <td>2845846</td>\n",
       "      <td>balance</td>\n",
       "      <td>46.95</td>\n",
       "      <td>Transfer In from 66317</td>\n",
       "      <td>in</td>\n",
       "      <td>VAU3</td>\n",
       "      <td>66317.0</td>\n",
       "      <td>R_REBAT_VIG_USD</td>\n",
       "      <td>R</td>\n",
       "      <td>2021-01-21</td>\n",
       "      <td>1</td>\n",
       "      <td>1</td>\n",
       "    </tr>\n",
       "  </tbody>\n",
       "</table>\n",
       "</div>"
      ],
      "text/plain": [
       "     db    Login         Group group  CCY     Deal     Type  Profit  \\\n",
       "0  VAU3  6202020     M_VIG_USD     M  USD  2841600  balance -920.29   \n",
       "1  VAU3  6204018  M_VIGT_P_USD     M  USD  2845838  balance   10.80   \n",
       "2  VAU3  6204018  M_VIGT_P_USD     M  USD  2845841  balance    2.12   \n",
       "3  VAU3  6204018  M_VIGT_P_USD     M  USD  2845843  balance    1.19   \n",
       "4  VAU3  6204018  M_VIGT_P_USD     M  USD  2845846  balance   46.95   \n",
       "\n",
       "                    Comment   IO      db2     Login2                   Group2  \\\n",
       "0   Transfer Out to 6247085  out     VAU3  6247085.0           M_VIG_NS_P_USD   \n",
       "1     Transfer In from 6576   in     VAU2     6576.0          R_REBAT_VIG_USD   \n",
       "2  Transfer In from 1800258   in  MT5-VFX  1800258.0  rebate_VIG\\R_REBATE_USD   \n",
       "3    Transfer In from 63258   in     VAU2    63258.0          R_REBAT_VIG_USD   \n",
       "4    Transfer In from 66317   in     VAU3    66317.0          R_REBAT_VIG_USD   \n",
       "\n",
       "  group2        Date  VIG  MNT  \n",
       "0      M  2021-01-21    1    1  \n",
       "1      R  2021-01-21    1    1  \n",
       "2      r  2021-01-21    1    1  \n",
       "3      R  2021-01-21    1    1  \n",
       "4      R  2021-01-21    1    1  "
      ]
     },
     "execution_count": 3,
     "metadata": {},
     "output_type": "execute_result"
    }
   ],
   "source": [
    "# 讀取RT_value表\n",
    "vfxRaw = pd.read_excel(str(todaynum)+'_RTvalue.xlsx' , sheet_name= 'VFX2_Raw')\n",
    "vfxRaw.head()"
   ]
  },
  {
   "cell_type": "code",
   "execution_count": 4,
   "metadata": {},
   "outputs": [
    {
     "name": "stdout",
     "output_type": "stream",
     "text": [
      "[] []\n"
     ]
    }
   ],
   "source": [
    "# 1.刪除GROUP含有CAN字串\n",
    "# vfxRaw[vfxRaw['Group'].str.contains(r'CAN')]\n",
    "# type(np.where(vfxRaw['Group'].str.contains(r'CAN'))[0])\n",
    "can_rowsnumber = np.where(vfxRaw['Group'].str.contains(r'CAN'))[0]\n",
    "# 2.刪除COMMENT含有/div\n",
    "div_rowsnumber = np.where(vfxRaw['Comment'].str.contains(r'/div'))[0]\n",
    "# 3.填補rollback group\n",
    "vfxRaw['db2'].fillna(value=vfxRaw.groupby('Login')['db2'].unique(), inplace=True)\n",
    "rollback = vfxRaw[vfxRaw['Comment'].str.contains(r'/Rollback')]\n",
    "print(can_rowsnumber, div_rowsnumber)\n"
   ]
  },
  {
   "cell_type": "code",
   "execution_count": 5,
   "metadata": {},
   "outputs": [
    {
     "data": {
      "text/html": [
       "<div>\n",
       "<style scoped>\n",
       "    .dataframe tbody tr th:only-of-type {\n",
       "        vertical-align: middle;\n",
       "    }\n",
       "\n",
       "    .dataframe tbody tr th {\n",
       "        vertical-align: top;\n",
       "    }\n",
       "\n",
       "    .dataframe thead th {\n",
       "        text-align: right;\n",
       "    }\n",
       "</style>\n",
       "<table border=\"1\" class=\"dataframe\">\n",
       "  <thead>\n",
       "    <tr style=\"text-align: right;\">\n",
       "      <th></th>\n",
       "      <th>db</th>\n",
       "      <th>Login</th>\n",
       "      <th>Group</th>\n",
       "      <th>group</th>\n",
       "      <th>CCY</th>\n",
       "      <th>Deal</th>\n",
       "      <th>Type</th>\n",
       "      <th>Profit</th>\n",
       "      <th>Comment</th>\n",
       "      <th>IO</th>\n",
       "      <th>db2</th>\n",
       "      <th>Login2</th>\n",
       "      <th>Group2</th>\n",
       "      <th>group2</th>\n",
       "      <th>Date</th>\n",
       "      <th>VIG</th>\n",
       "      <th>MNT</th>\n",
       "    </tr>\n",
       "  </thead>\n",
       "  <tbody>\n",
       "  </tbody>\n",
       "</table>\n",
       "</div>"
      ],
      "text/plain": [
       "Empty DataFrame\n",
       "Columns: [db, Login, Group, group, CCY, Deal, Type, Profit, Comment, IO, db2, Login2, Group2, group2, Date, VIG, MNT]\n",
       "Index: []"
      ]
     },
     "execution_count": 5,
     "metadata": {},
     "output_type": "execute_result"
    }
   ],
   "source": [
    "# comment : Rollback\n",
    "# vfxRaw['db2'].fillna(value=20, inplace=False)\n",
    "vfxRaw[vfxRaw['Comment'].str.contains(r'/Rollback')]"
   ]
  },
  {
   "cell_type": "code",
   "execution_count": 9,
   "metadata": {},
   "outputs": [
    {
     "name": "stdout",
     "output_type": "stream",
     "text": [
      "FN Table修改完畢\n"
     ]
    }
   ],
   "source": [
    "# 3. RT_value 確認完畢後複製至vfx2_VIG sheet\n",
    "# 修改RT_value表\n",
    "wbcopy = xw.books(todaynum+'_RTvalue.xlsx')\n",
    "# 使用工作表\n",
    "vfx2_Result = wbcopy.sheets['Result']\n",
    "my_values = vfx2_Result.range('G20:O22').options(ndim=2).value \n",
    "wb.sheets['VFX_VIG'].range('AQ10:AY12').value = my_values\n",
    "print('FN Table修改完畢')"
   ]
  },
  {
   "cell_type": "code",
   "execution_count": 3,
   "metadata": {},
   "outputs": [
    {
     "data": {
      "text/html": [
       "<div>\n",
       "<style scoped>\n",
       "    .dataframe tbody tr th:only-of-type {\n",
       "        vertical-align: middle;\n",
       "    }\n",
       "\n",
       "    .dataframe tbody tr th {\n",
       "        vertical-align: top;\n",
       "    }\n",
       "\n",
       "    .dataframe thead th {\n",
       "        text-align: right;\n",
       "    }\n",
       "</style>\n",
       "<table border=\"1\" class=\"dataframe\">\n",
       "  <thead>\n",
       "    <tr style=\"text-align: right;\">\n",
       "      <th></th>\n",
       "      <th>inner_commission</th>\n",
       "      <th>outer_commission</th>\n",
       "    </tr>\n",
       "    <tr>\n",
       "      <th>mt4Account</th>\n",
       "      <th></th>\n",
       "      <th></th>\n",
       "    </tr>\n",
       "  </thead>\n",
       "  <tbody>\n",
       "    <tr>\n",
       "      <th>5300036</th>\n",
       "      <td>1.641920</td>\n",
       "      <td>0</td>\n",
       "    </tr>\n",
       "    <tr>\n",
       "      <th>5300460</th>\n",
       "      <td>0.200000</td>\n",
       "      <td>0</td>\n",
       "    </tr>\n",
       "    <tr>\n",
       "      <th>5301191</th>\n",
       "      <td>2.789653</td>\n",
       "      <td>0</td>\n",
       "    </tr>\n",
       "    <tr>\n",
       "      <th>5301508</th>\n",
       "      <td>0.704776</td>\n",
       "      <td>0</td>\n",
       "    </tr>\n",
       "    <tr>\n",
       "      <th>5301797</th>\n",
       "      <td>0.265988</td>\n",
       "      <td>0</td>\n",
       "    </tr>\n",
       "  </tbody>\n",
       "</table>\n",
       "</div>"
      ],
      "text/plain": [
       "            inner_commission  outer_commission\n",
       "mt4Account                                    \n",
       "5300036             1.641920                 0\n",
       "5300460             0.200000                 0\n",
       "5301191             2.789653                 0\n",
       "5301508             0.704776                 0\n",
       "5301797             0.265988                 0"
      ]
     },
     "execution_count": 3,
     "metadata": {},
     "output_type": "execute_result"
    }
   ],
   "source": [
    "# 4. 複製貼上Rebate與手動修正\n",
    "# 讀取sales_commission & rebate 合併計算\n",
    "commission = pd.read_excel('VFX_AU3_UK3_sales_commission'+str(today)+'.xlsx' , sheet_name='usd')\n",
    "rebate  = pd.read_excel('VFX_AU3_UK3_rebate_report'+str(today)+'.xlsx' , sheet_name='usd')\n",
    "df = pd.concat([commission, rebate])\n",
    "df = df.groupby(['mt4Account']).agg({'inner_commission': \"sum\", 'outer_commission': \"sum\"})\n",
    "df.head()"
   ]
  },
  {
   "cell_type": "code",
   "execution_count": 4,
   "metadata": {},
   "outputs": [],
   "source": [
    "# # copy pd.df to excel\n",
    "wb = xw.books('B -PNL-vfx2-'+todaynum+'.xlsx')\n",
    "sht = wb.sheets['rebate']\n",
    "rownumber_added = sht.range('A' + str(wb.sheets[0].cells.last_cell.row)).end('up').row + 1\n",
    "sht.range(\"A\"+str(rownumber_added)).options(index=True,header=False).value=df "
   ]
  },
  {
   "cell_type": "code",
   "execution_count": 5,
   "metadata": {},
   "outputs": [
    {
     "name": "stdout",
     "output_type": "stream",
     "text": [
      "[]\n"
     ]
    }
   ],
   "source": [
    "# vfx2\n",
    "files = [f for f in os.listdir('.') if os.path.isfile(f)]\n",
    "r = re.compile(\"^AU3 \")\n",
    "newlist1 = list(filter(r.match, files)) # Read Note\n",
    "r = re.compile(\"^UK3 \")\n",
    "newlist2 = list(filter(r.match, files)) # Read Note\n",
    "rebate_files = newlist1+newlist2\n",
    "print(rebate_files)"
   ]
  },
  {
   "cell_type": "code",
   "execution_count": 6,
   "metadata": {},
   "outputs": [
    {
     "name": "stdout",
     "output_type": "stream",
     "text": [
      "[]\n"
     ]
    }
   ],
   "source": [
    "# 讀取需要手動更改之rebate\n",
    "data = []\n",
    "for i in rebate_files:\n",
    "    print(i)\n",
    "    login = int(i.split()[1].replace(\"-\",\"\"))\n",
    "    wb = xw.Book(i)\n",
    "    sht = wb.sheets[todaymd]\n",
    "    # 刪除 rebate 含有NA的交易紀錄\n",
    "    arrt = sht.range('AD:AD')[3:].value\n",
    "    type(arrt)\n",
    "    arrt =[x for x in arrt if x is not None]\n",
    "    print('P'+str(len(arrt)+4)+':AG500')\n",
    "    sht.range('P'+str(len(arrt)+4)+':AG500').clear()\n",
    "    rebate_arr = [login, sht.range('M10').value, sht.range('N10').value]\n",
    "    print(rebate_arr)\n",
    "    data.append(rebate_arr)\n",
    "    wb.close()\n",
    "print(data)"
   ]
  },
  {
   "cell_type": "code",
   "execution_count": 7,
   "metadata": {},
   "outputs": [
    {
     "data": {
      "text/html": [
       "<div>\n",
       "<style scoped>\n",
       "    .dataframe tbody tr th:only-of-type {\n",
       "        vertical-align: middle;\n",
       "    }\n",
       "\n",
       "    .dataframe tbody tr th {\n",
       "        vertical-align: top;\n",
       "    }\n",
       "\n",
       "    .dataframe thead th {\n",
       "        text-align: right;\n",
       "    }\n",
       "</style>\n",
       "<table border=\"1\" class=\"dataframe\">\n",
       "  <thead>\n",
       "    <tr style=\"text-align: right;\">\n",
       "      <th></th>\n",
       "      <th>mt4Account</th>\n",
       "      <th>inner_new</th>\n",
       "      <th>outer_new</th>\n",
       "    </tr>\n",
       "  </thead>\n",
       "  <tbody>\n",
       "  </tbody>\n",
       "</table>\n",
       "</div>"
      ],
      "text/plain": [
       "Empty DataFrame\n",
       "Columns: [mt4Account, inner_new, outer_new]\n",
       "Index: []"
      ]
     },
     "execution_count": 7,
     "metadata": {},
     "output_type": "execute_result"
    }
   ],
   "source": [
    "df = pd.DataFrame(data, columns=['mt4Account', 'inner_new', 'outer_new'])\n",
    "df.head()"
   ]
  },
  {
   "cell_type": "code",
   "execution_count": 13,
   "metadata": {},
   "outputs": [
    {
     "name": "stdout",
     "output_type": "stream",
     "text": [
      "91012.0\n"
     ]
    }
   ],
   "source": [
    "wb = xw.books('B -PNL-vfx2-'+todaynum+'.xlsx')\n",
    "sht = wb.sheets['rebate']\n",
    "a = sht.range('A:A').value\n",
    "for i in range(len(df.index)):\n",
    "    if df['mt4Account'][i] in a:\n",
    "        index = a.index(df['mt4Account'][i])\n",
    "        # df 取代舊值\n",
    "        print(sht.range('A'+str(index+1)).value)\n",
    "        sht.range('B'+str(index+1)).value = df['inner_new'][i] + df['outer_new'][i]\n",
    "        # sht.range('C'+str(index+1)).value = df['outer_new'][i]\n",
    "        sht.range('A'+str(index+1)+\":\"+'C'+str(index+1)).color = (255,255,0)\n",
    "    else:\n",
    "        print(str(df['mt4Account'][i]) + ' is not in list')\n"
   ]
  }
 ],
 "metadata": {
  "kernelspec": {
   "display_name": "Python 3",
   "language": "python",
   "name": "python3"
  },
  "language_info": {
   "codemirror_mode": {
    "name": "ipython",
    "version": 3
   },
   "file_extension": ".py",
   "mimetype": "text/x-python",
   "name": "python",
   "nbconvert_exporter": "python",
   "pygments_lexer": "ipython3",
   "version": "3.8.5"
  }
 },
 "nbformat": 4,
 "nbformat_minor": 4
}
