{
 "cells": [
  {
   "cell_type": "code",
   "execution_count": 1,
   "metadata": {},
   "outputs": [],
   "source": [
    "from openpyxl import load_workbook\n",
    "import xlwings as xw\n",
    "import os \n",
    "import pandas as pd\n",
    "import numpy as np\n",
    "import re\n",
    "import itertools\n",
    "import datetime\n",
    "from datetime import date,timedelta\n",
    "from xlwings.constants import DeleteShiftDirection"
   ]
  },
  {
   "cell_type": "code",
   "execution_count": 3,
   "metadata": {},
   "outputs": [
    {
     "name": "stdout",
     "output_type": "stream",
     "text": [
      "2021-01-25 20210125 2021-01 0125\n"
     ]
    }
   ],
   "source": [
    "# Return the day of the week as an integer, where Monday is 0 and Sunday is 6. For example, date(2002, 12, 4).weekday() == 2, a Wednesday. See also isoweekday().\n",
    "if date.today().weekday() == 0:\n",
    "    nowDate = date.today() - timedelta(days = 3)\n",
    "else:\n",
    "    nowDate = date.today() - timedelta(days = 1)\n",
    "dateNum = re.sub('-', '', str(nowDate))\n",
    "nowYm = str(nowDate)[:7]\n",
    "nowMD = nowDate.strftime(\"%m%d\")\n",
    "print(nowDate, dateNum , nowYm , nowMD)\n",
    "path = 'C:/Users/0305/Desktop/Daily PNL/'+nowYm+'/'+ nowMD \n",
    "os.chdir(path)"
   ]
  },
  {
   "cell_type": "code",
   "execution_count": 6,
   "metadata": {},
   "outputs": [
    {
     "name": "stdout",
     "output_type": "stream",
     "text": [
      "20210125\n"
     ]
    }
   ],
   "source": [
    "# 今日日期\n",
    "today = date.today()\n",
    "d = timedelta(days = 1)\n",
    "today = today-d\n",
    "todaynum = str(today)[0:4] + str(today)[5:7] + str(today)[8:10]\n",
    "print(todaynum)\n",
    "todaymd = todaynum[4:]\n",
    "\n",
    "path = 'C:/Users/0305/Desktop/Daily PNL/2021-01/'+ todaymd \n",
    "os.chdir(path)"
   ]
  },
  {
   "cell_type": "code",
   "execution_count": 7,
   "metadata": {},
   "outputs": [
    {
     "data": {
      "text/html": [
       "<div>\n",
       "<style scoped>\n",
       "    .dataframe tbody tr th:only-of-type {\n",
       "        vertical-align: middle;\n",
       "    }\n",
       "\n",
       "    .dataframe tbody tr th {\n",
       "        vertical-align: top;\n",
       "    }\n",
       "\n",
       "    .dataframe thead th {\n",
       "        text-align: right;\n",
       "    }\n",
       "</style>\n",
       "<table border=\"1\" class=\"dataframe\">\n",
       "  <thead>\n",
       "    <tr style=\"text-align: right;\">\n",
       "      <th></th>\n",
       "      <th>Login</th>\n",
       "      <th>row</th>\n",
       "      <th>nday</th>\n",
       "      <th>BALANCE_PREV</th>\n",
       "      <th>PROFIT_CLOSED</th>\n",
       "      <th>DEPOSIT</th>\n",
       "      <th>BALANCE</th>\n",
       "      <th>PROFIT</th>\n",
       "      <th>CREDIT</th>\n",
       "      <th>EQUITY</th>\n",
       "      <th>MARGIN</th>\n",
       "      <th>MARGIN_FREE</th>\n",
       "    </tr>\n",
       "  </thead>\n",
       "  <tbody>\n",
       "    <tr>\n",
       "      <th>0</th>\n",
       "      <td>6214790</td>\n",
       "      <td>26470</td>\n",
       "      <td>1</td>\n",
       "      <td>7284864</td>\n",
       "      <td>23111</td>\n",
       "      <td>0</td>\n",
       "      <td>7307975</td>\n",
       "      <td>51049</td>\n",
       "      <td>0</td>\n",
       "      <td>7359024</td>\n",
       "      <td>40687.184361</td>\n",
       "      <td>7.318337e+06</td>\n",
       "    </tr>\n",
       "    <tr>\n",
       "      <th>1</th>\n",
       "      <td>6214790</td>\n",
       "      <td>26169</td>\n",
       "      <td>2</td>\n",
       "      <td>7259016</td>\n",
       "      <td>25848</td>\n",
       "      <td>0</td>\n",
       "      <td>7284864</td>\n",
       "      <td>48259</td>\n",
       "      <td>0</td>\n",
       "      <td>7333123</td>\n",
       "      <td>24620.214674</td>\n",
       "      <td>7.308503e+06</td>\n",
       "    </tr>\n",
       "  </tbody>\n",
       "</table>\n",
       "</div>"
      ],
      "text/plain": [
       "     Login    row  nday  BALANCE_PREV  PROFIT_CLOSED  DEPOSIT  BALANCE  \\\n",
       "0  6214790  26470     1       7284864          23111        0  7307975   \n",
       "1  6214790  26169     2       7259016          25848        0  7284864   \n",
       "\n",
       "   PROFIT  CREDIT   EQUITY        MARGIN   MARGIN_FREE  \n",
       "0   51049       0  7359024  40687.184361  7.318337e+06  \n",
       "1   48259       0  7333123  24620.214674  7.308503e+06  "
      ]
     },
     "execution_count": 7,
     "metadata": {},
     "output_type": "execute_result"
    }
   ],
   "source": [
    "# 1.修正PL balance + Closed balance + Deposit = balance\n",
    "# equity change\n",
    "equity_change = pd.read_csv('equity_change_vfx2.csv')\n",
    "equity_change.head(20)"
   ]
  },
  {
   "cell_type": "code",
   "execution_count": 8,
   "metadata": {},
   "outputs": [],
   "source": [
    "wb = xw.books('B -PNL-vfx2-'+str(todaynum)+'.xlsx')\n",
    "sht = wb.sheets['equity']"
   ]
  },
  {
   "cell_type": "code",
   "execution_count": 9,
   "metadata": {},
   "outputs": [],
   "source": [
    "# 更改第一天權益\n",
    "wb = xw.books('B -PNL-vfx2-'+str(todaynum)+'.xlsx')\n",
    "sht = wb.sheets['equity']\n",
    "df = equity_change[equity_change['nday']==1]\n",
    "for i in range(len(df.index)):\n",
    "    rownum = df.iloc[i, 1]\n",
    "    value = df.iloc[i, 3:]\n",
    "    # print(rownum)\n",
    "    # print(type(value))\n",
    "    # print(value.values)\n",
    "    sht.range('D'+str(rownum)+\":L\"+str(rownum)).value = value.values\n",
    "    sht.range('D'+str(rownum)+\":L\"+str(rownum)).color = (255,255,0)\n",
    "# 更改第二天權益\n",
    "sht = wb.sheets['equity_Y']\n",
    "df = equity_change[equity_change['nday']==2]\n",
    "for i in range(len(df.index)):\n",
    "    rownum = df.iloc[i, 1]\n",
    "    value = df.iloc[i, 3:]\n",
    "    # print(rownum)\n",
    "    # print(type(value))\n",
    "    # print(value.values)\n",
    "    sht.range('D'+str(rownum)+\":L\"+str(rownum)).value = value.values\n",
    "    sht.range('D'+str(rownum)+\":L\"+str(rownum)).color = (255,255,0)"
   ]
  },
  {
   "cell_type": "code",
   "execution_count": 10,
   "metadata": {},
   "outputs": [
    {
     "name": "stdout",
     "output_type": "stream",
     "text": [
      "今日無解歸檔資料\n"
     ]
    }
   ],
   "source": [
    "# 檢查是否有SWAP.csv 如果有則進行swap修正\n",
    "files = [f for f in os.listdir('.') if os.path.isfile(f)]\n",
    "r = re.compile(\"vfx2_swap.csv\")\n",
    "swap_list = list(filter(r.match, files)) # Read Note\n",
    "swap_list\n",
    "if len(swap_list)>0:\n",
    "    # 2.檢查解歸檔 修正SWAP\n",
    "    swap = pd.read_csv('vfx2_swap.csv')\n",
    "    swap.head()\n",
    "    # 如當日有解歸檔則進行swap修正\n",
    "    if swap.shape[0] > 0:\n",
    "        # 開啟swap sheet \n",
    "        sht = wb.sheets['swap']\n",
    "        for i in range(swap.shape[0]):\n",
    "            swap.loc[i,'excel_row']\n",
    "            sht.range('I'+str(swap.loc[i,'excel_row'])).value = sht.range('J'+str(swap.loc[i,'excel_row'])).value\n",
    "        print('解歸檔資料整理完畢')\n",
    "else: \n",
    "    print('今日無解歸檔資料')"
   ]
  },
  {
   "cell_type": "code",
   "execution_count": 11,
   "metadata": {},
   "outputs": [
    {
     "data": {
      "text/html": [
       "<div>\n",
       "<style scoped>\n",
       "    .dataframe tbody tr th:only-of-type {\n",
       "        vertical-align: middle;\n",
       "    }\n",
       "\n",
       "    .dataframe tbody tr th {\n",
       "        vertical-align: top;\n",
       "    }\n",
       "\n",
       "    .dataframe thead th {\n",
       "        text-align: right;\n",
       "    }\n",
       "</style>\n",
       "<table border=\"1\" class=\"dataframe\">\n",
       "  <thead>\n",
       "    <tr style=\"text-align: right;\">\n",
       "      <th></th>\n",
       "      <th>db</th>\n",
       "      <th>Login</th>\n",
       "      <th>Group</th>\n",
       "      <th>group</th>\n",
       "      <th>CCY</th>\n",
       "      <th>Deal</th>\n",
       "      <th>Type</th>\n",
       "      <th>Profit</th>\n",
       "      <th>Comment</th>\n",
       "      <th>IO</th>\n",
       "      <th>db2</th>\n",
       "      <th>Login2</th>\n",
       "      <th>Group2</th>\n",
       "      <th>group2</th>\n",
       "      <th>Date</th>\n",
       "      <th>VIG</th>\n",
       "      <th>MNT</th>\n",
       "    </tr>\n",
       "  </thead>\n",
       "  <tbody>\n",
       "    <tr>\n",
       "      <th>0</th>\n",
       "      <td>VAU3</td>\n",
       "      <td>6202487</td>\n",
       "      <td>M_VIGM_10_USD</td>\n",
       "      <td>M</td>\n",
       "      <td>USD</td>\n",
       "      <td>2895169</td>\n",
       "      <td>balance</td>\n",
       "      <td>15.65</td>\n",
       "      <td>Transfer In from 66302</td>\n",
       "      <td>in</td>\n",
       "      <td>VAU3</td>\n",
       "      <td>66302</td>\n",
       "      <td>R_REBAT_VIG_USD</td>\n",
       "      <td>R</td>\n",
       "      <td>2021-01-25</td>\n",
       "      <td>1</td>\n",
       "      <td>1</td>\n",
       "    </tr>\n",
       "    <tr>\n",
       "      <th>1</th>\n",
       "      <td>VAU3</td>\n",
       "      <td>6204018</td>\n",
       "      <td>M_VIGT_P_USD</td>\n",
       "      <td>M</td>\n",
       "      <td>USD</td>\n",
       "      <td>2919848</td>\n",
       "      <td>balance</td>\n",
       "      <td>10.34</td>\n",
       "      <td>Transfer In from 6576</td>\n",
       "      <td>in</td>\n",
       "      <td>VAU2</td>\n",
       "      <td>6576</td>\n",
       "      <td>R_REBAT_VIG_USD</td>\n",
       "      <td>R</td>\n",
       "      <td>2021-01-25</td>\n",
       "      <td>1</td>\n",
       "      <td>1</td>\n",
       "    </tr>\n",
       "    <tr>\n",
       "      <th>2</th>\n",
       "      <td>VAU3</td>\n",
       "      <td>6204018</td>\n",
       "      <td>M_VIGT_P_USD</td>\n",
       "      <td>M</td>\n",
       "      <td>USD</td>\n",
       "      <td>2919853</td>\n",
       "      <td>balance</td>\n",
       "      <td>68.44</td>\n",
       "      <td>Transfer In from 63258</td>\n",
       "      <td>in</td>\n",
       "      <td>VAU2</td>\n",
       "      <td>63258</td>\n",
       "      <td>R_REBAT_VIG_USD</td>\n",
       "      <td>R</td>\n",
       "      <td>2021-01-25</td>\n",
       "      <td>1</td>\n",
       "      <td>1</td>\n",
       "    </tr>\n",
       "    <tr>\n",
       "      <th>3</th>\n",
       "      <td>VAU3</td>\n",
       "      <td>6204018</td>\n",
       "      <td>M_VIGT_P_USD</td>\n",
       "      <td>M</td>\n",
       "      <td>USD</td>\n",
       "      <td>2919856</td>\n",
       "      <td>balance</td>\n",
       "      <td>112.03</td>\n",
       "      <td>Transfer In from 66317</td>\n",
       "      <td>in</td>\n",
       "      <td>VAU3</td>\n",
       "      <td>66317</td>\n",
       "      <td>R_REBAT_VIG_USD</td>\n",
       "      <td>R</td>\n",
       "      <td>2021-01-25</td>\n",
       "      <td>1</td>\n",
       "      <td>1</td>\n",
       "    </tr>\n",
       "    <tr>\n",
       "      <th>4</th>\n",
       "      <td>VAU3</td>\n",
       "      <td>6204018</td>\n",
       "      <td>M_VIGT_P_USD</td>\n",
       "      <td>M</td>\n",
       "      <td>USD</td>\n",
       "      <td>2919866</td>\n",
       "      <td>balance</td>\n",
       "      <td>21.72</td>\n",
       "      <td>Transfer In from 68368</td>\n",
       "      <td>in</td>\n",
       "      <td>VAU3</td>\n",
       "      <td>68368</td>\n",
       "      <td>R_REBATBK_V_USD</td>\n",
       "      <td>R</td>\n",
       "      <td>2021-01-25</td>\n",
       "      <td>1</td>\n",
       "      <td>1</td>\n",
       "    </tr>\n",
       "  </tbody>\n",
       "</table>\n",
       "</div>"
      ],
      "text/plain": [
       "     db    Login          Group group  CCY     Deal     Type  Profit  \\\n",
       "0  VAU3  6202487  M_VIGM_10_USD     M  USD  2895169  balance   15.65   \n",
       "1  VAU3  6204018   M_VIGT_P_USD     M  USD  2919848  balance   10.34   \n",
       "2  VAU3  6204018   M_VIGT_P_USD     M  USD  2919853  balance   68.44   \n",
       "3  VAU3  6204018   M_VIGT_P_USD     M  USD  2919856  balance  112.03   \n",
       "4  VAU3  6204018   M_VIGT_P_USD     M  USD  2919866  balance   21.72   \n",
       "\n",
       "                  Comment  IO   db2  Login2           Group2 group2  \\\n",
       "0  Transfer In from 66302  in  VAU3   66302  R_REBAT_VIG_USD      R   \n",
       "1   Transfer In from 6576  in  VAU2    6576  R_REBAT_VIG_USD      R   \n",
       "2  Transfer In from 63258  in  VAU2   63258  R_REBAT_VIG_USD      R   \n",
       "3  Transfer In from 66317  in  VAU3   66317  R_REBAT_VIG_USD      R   \n",
       "4  Transfer In from 68368  in  VAU3   68368  R_REBATBK_V_USD      R   \n",
       "\n",
       "         Date  VIG  MNT  \n",
       "0  2021-01-25    1    1  \n",
       "1  2021-01-25    1    1  \n",
       "2  2021-01-25    1    1  \n",
       "3  2021-01-25    1    1  \n",
       "4  2021-01-25    1    1  "
      ]
     },
     "execution_count": 11,
     "metadata": {},
     "output_type": "execute_result"
    }
   ],
   "source": [
    "# 讀取RT_value表\n",
    "vfxRaw = pd.read_excel(str(todaynum)+'_RTvalue.xlsx' , sheet_name= 'VFX2_Raw')\n",
    "vfxRaw.head()"
   ]
  },
  {
   "cell_type": "code",
   "execution_count": 12,
   "metadata": {},
   "outputs": [
    {
     "name": "stdout",
     "output_type": "stream",
     "text": [
      "[] []\n"
     ]
    }
   ],
   "source": [
    "# 1.刪除GROUP含有CAN字串\n",
    "# vfxRaw[vfxRaw['Group'].str.contains(r'CAN')]\n",
    "# type(np.where(vfxRaw['Group'].str.contains(r'CAN'))[0])\n",
    "can_rowsnumber = np.where(vfxRaw['Group'].str.contains(r'CAN'))[0]\n",
    "# 2.刪除COMMENT含有/div\n",
    "div_rowsnumber = np.where(vfxRaw['Comment'].str.contains(r'/div'))[0]\n",
    "# 3.填補rollback group\n",
    "vfxRaw['db2'].fillna(value=vfxRaw.groupby('Login')['db2'].unique(), inplace=True)\n",
    "rollback = vfxRaw[vfxRaw['Comment'].str.contains(r'/Rollback')]\n",
    "print(can_rowsnumber, div_rowsnumber)\n"
   ]
  },
  {
   "cell_type": "code",
   "execution_count": 13,
   "metadata": {},
   "outputs": [
    {
     "data": {
      "text/html": [
       "<div>\n",
       "<style scoped>\n",
       "    .dataframe tbody tr th:only-of-type {\n",
       "        vertical-align: middle;\n",
       "    }\n",
       "\n",
       "    .dataframe tbody tr th {\n",
       "        vertical-align: top;\n",
       "    }\n",
       "\n",
       "    .dataframe thead th {\n",
       "        text-align: right;\n",
       "    }\n",
       "</style>\n",
       "<table border=\"1\" class=\"dataframe\">\n",
       "  <thead>\n",
       "    <tr style=\"text-align: right;\">\n",
       "      <th></th>\n",
       "      <th>db</th>\n",
       "      <th>Login</th>\n",
       "      <th>Group</th>\n",
       "      <th>group</th>\n",
       "      <th>CCY</th>\n",
       "      <th>Deal</th>\n",
       "      <th>Type</th>\n",
       "      <th>Profit</th>\n",
       "      <th>Comment</th>\n",
       "      <th>IO</th>\n",
       "      <th>db2</th>\n",
       "      <th>Login2</th>\n",
       "      <th>Group2</th>\n",
       "      <th>group2</th>\n",
       "      <th>Date</th>\n",
       "      <th>VIG</th>\n",
       "      <th>MNT</th>\n",
       "    </tr>\n",
       "  </thead>\n",
       "  <tbody>\n",
       "  </tbody>\n",
       "</table>\n",
       "</div>"
      ],
      "text/plain": [
       "Empty DataFrame\n",
       "Columns: [db, Login, Group, group, CCY, Deal, Type, Profit, Comment, IO, db2, Login2, Group2, group2, Date, VIG, MNT]\n",
       "Index: []"
      ]
     },
     "execution_count": 13,
     "metadata": {},
     "output_type": "execute_result"
    }
   ],
   "source": [
    "# comment : Rollback\n",
    "# vfxRaw['db2'].fillna(value=20, inplace=False)\n",
    "vfxRaw[vfxRaw['Comment'].str.contains(r'/Rollback')]"
   ]
  },
  {
   "cell_type": "code",
   "execution_count": 15,
   "metadata": {},
   "outputs": [
    {
     "name": "stdout",
     "output_type": "stream",
     "text": [
      "FN Table修改完畢\n"
     ]
    }
   ],
   "source": [
    "# 3. RT_value 確認完畢後複製至vfx2_VIG sheet\n",
    "# 修改RT_value表\n",
    "wbcopy = xw.books(todaynum+'_RTvalue.xlsx')\n",
    "# 使用工作表\n",
    "vfx2_Result = wbcopy.sheets['Result']\n",
    "my_values = vfx2_Result.range('G20:O22').options(ndim=2).value \n",
    "wb.sheets['VFX_VIG'].range('AQ10:AY12').value = my_values\n",
    "print('FN Table修改完畢')"
   ]
  },
  {
   "cell_type": "code",
   "execution_count": 28,
   "metadata": {},
   "outputs": [
    {
     "ename": "FileNotFoundError",
     "evalue": "[Errno 2] No such file or directory: 'VFX_AU3_UK3_sales_commission2021-01-22.xlsx'",
     "output_type": "error",
     "traceback": [
      "\u001b[1;31m---------------------------------------------------------------------------\u001b[0m",
      "\u001b[1;31mFileNotFoundError\u001b[0m                         Traceback (most recent call last)",
      "\u001b[1;32m<ipython-input-28-7d0e1c4acd34>\u001b[0m in \u001b[0;36m<module>\u001b[1;34m\u001b[0m\n\u001b[0;32m      1\u001b[0m \u001b[1;31m# 4. 複製貼上Rebate與手動修正\u001b[0m\u001b[1;33m\u001b[0m\u001b[1;33m\u001b[0m\u001b[1;33m\u001b[0m\u001b[0m\n\u001b[0;32m      2\u001b[0m \u001b[1;31m# 讀取sales_commission & rebate 合併計算\u001b[0m\u001b[1;33m\u001b[0m\u001b[1;33m\u001b[0m\u001b[1;33m\u001b[0m\u001b[0m\n\u001b[1;32m----> 3\u001b[1;33m \u001b[0mcommission\u001b[0m \u001b[1;33m=\u001b[0m \u001b[0mpd\u001b[0m\u001b[1;33m.\u001b[0m\u001b[0mread_excel\u001b[0m\u001b[1;33m(\u001b[0m\u001b[1;34m'VFX_AU3_UK3_sales_commission'\u001b[0m\u001b[1;33m+\u001b[0m\u001b[0mstr\u001b[0m\u001b[1;33m(\u001b[0m\u001b[0mtoday\u001b[0m\u001b[1;33m)\u001b[0m\u001b[1;33m+\u001b[0m\u001b[1;34m'.xlsx'\u001b[0m \u001b[1;33m,\u001b[0m \u001b[0msheet_name\u001b[0m\u001b[1;33m=\u001b[0m\u001b[1;34m'usd'\u001b[0m\u001b[1;33m)\u001b[0m\u001b[1;33m\u001b[0m\u001b[1;33m\u001b[0m\u001b[0m\n\u001b[0m\u001b[0;32m      4\u001b[0m \u001b[0mrebate\u001b[0m  \u001b[1;33m=\u001b[0m \u001b[0mpd\u001b[0m\u001b[1;33m.\u001b[0m\u001b[0mread_excel\u001b[0m\u001b[1;33m(\u001b[0m\u001b[1;34m'VFX_AU3_UK3_rebate_report'\u001b[0m\u001b[1;33m+\u001b[0m\u001b[0mstr\u001b[0m\u001b[1;33m(\u001b[0m\u001b[0mtoday\u001b[0m\u001b[1;33m)\u001b[0m\u001b[1;33m+\u001b[0m\u001b[1;34m'.xlsx'\u001b[0m \u001b[1;33m,\u001b[0m \u001b[0msheet_name\u001b[0m\u001b[1;33m=\u001b[0m\u001b[1;34m'usd'\u001b[0m\u001b[1;33m)\u001b[0m\u001b[1;33m\u001b[0m\u001b[1;33m\u001b[0m\u001b[0m\n\u001b[0;32m      5\u001b[0m \u001b[0mdf\u001b[0m \u001b[1;33m=\u001b[0m \u001b[0mpd\u001b[0m\u001b[1;33m.\u001b[0m\u001b[0mconcat\u001b[0m\u001b[1;33m(\u001b[0m\u001b[1;33m[\u001b[0m\u001b[0mcommission\u001b[0m\u001b[1;33m,\u001b[0m \u001b[0mrebate\u001b[0m\u001b[1;33m]\u001b[0m\u001b[1;33m)\u001b[0m\u001b[1;33m\u001b[0m\u001b[1;33m\u001b[0m\u001b[0m\n",
      "\u001b[1;32m~\\Anaconda3\\lib\\site-packages\\pandas\\util\\_decorators.py\u001b[0m in \u001b[0;36mwrapper\u001b[1;34m(*args, **kwargs)\u001b[0m\n\u001b[0;32m    294\u001b[0m                 )\n\u001b[0;32m    295\u001b[0m                 \u001b[0mwarnings\u001b[0m\u001b[1;33m.\u001b[0m\u001b[0mwarn\u001b[0m\u001b[1;33m(\u001b[0m\u001b[0mmsg\u001b[0m\u001b[1;33m,\u001b[0m \u001b[0mFutureWarning\u001b[0m\u001b[1;33m,\u001b[0m \u001b[0mstacklevel\u001b[0m\u001b[1;33m=\u001b[0m\u001b[0mstacklevel\u001b[0m\u001b[1;33m)\u001b[0m\u001b[1;33m\u001b[0m\u001b[1;33m\u001b[0m\u001b[0m\n\u001b[1;32m--> 296\u001b[1;33m             \u001b[1;32mreturn\u001b[0m \u001b[0mfunc\u001b[0m\u001b[1;33m(\u001b[0m\u001b[1;33m*\u001b[0m\u001b[0margs\u001b[0m\u001b[1;33m,\u001b[0m \u001b[1;33m**\u001b[0m\u001b[0mkwargs\u001b[0m\u001b[1;33m)\u001b[0m\u001b[1;33m\u001b[0m\u001b[1;33m\u001b[0m\u001b[0m\n\u001b[0m\u001b[0;32m    297\u001b[0m \u001b[1;33m\u001b[0m\u001b[0m\n\u001b[0;32m    298\u001b[0m         \u001b[1;32mreturn\u001b[0m \u001b[0mwrapper\u001b[0m\u001b[1;33m\u001b[0m\u001b[1;33m\u001b[0m\u001b[0m\n",
      "\u001b[1;32m~\\Anaconda3\\lib\\site-packages\\pandas\\io\\excel\\_base.py\u001b[0m in \u001b[0;36mread_excel\u001b[1;34m(io, sheet_name, header, names, index_col, usecols, squeeze, dtype, engine, converters, true_values, false_values, skiprows, nrows, na_values, keep_default_na, na_filter, verbose, parse_dates, date_parser, thousands, comment, skipfooter, convert_float, mangle_dupe_cols)\u001b[0m\n\u001b[0;32m    302\u001b[0m \u001b[1;33m\u001b[0m\u001b[0m\n\u001b[0;32m    303\u001b[0m     \u001b[1;32mif\u001b[0m \u001b[1;32mnot\u001b[0m \u001b[0misinstance\u001b[0m\u001b[1;33m(\u001b[0m\u001b[0mio\u001b[0m\u001b[1;33m,\u001b[0m \u001b[0mExcelFile\u001b[0m\u001b[1;33m)\u001b[0m\u001b[1;33m:\u001b[0m\u001b[1;33m\u001b[0m\u001b[1;33m\u001b[0m\u001b[0m\n\u001b[1;32m--> 304\u001b[1;33m         \u001b[0mio\u001b[0m \u001b[1;33m=\u001b[0m \u001b[0mExcelFile\u001b[0m\u001b[1;33m(\u001b[0m\u001b[0mio\u001b[0m\u001b[1;33m,\u001b[0m \u001b[0mengine\u001b[0m\u001b[1;33m=\u001b[0m\u001b[0mengine\u001b[0m\u001b[1;33m)\u001b[0m\u001b[1;33m\u001b[0m\u001b[1;33m\u001b[0m\u001b[0m\n\u001b[0m\u001b[0;32m    305\u001b[0m     \u001b[1;32melif\u001b[0m \u001b[0mengine\u001b[0m \u001b[1;32mand\u001b[0m \u001b[0mengine\u001b[0m \u001b[1;33m!=\u001b[0m \u001b[0mio\u001b[0m\u001b[1;33m.\u001b[0m\u001b[0mengine\u001b[0m\u001b[1;33m:\u001b[0m\u001b[1;33m\u001b[0m\u001b[1;33m\u001b[0m\u001b[0m\n\u001b[0;32m    306\u001b[0m         raise ValueError(\n",
      "\u001b[1;32m~\\Anaconda3\\lib\\site-packages\\pandas\\io\\excel\\_base.py\u001b[0m in \u001b[0;36m__init__\u001b[1;34m(self, path_or_buffer, engine)\u001b[0m\n\u001b[0;32m    865\u001b[0m         \u001b[0mself\u001b[0m\u001b[1;33m.\u001b[0m\u001b[0m_io\u001b[0m \u001b[1;33m=\u001b[0m \u001b[0mstringify_path\u001b[0m\u001b[1;33m(\u001b[0m\u001b[0mpath_or_buffer\u001b[0m\u001b[1;33m)\u001b[0m\u001b[1;33m\u001b[0m\u001b[1;33m\u001b[0m\u001b[0m\n\u001b[0;32m    866\u001b[0m \u001b[1;33m\u001b[0m\u001b[0m\n\u001b[1;32m--> 867\u001b[1;33m         \u001b[0mself\u001b[0m\u001b[1;33m.\u001b[0m\u001b[0m_reader\u001b[0m \u001b[1;33m=\u001b[0m \u001b[0mself\u001b[0m\u001b[1;33m.\u001b[0m\u001b[0m_engines\u001b[0m\u001b[1;33m[\u001b[0m\u001b[0mengine\u001b[0m\u001b[1;33m]\u001b[0m\u001b[1;33m(\u001b[0m\u001b[0mself\u001b[0m\u001b[1;33m.\u001b[0m\u001b[0m_io\u001b[0m\u001b[1;33m)\u001b[0m\u001b[1;33m\u001b[0m\u001b[1;33m\u001b[0m\u001b[0m\n\u001b[0m\u001b[0;32m    868\u001b[0m \u001b[1;33m\u001b[0m\u001b[0m\n\u001b[0;32m    869\u001b[0m     \u001b[1;32mdef\u001b[0m \u001b[0m__fspath__\u001b[0m\u001b[1;33m(\u001b[0m\u001b[0mself\u001b[0m\u001b[1;33m)\u001b[0m\u001b[1;33m:\u001b[0m\u001b[1;33m\u001b[0m\u001b[1;33m\u001b[0m\u001b[0m\n",
      "\u001b[1;32m~\\Anaconda3\\lib\\site-packages\\pandas\\io\\excel\\_xlrd.py\u001b[0m in \u001b[0;36m__init__\u001b[1;34m(self, filepath_or_buffer)\u001b[0m\n\u001b[0;32m     20\u001b[0m         \u001b[0merr_msg\u001b[0m \u001b[1;33m=\u001b[0m \u001b[1;34m\"Install xlrd >= 1.0.0 for Excel support\"\u001b[0m\u001b[1;33m\u001b[0m\u001b[1;33m\u001b[0m\u001b[0m\n\u001b[0;32m     21\u001b[0m         \u001b[0mimport_optional_dependency\u001b[0m\u001b[1;33m(\u001b[0m\u001b[1;34m\"xlrd\"\u001b[0m\u001b[1;33m,\u001b[0m \u001b[0mextra\u001b[0m\u001b[1;33m=\u001b[0m\u001b[0merr_msg\u001b[0m\u001b[1;33m)\u001b[0m\u001b[1;33m\u001b[0m\u001b[1;33m\u001b[0m\u001b[0m\n\u001b[1;32m---> 22\u001b[1;33m         \u001b[0msuper\u001b[0m\u001b[1;33m(\u001b[0m\u001b[1;33m)\u001b[0m\u001b[1;33m.\u001b[0m\u001b[0m__init__\u001b[0m\u001b[1;33m(\u001b[0m\u001b[0mfilepath_or_buffer\u001b[0m\u001b[1;33m)\u001b[0m\u001b[1;33m\u001b[0m\u001b[1;33m\u001b[0m\u001b[0m\n\u001b[0m\u001b[0;32m     23\u001b[0m \u001b[1;33m\u001b[0m\u001b[0m\n\u001b[0;32m     24\u001b[0m     \u001b[1;33m@\u001b[0m\u001b[0mproperty\u001b[0m\u001b[1;33m\u001b[0m\u001b[1;33m\u001b[0m\u001b[0m\n",
      "\u001b[1;32m~\\Anaconda3\\lib\\site-packages\\pandas\\io\\excel\\_base.py\u001b[0m in \u001b[0;36m__init__\u001b[1;34m(self, filepath_or_buffer)\u001b[0m\n\u001b[0;32m    351\u001b[0m             \u001b[0mself\u001b[0m\u001b[1;33m.\u001b[0m\u001b[0mbook\u001b[0m \u001b[1;33m=\u001b[0m \u001b[0mself\u001b[0m\u001b[1;33m.\u001b[0m\u001b[0mload_workbook\u001b[0m\u001b[1;33m(\u001b[0m\u001b[0mfilepath_or_buffer\u001b[0m\u001b[1;33m)\u001b[0m\u001b[1;33m\u001b[0m\u001b[1;33m\u001b[0m\u001b[0m\n\u001b[0;32m    352\u001b[0m         \u001b[1;32melif\u001b[0m \u001b[0misinstance\u001b[0m\u001b[1;33m(\u001b[0m\u001b[0mfilepath_or_buffer\u001b[0m\u001b[1;33m,\u001b[0m \u001b[0mstr\u001b[0m\u001b[1;33m)\u001b[0m\u001b[1;33m:\u001b[0m\u001b[1;33m\u001b[0m\u001b[1;33m\u001b[0m\u001b[0m\n\u001b[1;32m--> 353\u001b[1;33m             \u001b[0mself\u001b[0m\u001b[1;33m.\u001b[0m\u001b[0mbook\u001b[0m \u001b[1;33m=\u001b[0m \u001b[0mself\u001b[0m\u001b[1;33m.\u001b[0m\u001b[0mload_workbook\u001b[0m\u001b[1;33m(\u001b[0m\u001b[0mfilepath_or_buffer\u001b[0m\u001b[1;33m)\u001b[0m\u001b[1;33m\u001b[0m\u001b[1;33m\u001b[0m\u001b[0m\n\u001b[0m\u001b[0;32m    354\u001b[0m         \u001b[1;32melif\u001b[0m \u001b[0misinstance\u001b[0m\u001b[1;33m(\u001b[0m\u001b[0mfilepath_or_buffer\u001b[0m\u001b[1;33m,\u001b[0m \u001b[0mbytes\u001b[0m\u001b[1;33m)\u001b[0m\u001b[1;33m:\u001b[0m\u001b[1;33m\u001b[0m\u001b[1;33m\u001b[0m\u001b[0m\n\u001b[0;32m    355\u001b[0m             \u001b[0mself\u001b[0m\u001b[1;33m.\u001b[0m\u001b[0mbook\u001b[0m \u001b[1;33m=\u001b[0m \u001b[0mself\u001b[0m\u001b[1;33m.\u001b[0m\u001b[0mload_workbook\u001b[0m\u001b[1;33m(\u001b[0m\u001b[0mBytesIO\u001b[0m\u001b[1;33m(\u001b[0m\u001b[0mfilepath_or_buffer\u001b[0m\u001b[1;33m)\u001b[0m\u001b[1;33m)\u001b[0m\u001b[1;33m\u001b[0m\u001b[1;33m\u001b[0m\u001b[0m\n",
      "\u001b[1;32m~\\Anaconda3\\lib\\site-packages\\pandas\\io\\excel\\_xlrd.py\u001b[0m in \u001b[0;36mload_workbook\u001b[1;34m(self, filepath_or_buffer)\u001b[0m\n\u001b[0;32m     35\u001b[0m             \u001b[1;32mreturn\u001b[0m \u001b[0mopen_workbook\u001b[0m\u001b[1;33m(\u001b[0m\u001b[0mfile_contents\u001b[0m\u001b[1;33m=\u001b[0m\u001b[0mdata\u001b[0m\u001b[1;33m)\u001b[0m\u001b[1;33m\u001b[0m\u001b[1;33m\u001b[0m\u001b[0m\n\u001b[0;32m     36\u001b[0m         \u001b[1;32melse\u001b[0m\u001b[1;33m:\u001b[0m\u001b[1;33m\u001b[0m\u001b[1;33m\u001b[0m\u001b[0m\n\u001b[1;32m---> 37\u001b[1;33m             \u001b[1;32mreturn\u001b[0m \u001b[0mopen_workbook\u001b[0m\u001b[1;33m(\u001b[0m\u001b[0mfilepath_or_buffer\u001b[0m\u001b[1;33m)\u001b[0m\u001b[1;33m\u001b[0m\u001b[1;33m\u001b[0m\u001b[0m\n\u001b[0m\u001b[0;32m     38\u001b[0m \u001b[1;33m\u001b[0m\u001b[0m\n\u001b[0;32m     39\u001b[0m     \u001b[1;33m@\u001b[0m\u001b[0mproperty\u001b[0m\u001b[1;33m\u001b[0m\u001b[1;33m\u001b[0m\u001b[0m\n",
      "\u001b[1;32m~\\Anaconda3\\lib\\site-packages\\xlrd\\__init__.py\u001b[0m in \u001b[0;36mopen_workbook\u001b[1;34m(filename, logfile, verbosity, use_mmap, file_contents, encoding_override, formatting_info, on_demand, ragged_rows)\u001b[0m\n\u001b[0;32m    109\u001b[0m     \u001b[1;32melse\u001b[0m\u001b[1;33m:\u001b[0m\u001b[1;33m\u001b[0m\u001b[1;33m\u001b[0m\u001b[0m\n\u001b[0;32m    110\u001b[0m         \u001b[0mfilename\u001b[0m \u001b[1;33m=\u001b[0m \u001b[0mos\u001b[0m\u001b[1;33m.\u001b[0m\u001b[0mpath\u001b[0m\u001b[1;33m.\u001b[0m\u001b[0mexpanduser\u001b[0m\u001b[1;33m(\u001b[0m\u001b[0mfilename\u001b[0m\u001b[1;33m)\u001b[0m\u001b[1;33m\u001b[0m\u001b[1;33m\u001b[0m\u001b[0m\n\u001b[1;32m--> 111\u001b[1;33m         \u001b[1;32mwith\u001b[0m \u001b[0mopen\u001b[0m\u001b[1;33m(\u001b[0m\u001b[0mfilename\u001b[0m\u001b[1;33m,\u001b[0m \u001b[1;34m\"rb\"\u001b[0m\u001b[1;33m)\u001b[0m \u001b[1;32mas\u001b[0m \u001b[0mf\u001b[0m\u001b[1;33m:\u001b[0m\u001b[1;33m\u001b[0m\u001b[1;33m\u001b[0m\u001b[0m\n\u001b[0m\u001b[0;32m    112\u001b[0m             \u001b[0mpeek\u001b[0m \u001b[1;33m=\u001b[0m \u001b[0mf\u001b[0m\u001b[1;33m.\u001b[0m\u001b[0mread\u001b[0m\u001b[1;33m(\u001b[0m\u001b[0mpeeksz\u001b[0m\u001b[1;33m)\u001b[0m\u001b[1;33m\u001b[0m\u001b[1;33m\u001b[0m\u001b[0m\n\u001b[0;32m    113\u001b[0m     \u001b[1;32mif\u001b[0m \u001b[0mpeek\u001b[0m \u001b[1;33m==\u001b[0m \u001b[1;34mb\"PK\\x03\\x04\"\u001b[0m\u001b[1;33m:\u001b[0m \u001b[1;31m# a ZIP file\u001b[0m\u001b[1;33m\u001b[0m\u001b[1;33m\u001b[0m\u001b[0m\n",
      "\u001b[1;31mFileNotFoundError\u001b[0m: [Errno 2] No such file or directory: 'VFX_AU3_UK3_sales_commission2021-01-22.xlsx'"
     ]
    }
   ],
   "source": [
    "# 4. 複製貼上Rebate與手動修正\n",
    "# 讀取sales_commission & rebate 合併計算\n",
    "commission = pd.read_excel('VFX_AU3_UK3_sales_commission'+str(today)+'.xlsx' , sheet_name='usd')\n",
    "rebate  = pd.read_excel('VFX_AU3_UK3_rebate_report'+str(today)+'.xlsx' , sheet_name='usd')\n",
    "df = pd.concat([commission, rebate])\n",
    "df = df.groupby(['mt4Account']).agg({'inner_commission': \"sum\", 'outer_commission': \"sum\"})\n",
    "df.head()"
   ]
  },
  {
   "cell_type": "code",
   "execution_count": 4,
   "metadata": {},
   "outputs": [],
   "source": [
    "# # copy pd.df to excel\n",
    "wb = xw.books('B -PNL-vfx2-'+todaynum+'.xlsx')\n",
    "sht = wb.sheets['rebate']\n",
    "rownumber_added = sht.range('A' + str(wb.sheets[0].cells.last_cell.row)).end('up').row + 1\n",
    "sht.range(\"A\"+str(rownumber_added)).options(index=True,header=False).value=df "
   ]
  },
  {
   "cell_type": "code",
   "execution_count": 5,
   "metadata": {},
   "outputs": [
    {
     "name": "stdout",
     "output_type": "stream",
     "text": [
      "[]\n"
     ]
    }
   ],
   "source": [
    "# vfx2\n",
    "files = [f for f in os.listdir('.') if os.path.isfile(f)]\n",
    "r = re.compile(\"^AU3 \")\n",
    "newlist1 = list(filter(r.match, files)) # Read Note\n",
    "r = re.compile(\"^UK3 \")\n",
    "newlist2 = list(filter(r.match, files)) # Read Note\n",
    "rebate_files = newlist1+newlist2\n",
    "print(rebate_files)"
   ]
  },
  {
   "cell_type": "code",
   "execution_count": 6,
   "metadata": {},
   "outputs": [
    {
     "name": "stdout",
     "output_type": "stream",
     "text": [
      "[]\n"
     ]
    }
   ],
   "source": [
    "# 讀取需要手動更改之rebate\n",
    "data = []\n",
    "for i in rebate_files:\n",
    "    print(i)\n",
    "    login = int(i.split()[1].replace(\"-\",\"\"))\n",
    "    wb = xw.Book(i)\n",
    "    sht = wb.sheets[todaymd]\n",
    "    # 刪除 rebate 含有NA的交易紀錄\n",
    "    arrt = sht.range('AD:AD')[3:].value\n",
    "    type(arrt)\n",
    "    arrt =[x for x in arrt if x is not None]\n",
    "    print('P'+str(len(arrt)+4)+':AG500')\n",
    "    sht.range('P'+str(len(arrt)+4)+':AG500').clear()\n",
    "    rebate_arr = [login, sht.range('M10').value, sht.range('N10').value]\n",
    "    print(rebate_arr)\n",
    "    data.append(rebate_arr)\n",
    "    wb.close()\n",
    "print(data)"
   ]
  },
  {
   "cell_type": "code",
   "execution_count": 7,
   "metadata": {},
   "outputs": [
    {
     "data": {
      "text/html": [
       "<div>\n",
       "<style scoped>\n",
       "    .dataframe tbody tr th:only-of-type {\n",
       "        vertical-align: middle;\n",
       "    }\n",
       "\n",
       "    .dataframe tbody tr th {\n",
       "        vertical-align: top;\n",
       "    }\n",
       "\n",
       "    .dataframe thead th {\n",
       "        text-align: right;\n",
       "    }\n",
       "</style>\n",
       "<table border=\"1\" class=\"dataframe\">\n",
       "  <thead>\n",
       "    <tr style=\"text-align: right;\">\n",
       "      <th></th>\n",
       "      <th>mt4Account</th>\n",
       "      <th>inner_new</th>\n",
       "      <th>outer_new</th>\n",
       "    </tr>\n",
       "  </thead>\n",
       "  <tbody>\n",
       "  </tbody>\n",
       "</table>\n",
       "</div>"
      ],
      "text/plain": [
       "Empty DataFrame\n",
       "Columns: [mt4Account, inner_new, outer_new]\n",
       "Index: []"
      ]
     },
     "execution_count": 7,
     "metadata": {},
     "output_type": "execute_result"
    }
   ],
   "source": [
    "df = pd.DataFrame(data, columns=['mt4Account', 'inner_new', 'outer_new'])\n",
    "df.head()"
   ]
  },
  {
   "cell_type": "code",
   "execution_count": 13,
   "metadata": {},
   "outputs": [
    {
     "name": "stdout",
     "output_type": "stream",
     "text": [
      "91012.0\n"
     ]
    }
   ],
   "source": [
    "wb = xw.books('B -PNL-vfx2-'+todaynum+'.xlsx')\n",
    "sht = wb.sheets['rebate']\n",
    "a = sht.range('A:A').value\n",
    "for i in range(len(df.index)):\n",
    "    if df['mt4Account'][i] in a:\n",
    "        index = a.index(df['mt4Account'][i])\n",
    "        # df 取代舊值\n",
    "        print(sht.range('A'+str(index+1)).value)\n",
    "        sht.range('B'+str(index+1)).value = df['inner_new'][i] + df['outer_new'][i]\n",
    "        # sht.range('C'+str(index+1)).value = df['outer_new'][i]\n",
    "        sht.range('A'+str(index+1)+\":\"+'C'+str(index+1)).color = (255,255,0)\n",
    "    else:\n",
    "        print(str(df['mt4Account'][i]) + ' is not in list')\n"
   ]
  }
 ],
 "metadata": {
  "kernelspec": {
   "display_name": "Python 3",
   "language": "python",
   "name": "python3"
  },
  "language_info": {
   "codemirror_mode": {
    "name": "ipython",
    "version": 3
   },
   "file_extension": ".py",
   "mimetype": "text/x-python",
   "name": "python",
   "nbconvert_exporter": "python",
   "pygments_lexer": "ipython3",
   "version": "3.8.5"
  }
 },
 "nbformat": 4,
 "nbformat_minor": 4
}
